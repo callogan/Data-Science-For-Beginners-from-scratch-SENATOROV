{
 "cells": [
  {
   "cell_type": "code",
   "execution_count": null,
   "id": "1f2a9424",
   "metadata": {},
   "outputs": [],
   "source": [
    "\"\"\"Probability space.\"\"\""
   ]
  },
  {
   "cell_type": "code",
   "execution_count": null,
   "id": "14f5d016",
   "metadata": {},
   "outputs": [
    {
     "name": "stdout",
     "output_type": "stream",
     "text": [
      "0.9453125\n"
     ]
    }
   ],
   "source": [
    "# 1\n",
    "\n",
    "\n",
    "import math\n",
    "from itertools import product\n",
    "\n",
    "\n",
    "def main_1() -> None:\n",
    "    \"\"\"Compute prob-ty of getting k_var heads in n_var biased coin tosses.\"\"\"\n",
    "    n_var, k_var = map(int, input().split())\n",
    "    p_var = float(input().replace(\",\", \".\"))\n",
    "\n",
    "    prob = 0.0\n",
    "    for outcome in product((0, 1), repeat=n_var):\n",
    "        h_var = sum(outcome)\n",
    "        if h_var >= k_var:\n",
    "            prob += (p_var**h_var) * ((1 - p_var) ** (n_var - h_var))\n",
    "\n",
    "    print(prob)\n",
    "\n",
    "\n",
    "if __name__ == \"__main__\":\n",
    "    main_1()"
   ]
  },
  {
   "cell_type": "code",
   "execution_count": null,
   "id": "3e2c20f9",
   "metadata": {},
   "outputs": [
    {
     "name": "stdout",
     "output_type": "stream",
     "text": [
      "0.1250000000\n"
     ]
    }
   ],
   "source": [
    "# 2\n",
    "\n",
    "\n",
    "def main_2() -> None:\n",
    "    \"\"\"Compute probability that sum of two uniforms is below a threshold.\"\"\"\n",
    "    c_var, d_var = map(float, input().replace(\",\", \".\").split())\n",
    "\n",
    "    if d_var <= 0:\n",
    "        asym = 0.0\n",
    "    elif d_var >= 2 * c_var:\n",
    "        asym = 1.0\n",
    "    elif d_var <= c_var:\n",
    "        asym = (d_var * d_var) / (2.0 * c_var * c_var)\n",
    "    else: \n",
    "        asym = 1.0 - ((2.0 * c_var - d_var) ** 2) / (2.0 * c_var * c_var)\n",
    "\n",
    "    print(f\"{asym:.10f}\")\n",
    "\n",
    "\n",
    "if __name__ == \"__main__\":\n",
    "    main_2()"
   ]
  },
  {
   "cell_type": "code",
   "execution_count": null,
   "id": "3fc829a6",
   "metadata": {},
   "outputs": [
    {
     "name": "stdout",
     "output_type": "stream",
     "text": [
      "0.533333333333333 0.091666666666667\n"
     ]
    }
   ],
   "source": [
    "# 3\n",
    "\n",
    "\n",
    "def comb(n_smpl: int, k_smpl: int) -> int:\n",
    "    \"\"\"Return binomial coefficient with safe handling of invalid arguments.\"\"\"\n",
    "    if n_smpl < k_smpl:\n",
    "        return 0\n",
    "    return math.comb(n_smpl, k_smpl)\n",
    "\n",
    "\n",
    "def main_3() -> None:\n",
    "    \"\"\"Compute probabilities of at least one green and all same color balls.\"\"\"\n",
    "    r_var, g_var, b_var = map(int, input().split())\n",
    "    num = r_var + g_var + b_var\n",
    "\n",
    "    total = comb(num, 3)\n",
    "\n",
    "    p1 = 1 - comb(r_var + b_var, 3) / total\n",
    "\n",
    "    p2 = (comb(r_var, 3) + comb(g_var, 3) + comb(b_var, 3)) / total\n",
    "\n",
    "    print(f\"{p1:.15f} {p2:.15f}\")\n",
    "\n",
    "\n",
    "if __name__ == \"__main__\":\n",
    "    main_3()"
   ]
  },
  {
   "cell_type": "code",
   "execution_count": null,
   "id": "81e42553",
   "metadata": {},
   "outputs": [
    {
     "name": "stdout",
     "output_type": "stream",
     "text": [
      "4 11\n",
      "fair\n"
     ]
    }
   ],
   "source": [
    "# 4\n",
    "\n",
    "\n",
    "def main_4() -> None:  # pylint: disable=too-many-locals\n",
    "    \"\"\"Determine confidence band for coin test and classify sample.\"\"\"\n",
    "    first_line: str = input()\n",
    "    n_token, conf_token = first_line.split()\n",
    "    n_obj: int = int(n_token)\n",
    "    conf: float = float(conf_token.replace(\",\", \".\"))\n",
    "\n",
    "    second_line: str = input()\n",
    "    seq_tokens: list[str] = second_line.split()\n",
    "    seq: list[int] = [int(x) for x in seq_tokens]\n",
    "    heads: int = sum(seq)\n",
    "\n",
    "    max_k: int = (n_obj - 1) // 2\n",
    "\n",
    "    combs: list[int] = [math.comb(n_obj, h) for h in range(n_obj + 1)]\n",
    "    pref: list[int] = [0]\n",
    "    s_var: int = 0\n",
    "    for h_var in range(n_obj + 1):\n",
    "        s_var += combs[h_var]\n",
    "        pref.append(s_var)  \n",
    "\n",
    "    total: int = 1 << n_obj\n",
    "    eps: float = 1e-12\n",
    "\n",
    "    best_k: int = 0\n",
    "    for k_xmp in range(0, max_k + 1):\n",
    "        central: int = total - 2 * pref[k_xmp]\n",
    "        if central + eps >= conf * total:\n",
    "            best_k = k_xmp\n",
    "\n",
    "    l_var: int = best_k\n",
    "    r_var: int = n_obj - best_k\n",
    "    print(f\"{l_var} {r_var}\")\n",
    "    print(\"fair\" if l_var <= heads <= r_var else \"biased\")\n",
    "\n",
    "\n",
    "if __name__ == \"__main__\":\n",
    "    main_4()"
   ]
  }
 ],
 "metadata": {
  "kernelspec": {
   "display_name": "base",
   "language": "python",
   "name": "python3"
  },
  "language_info": {
   "codemirror_mode": {
    "name": "ipython",
    "version": 3
   },
   "file_extension": ".py",
   "mimetype": "text/x-python",
   "name": "python",
   "nbconvert_exporter": "python",
   "pygments_lexer": "ipython3",
   "version": "3.12.7"
  }
 },
 "nbformat": 4,
 "nbformat_minor": 5
}

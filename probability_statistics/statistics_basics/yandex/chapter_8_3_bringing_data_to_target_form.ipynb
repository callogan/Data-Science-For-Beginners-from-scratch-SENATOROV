{
 "cells": [
  {
   "cell_type": "code",
   "execution_count": null,
   "id": "2d9425a5",
   "metadata": {},
   "outputs": [],
   "source": [
    "\"\"\"Bringing data to the target form.\"\"\""
   ]
  },
  {
   "cell_type": "markdown",
   "id": "d9e1fca9",
   "metadata": {},
   "source": [
    "## Приведение данных к целевому виду"
   ]
  },
  {
   "cell_type": "code",
   "execution_count": null,
   "id": "baa0c32e",
   "metadata": {},
   "outputs": [
    {
     "name": "stdout",
     "output_type": "stream",
     "text": [
      "<class 'pandas.core.frame.DataFrame'>\n",
      "RangeIndex: 1450 entries, 0 to 1449\n",
      "Data columns (total 11 columns):\n",
      " #   Column        Non-Null Count  Dtype \n",
      "---  ------        --------------  ----- \n",
      " 0   type          1450 non-null   object\n",
      " 1   title         1450 non-null   object\n",
      " 2   director      977 non-null    object\n",
      " 3   cast          1260 non-null   object\n",
      " 4   country       1231 non-null   object\n",
      " 5   release_year  1450 non-null   int64 \n",
      " 6   rating        1447 non-null   object\n",
      " 7   duration      1450 non-null   object\n",
      " 8   listed_in     1450 non-null   object\n",
      " 9   description   1450 non-null   object\n",
      " 10  Date          1447 non-null   object\n",
      "dtypes: int64(1), object(10)\n",
      "memory usage: 124.7+ KB\n"
     ]
    }
   ],
   "source": [
    "# 1\n",
    "\n",
    "\n",
    "import io\n",
    "import os\n",
    "\n",
    "import pandas as pd\n",
    "import requests\n",
    "from dotenv import load_dotenv\n",
    "\n",
    "load_dotenv()\n",
    "\n",
    "disney_csv_url = os.environ.get(\"DISNEY_CSV_URL\", \"\")\n",
    "response = requests.get(disney_csv_url)\n",
    "disney_production = pd.read_csv(io.BytesIO(response.content))\n",
    "disney_production.info()"
   ]
  },
  {
   "cell_type": "code",
   "execution_count": null,
   "id": "bcf0a1c2",
   "metadata": {},
   "outputs": [
    {
     "name": "stdout",
     "output_type": "stream",
     "text": [
      "datetime64[ns]\n"
     ]
    }
   ],
   "source": [
    "# 2\n",
    "\n",
    "\n",
    "disney_production[\"Date\"] = pd.to_datetime(disney_production[\"Date\"], errors=\"coerce\")\n",
    "print(disney_production[\"Date\"].dtype)"
   ]
  },
  {
   "cell_type": "code",
   "execution_count": null,
   "id": "8e62e711",
   "metadata": {},
   "outputs": [
    {
     "name": "stdout",
     "output_type": "stream",
     "text": [
      "325                                         Burrow\n",
      "326                        Cosmos: Possible Worlds\n",
      "327    Disney Gallery / Star Wars: The Mandalorian\n",
      "328                          Max Keeble's Big Move\n",
      "329                                           Soul\n",
      "330                      Arendelle Castle Yule Log\n",
      "331                       Buried Truth of the Maya\n",
      "332                    Disney Parks Sunrise Series\n",
      "333                                Dory's Reef Cam\n",
      "334                                 Into the Woods\n",
      "Name: title, dtype: object\n"
     ]
    }
   ],
   "source": [
    "# 3\n",
    "\n",
    "\n",
    "filtered = disney_production.query(\"'2020-01-01' <= Date < '2021-01-01'\")\n",
    "print(filtered[\"title\"].head(10))"
   ]
  },
  {
   "cell_type": "code",
   "execution_count": null,
   "id": "2bbf87b2",
   "metadata": {},
   "outputs": [
    {
     "name": "stdout",
     "output_type": "stream",
     "text": [
      "['type', 'title', 'director', 'cast', 'country', 'rating', 'duration', 'listed_in', 'description', 'Date']\n"
     ]
    }
   ],
   "source": [
    "# 4\n",
    "\n",
    "\n",
    "print(list(disney_production.drop(columns=[\"release_year\"])))"
   ]
  },
  {
   "cell_type": "code",
   "execution_count": null,
   "id": "1e29ec89",
   "metadata": {},
   "outputs": [
    {
     "name": "stdout",
     "output_type": "stream",
     "text": [
      "['Type', 'Title', 'Director', 'Cast', 'Country', 'Release_year', 'Rating', 'Duration', 'Listed_in', 'Description', 'Date']\n"
     ]
    }
   ],
   "source": [
    "# 5\n",
    "\n",
    "\n",
    "renamed_data = disney_production.copy()\n",
    "renamed_data.columns = pd.Index([col.capitalize() for col in renamed_data.columns])\n",
    "print(list(renamed_data.columns))"
   ]
  },
  {
   "cell_type": "code",
   "execution_count": null,
   "id": "9d29dc2e",
   "metadata": {},
   "outputs": [
    {
     "name": "stdout",
     "output_type": "stream",
     "text": [
      "1445        Action-Adventure, Family, Science Fiction\n",
      "1446                 Action-Adventure, Comedy, Family\n",
      "1447                      Biographical, Comedy, Drama\n",
      "1448                     Buddy, Comedy, Coming of Age\n",
      "1449    Action-Adventure, Animals , Nature, Animation\n",
      "Name: listed_in1, dtype: object\n"
     ]
    }
   ],
   "source": [
    "# 6\n",
    "\n",
    "\n",
    "disney_production[\"listed_in1\"] = disney_production[\"listed_in\"].str.replace(\"&\", \",\")\n",
    "print(disney_production[\"listed_in1\"].tail())"
   ]
  },
  {
   "cell_type": "code",
   "execution_count": null,
   "id": "606d52f5",
   "metadata": {},
   "outputs": [
    {
     "name": "stdout",
     "output_type": "stream",
     "text": [
      "type              0\n",
      "title             0\n",
      "director        473\n",
      "cast            190\n",
      "country         219\n",
      "release_year      0\n",
      "rating            3\n",
      "duration          0\n",
      "listed_in         0\n",
      "description       0\n",
      "Date              3\n",
      "listed_in1        0\n",
      "dtype: int64\n"
     ]
    }
   ],
   "source": [
    "# 7\n",
    "\n",
    "\n",
    "omitted_values_count = disney_production.isnull().sum()\n",
    "print(omitted_values_count)"
   ]
  },
  {
   "cell_type": "code",
   "execution_count": null,
   "id": "0f3baa62",
   "metadata": {},
   "outputs": [
    {
     "name": "stdout",
     "output_type": "stream",
     "text": [
      "type            0\n",
      "title           0\n",
      "director        0\n",
      "cast            0\n",
      "country         0\n",
      "release_year    0\n",
      "rating          0\n",
      "duration        0\n",
      "listed_in       0\n",
      "description     0\n",
      "Date            0\n",
      "listed_in1      0\n",
      "dtype: int64\n"
     ]
    }
   ],
   "source": [
    "# 8\n",
    "\n",
    "\n",
    "data_cleaned = disney_production.dropna()\n",
    "print(data_cleaned.isnull().sum())"
   ]
  },
  {
   "cell_type": "code",
   "execution_count": null,
   "id": "b34d229c",
   "metadata": {},
   "outputs": [
    {
     "name": "stdout",
     "output_type": "stream",
     "text": [
      "type             0.00\n",
      "title            0.00\n",
      "director        32.62\n",
      "cast            13.10\n",
      "country         15.10\n",
      "release_year     0.00\n",
      "rating           0.21\n",
      "duration         0.00\n",
      "listed_in        0.00\n",
      "description      0.00\n",
      "Date             0.21\n",
      "listed_in1       0.00\n",
      "dtype: float64\n"
     ]
    }
   ],
   "source": [
    "# 9\n",
    "\n",
    "\n",
    "omitted_percentage = (disney_production.isnull().sum() / len(disney_production)) * 100\n",
    "omitted_percentage_rounded = omitted_percentage.round(2)\n",
    "print(omitted_percentage_rounded)"
   ]
  },
  {
   "cell_type": "code",
   "execution_count": null,
   "id": "9637760f",
   "metadata": {},
   "outputs": [
    {
     "name": "stdout",
     "output_type": "stream",
     "text": [
      "0    Country not specified\n",
      "1    Country not specified\n",
      "2            United States\n",
      "3    Country not specified\n",
      "4    Country not specified\n",
      "Name: country, dtype: object\n"
     ]
    }
   ],
   "source": [
    "# 10\n",
    "\n",
    "\n",
    "disney_production[\"country\"] = disney_production[\"country\"].fillna(\n",
    "    \"Country not specified\"\n",
    ")\n",
    "print(disney_production[\"country\"].head())"
   ]
  }
 ],
 "metadata": {
  "kernelspec": {
   "display_name": "base",
   "language": "python",
   "name": "python3"
  },
  "language_info": {
   "codemirror_mode": {
    "name": "ipython",
    "version": 3
   },
   "file_extension": ".py",
   "mimetype": "text/x-python",
   "name": "python",
   "nbconvert_exporter": "python",
   "pygments_lexer": "ipython3",
   "version": "3.12.8"
  }
 },
 "nbformat": 4,
 "nbformat_minor": 5
}

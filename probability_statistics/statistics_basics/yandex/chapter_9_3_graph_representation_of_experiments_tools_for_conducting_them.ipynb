{
 "cells": [
  {
   "cell_type": "code",
   "execution_count": 18,
   "id": "9427ad88",
   "metadata": {},
   "outputs": [
    {
     "data": {
      "text/plain": [
       "'Graphical representation of experiments, tools for conducting them.'"
      ]
     },
     "execution_count": 18,
     "metadata": {},
     "output_type": "execute_result"
    }
   ],
   "source": [
    "\"\"\"Graphical representation of experiments, tools for conducting them.\"\"\""
   ]
  },
  {
   "cell_type": "markdown",
   "id": "877afdb2",
   "metadata": {},
   "source": [
    "## Графическое представление экспериментов, инструменты для их проведения"
   ]
  },
  {
   "cell_type": "code",
   "execution_count": null,
   "id": "c05de03c",
   "metadata": {},
   "outputs": [
    {
     "name": "stdout",
     "output_type": "stream",
     "text": [
      "(500, 20)\n"
     ]
    }
   ],
   "source": [
    "# 1\n",
    "\n",
    "\n",
    "import io\n",
    "import os\n",
    "\n",
    "import pandas as pd\n",
    "import requests\n",
    "from dotenv import load_dotenv\n",
    "\n",
    "load_dotenv()\n",
    "\n",
    "patient_survival_csv_url = os.environ.get(\"PATIENT_SURVIVAL_CSV_URL\", \"\")\n",
    "response = requests.get(patient_survival_csv_url)\n",
    "patient_survival = pd.read_csv(io.BytesIO(response.content))\n",
    "\n",
    "print(patient_survival.sample(500).shape)"
   ]
  },
  {
   "cell_type": "code",
   "execution_count": 20,
   "id": "54f83593",
   "metadata": {},
   "outputs": [
    {
     "name": "stdout",
     "output_type": "stream",
     "text": [
      "(60, 5)\n"
     ]
    }
   ],
   "source": [
    "# 2\n",
    "\n",
    "\n",
    "cols = [\n",
    "    \"Patient_Age\",\n",
    "    \"Patient_Body_Mass_Index\",\n",
    "    \"Patient_Smoker\",\n",
    "    \"Diagnosed_Condition\",\n",
    "    \"Survived_1_year\",\n",
    "]\n",
    "\n",
    "\n",
    "sampled = pd.concat(\n",
    "    [\n",
    "        group[cols].sample(30, random_state=42)\n",
    "        for _, group in patient_survival.groupby(\"Treated_with_drugs\")\n",
    "    ],\n",
    "    ignore_index=True,\n",
    ")\n",
    "\n",
    "print(sampled.shape)"
   ]
  },
  {
   "cell_type": "code",
   "execution_count": 21,
   "id": "7e257379",
   "metadata": {},
   "outputs": [
    {
     "name": "stdout",
     "output_type": "stream",
     "text": [
      "1\n"
     ]
    }
   ],
   "source": [
    "# 3\n",
    "\n",
    "\n",
    "print(1)"
   ]
  },
  {
   "cell_type": "code",
   "execution_count": 22,
   "id": "a1b0a6a2",
   "metadata": {},
   "outputs": [
    {
     "name": "stdout",
     "output_type": "stream",
     "text": [
      "3\n"
     ]
    }
   ],
   "source": [
    "# 4\n",
    "\n",
    "\n",
    "print(3)"
   ]
  },
  {
   "cell_type": "code",
   "execution_count": 23,
   "id": "56c1985a",
   "metadata": {},
   "outputs": [
    {
     "name": "stdout",
     "output_type": "stream",
     "text": [
      "3\n"
     ]
    }
   ],
   "source": [
    "# 5\n",
    "\n",
    "\n",
    "print(3)"
   ]
  },
  {
   "cell_type": "code",
   "execution_count": 24,
   "id": "b5bdbd6c",
   "metadata": {},
   "outputs": [
    {
     "name": "stdout",
     "output_type": "stream",
     "text": [
      "2\n"
     ]
    }
   ],
   "source": [
    "# 6\n",
    "\n",
    "\n",
    "print(2)"
   ]
  },
  {
   "cell_type": "code",
   "execution_count": 25,
   "id": "e71af77d",
   "metadata": {},
   "outputs": [
    {
     "name": "stdout",
     "output_type": "stream",
     "text": [
      "1\n"
     ]
    }
   ],
   "source": [
    "# 7\n",
    "\n",
    "\n",
    "print(1)"
   ]
  },
  {
   "cell_type": "code",
   "execution_count": 26,
   "id": "7b51939f",
   "metadata": {},
   "outputs": [
    {
     "name": "stdout",
     "output_type": "stream",
     "text": [
      "1\n"
     ]
    }
   ],
   "source": [
    "# 8\n",
    "\n",
    "\n",
    "print(1)"
   ]
  },
  {
   "cell_type": "code",
   "execution_count": 27,
   "id": "30db7774",
   "metadata": {},
   "outputs": [
    {
     "name": "stdout",
     "output_type": "stream",
     "text": [
      "1\n"
     ]
    }
   ],
   "source": [
    "# 9\n",
    "\n",
    "\n",
    "print(1)"
   ]
  }
 ],
 "metadata": {
  "kernelspec": {
   "display_name": "base",
   "language": "python",
   "name": "python3"
  },
  "language_info": {
   "codemirror_mode": {
    "name": "ipython",
    "version": 3
   },
   "file_extension": ".py",
   "mimetype": "text/x-python",
   "name": "python",
   "nbconvert_exporter": "python",
   "pygments_lexer": "ipython3",
   "version": "3.12.8"
  }
 },
 "nbformat": 4,
 "nbformat_minor": 5
}

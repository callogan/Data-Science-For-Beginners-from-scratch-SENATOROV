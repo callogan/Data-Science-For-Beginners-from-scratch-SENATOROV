{
 "cells": [
  {
   "cell_type": "code",
   "execution_count": 4,
   "id": "bbec215a",
   "metadata": {},
   "outputs": [
    {
     "data": {
      "text/plain": [
       "'Variables in programming.'"
      ]
     },
     "execution_count": 4,
     "metadata": {},
     "output_type": "execute_result"
    }
   ],
   "source": [
    "\"\"\"Variables in programming.\"\"\""
   ]
  },
  {
   "cell_type": "markdown",
   "id": "6f9259d3",
   "metadata": {},
   "source": [
    "## Переменные в программировании"
   ]
  },
  {
   "cell_type": "code",
   "execution_count": null,
   "id": "0d9ecfa9",
   "metadata": {},
   "outputs": [
    {
     "name": "stdout",
     "output_type": "stream",
     "text": [
      "7.769\n",
      "2.853\n"
     ]
    }
   ],
   "source": [
    "# 1\n",
    "\n",
    "\n",
    "import io\n",
    "import os\n",
    "\n",
    "import pandas as pd\n",
    "import requests\n",
    "from dotenv import load_dotenv\n",
    "\n",
    "load_dotenv()\n",
    "\n",
    "_2019_csv_url = os.environ.get(\"2019_CSV_URL\", \"\")\n",
    "response = requests.get(_2019_csv_url)\n",
    "hapiness_report = pd.read_csv(io.BytesIO(response.content))\n",
    "\n",
    "max_score = hapiness_report[\"Score\"].max()\n",
    "min_score = hapiness_report[\"Score\"].min()\n",
    "\n",
    "print(max_score)\n",
    "print(min_score)"
   ]
  },
  {
   "cell_type": "code",
   "execution_count": null,
   "id": "dfbfdb5f",
   "metadata": {},
   "outputs": [
    {
     "name": "stdout",
     "output_type": "stream",
     "text": [
      "5.407\n"
     ]
    }
   ],
   "source": [
    "# 2\n",
    "\n",
    "\n",
    "mean_score = hapiness_report[\"Score\"].mean()\n",
    "\n",
    "print(round(mean_score, 3))"
   ]
  },
  {
   "cell_type": "code",
   "execution_count": null,
   "id": "8cf917da",
   "metadata": {},
   "outputs": [
    {
     "name": "stdout",
     "output_type": "stream",
     "text": [
      "5.38\n"
     ]
    }
   ],
   "source": [
    "# 3\n",
    "\n",
    "\n",
    "median_score = hapiness_report[\"Score\"].median()\n",
    "\n",
    "print(round(median_score, 3))"
   ]
  },
  {
   "cell_type": "code",
   "execution_count": null,
   "id": "4ecd6c92",
   "metadata": {},
   "outputs": [
    {
     "name": "stdout",
     "output_type": "stream",
     "text": [
      "5.208\n"
     ]
    }
   ],
   "source": [
    "# 4\n",
    "\n",
    "\n",
    "std_score_1 = hapiness_report[\"Score\"].mode()[0]\n",
    "\n",
    "print(std_score_1)"
   ]
  },
  {
   "cell_type": "code",
   "execution_count": null,
   "id": "6c5175b1",
   "metadata": {},
   "outputs": [
    {
     "name": "stdout",
     "output_type": "stream",
     "text": [
      "1.113\n"
     ]
    }
   ],
   "source": [
    "# 5\n",
    "\n",
    "\n",
    "std_score_2 = hapiness_report[\"Score\"].std()  # type: float\n",
    "\n",
    "print(round(std_score_2, 3))"
   ]
  },
  {
   "cell_type": "code",
   "execution_count": null,
   "id": "5a3be39d",
   "metadata": {},
   "outputs": [
    {
     "name": "stdout",
     "output_type": "stream",
     "text": [
      "['Finland', 'Denmark', 'Norway', 'Iceland', 'Netherlands', 'Switzerland', 'Sweden', 'New Zealand', 'Canada', 'Austria']\n"
     ]
    }
   ],
   "source": [
    "# 6\n",
    "# fmt: off\n",
    "\n",
    "\n",
    "top10 = (\n",
    "    hapiness_report\n",
    "    .sort_values(by=\"Score\", ascending=False)\n",
    "    [\"Country or region\"]\n",
    "    .head(10)\n",
    "    .tolist()\n",
    ")\n",
    "\n",
    "print(top10)\n",
    "# fmt: on"
   ]
  },
  {
   "cell_type": "code",
   "execution_count": null,
   "id": "d762f37a",
   "metadata": {},
   "outputs": [
    {
     "name": "stdout",
     "output_type": "stream",
     "text": [
      "141.203\n"
     ]
    }
   ],
   "source": [
    "# 7\n",
    "\n",
    "\n",
    "gdp_sum = hapiness_report[\"GDP per capita\"].sum()\n",
    "\n",
    "print(round(gdp_sum, 3))"
   ]
  },
  {
   "cell_type": "code",
   "execution_count": null,
   "id": "fd631919",
   "metadata": {},
   "outputs": [
    {
     "name": "stdout",
     "output_type": "stream",
     "text": [
      "13.87\n"
     ]
    }
   ],
   "source": [
    "# 8\n",
    "\n",
    "\n",
    "gdp_sum_top10 = hapiness_report[\"GDP per capita\"].head(10).sum()\n",
    "\n",
    "print(round(gdp_sum_top10, 3))"
   ]
  }
 ],
 "metadata": {
  "kernelspec": {
   "display_name": "base",
   "language": "python",
   "name": "python3"
  },
  "language_info": {
   "codemirror_mode": {
    "name": "ipython",
    "version": 3
   },
   "file_extension": ".py",
   "mimetype": "text/x-python",
   "name": "python",
   "nbconvert_exporter": "python",
   "pygments_lexer": "ipython3",
   "version": "3.12.8"
  }
 },
 "nbformat": 4,
 "nbformat_minor": 5
}

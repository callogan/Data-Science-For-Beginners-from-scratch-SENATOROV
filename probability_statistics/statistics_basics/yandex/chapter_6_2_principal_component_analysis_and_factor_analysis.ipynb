{
 "cells": [
  {
   "cell_type": "code",
   "execution_count": 5,
   "id": "eb3724f2",
   "metadata": {},
   "outputs": [
    {
     "data": {
      "text/plain": [
       "'Principal component analysis and factor analysis.'"
      ]
     },
     "execution_count": 5,
     "metadata": {},
     "output_type": "execute_result"
    }
   ],
   "source": [
    "\"\"\"Principal component analysis and factor analysis.\"\"\""
   ]
  },
  {
   "cell_type": "markdown",
   "id": "3cad2188",
   "metadata": {},
   "source": [
    "## Метод главных компонент и факторный анализ"
   ]
  },
  {
   "cell_type": "code",
   "execution_count": null,
   "id": "7c576d54",
   "metadata": {},
   "outputs": [
    {
     "name": "stderr",
     "output_type": "stream",
     "text": [
      "C:\\Users\\Ruslan\\AppData\\Local\\Temp\\ipykernel_27016\\1759873800.py:7: DtypeWarning: Columns (340,341,408,411,412,413,414,416,421,422,423,424,426,431,436,441) have mixed types. Specify dtype option on import or set low_memory=False.\n",
      "  world_wave = pd.read_csv(\"WV6_Data_csv_v20201117.csv\", sep=\";\")\n"
     ]
    },
    {
     "name": "stdout",
     "output_type": "stream",
     "text": [
      "V1              int64\n",
      "V2              int64\n",
      "V2A             int64\n",
      "COW             int64\n",
      "C_COW_ALPHA    object\n",
      "                ...  \n",
      "I_VOICE1       object\n",
      "I_VOICE2       object\n",
      "I_VOI2_00      object\n",
      "VOICE          object\n",
      "WEIGHT4B       object\n",
      "Length: 442, dtype: object\n"
     ]
    }
   ],
   "source": [
    "# 1\n",
    "\n",
    "import pandas as pd\n",
    "\n",
    "world_wave = pd.read_csv(\"WV6_Data_csv_v20201117.csv\", sep=\";\")\n",
    "\n",
    "print(world_wave.dtypes)"
   ]
  },
  {
   "cell_type": "code",
   "execution_count": 7,
   "id": "1a419d9c",
   "metadata": {},
   "outputs": [
    {
     "name": "stdout",
     "output_type": "stream",
     "text": [
      "4\n"
     ]
    }
   ],
   "source": [
    "# 2\n",
    "\n",
    "print(4)"
   ]
  },
  {
   "cell_type": "code",
   "execution_count": 8,
   "id": "1ce7a94d",
   "metadata": {},
   "outputs": [
    {
     "name": "stdout",
     "output_type": "stream",
     "text": [
      "V119 V120 V121 V122 V123\n"
     ]
    }
   ],
   "source": [
    "# 3\n",
    "\n",
    "\n",
    "print(\"V119\", \"V120\", \"V121\", \"V122\", \"V123\")"
   ]
  },
  {
   "cell_type": "code",
   "execution_count": 9,
   "id": "e6d58d9c",
   "metadata": {},
   "outputs": [
    {
     "name": "stdout",
     "output_type": "stream",
     "text": [
      "V108 V109 V117 V118\n"
     ]
    }
   ],
   "source": [
    "# 4\n",
    "\n",
    "\n",
    "print(\"V108\", \"V109\", \"V117\", \"V118\")"
   ]
  },
  {
   "cell_type": "code",
   "execution_count": 10,
   "id": "b7011672",
   "metadata": {},
   "outputs": [
    {
     "name": "stdout",
     "output_type": "stream",
     "text": [
      "V117\n"
     ]
    }
   ],
   "source": [
    "# 5\n",
    "\n",
    "\n",
    "print(\"V117\")"
   ]
  }
 ],
 "metadata": {
  "kernelspec": {
   "display_name": "base",
   "language": "python",
   "name": "python3"
  },
  "language_info": {
   "codemirror_mode": {
    "name": "ipython",
    "version": 3
   },
   "file_extension": ".py",
   "mimetype": "text/x-python",
   "name": "python",
   "nbconvert_exporter": "python",
   "pygments_lexer": "ipython3",
   "version": "3.12.8"
  }
 },
 "nbformat": 4,
 "nbformat_minor": 5
}

{
 "cells": [
  {
   "cell_type": "code",
   "execution_count": null,
   "id": "ea3730cf",
   "metadata": {},
   "outputs": [],
   "source": [
    "\"\"\"Basic statistical tests in Python.\"\"\""
   ]
  },
  {
   "cell_type": "markdown",
   "id": "0836252c",
   "metadata": {},
   "source": [
    "## Базовые статистические тесты в Python"
   ]
  },
  {
   "cell_type": "code",
   "execution_count": null,
   "id": "9d69ab3b",
   "metadata": {},
   "outputs": [
    {
     "name": "stdout",
     "output_type": "stream",
     "text": [
      "Jeff Kinney\n"
     ]
    }
   ],
   "source": [
    "# 1\n",
    "\n",
    "\n",
    "import io\n",
    "import os\n",
    "\n",
    "import pandas as pd\n",
    "import requests\n",
    "from dotenv import load_dotenv\n",
    "from scipy.stats import f_oneway, levene, ttest_ind\n",
    "\n",
    "load_dotenv()\n",
    "\n",
    "popular_books_csv_url = os.environ.get(\"POPULAR_BOOKS_CSV_URL\", \"\")\n",
    "response = requests.get(popular_books_csv_url)\n",
    "popular_books = pd.read_csv(io.BytesIO(response.content))\n",
    "\n",
    "popular_author = popular_books[\"Author\"].describe()[\"top\"]\n",
    "print(popular_author)"
   ]
  },
  {
   "cell_type": "code",
   "execution_count": null,
   "id": "fcaa9381",
   "metadata": {},
   "outputs": [
    {
     "name": "stdout",
     "output_type": "stream",
     "text": [
      "4.56\n"
     ]
    }
   ],
   "source": [
    "# 2\n",
    "# fmt: off\n",
    "\n",
    "mean_rating_expensive = (\n",
    "    popular_books[popular_books[\"Price (Above Average)\"] == \"Yes\"]\n",
    "    [\"User Rating\"]\n",
    "    .mean()\n",
    ")\n",
    "\n",
    "print(round(mean_rating_expensive, 2))\n",
    "# fmt: on"
   ]
  },
  {
   "cell_type": "code",
   "execution_count": null,
   "id": "b3c98857",
   "metadata": {},
   "outputs": [
    {
     "name": "stdout",
     "output_type": "stream",
     "text": [
      "4.65\n"
     ]
    }
   ],
   "source": [
    "# 3\n",
    "# fmt: off\n",
    "\n",
    "mean_rating_cheap = (\n",
    "    popular_books[popular_books[\"Price (Above Average)\"] == \"No\"]\n",
    "    [\"User Rating\"]\n",
    "    .mean()\n",
    ")\n",
    "\n",
    "print(round(mean_rating_cheap, 2))\n",
    "# fmt: on"
   ]
  },
  {
   "cell_type": "code",
   "execution_count": null,
   "id": "41c57f02",
   "metadata": {},
   "outputs": [
    {
     "name": "stdout",
     "output_type": "stream",
     "text": [
      "0.1\n"
     ]
    }
   ],
   "source": [
    "# 4\n",
    "# fmt: off\n",
    "\n",
    "\n",
    "cheap = (\n",
    "    popular_books[popular_books[\"Price (Above Average)\"] == \"No\"]\n",
    "    [\"User Rating\"]\n",
    ")\n",
    "expensive = (\n",
    "    popular_books[popular_books[\"Price (Above Average)\"] == \"Yes\"]\n",
    "    [\"User Rating\"]\n",
    ")\n",
    "\n",
    "p_value = levene(cheap, expensive).pvalue\n",
    "\n",
    "print(round(p_value, 2))\n",
    "# fmt: on"
   ]
  },
  {
   "cell_type": "code",
   "execution_count": null,
   "id": "8ec78119",
   "metadata": {},
   "outputs": [
    {
     "name": "stdout",
     "output_type": "stream",
     "text": [
      "0.0\n"
     ]
    }
   ],
   "source": [
    "# 5\n",
    "# fmt: off\n",
    "\n",
    "\n",
    "cheap = (\n",
    "    popular_books[popular_books[\"Price (Above Average)\"] == \"No\"]\n",
    "    [\"User Rating\"]\n",
    ")\n",
    "expensive = (\n",
    "    popular_books[popular_books[\"Price (Above Average)\"] == \"Yes\"]\n",
    "    [\"User Rating\"]\n",
    ")\n",
    "\n",
    "p_value = ttest_ind(cheap, expensive).pvalue\n",
    "\n",
    "print(round(p_value, 2))\n",
    "# fmt: on"
   ]
  },
  {
   "cell_type": "code",
   "execution_count": null,
   "id": "98a33edf",
   "metadata": {},
   "outputs": [
    {
     "name": "stdout",
     "output_type": "stream",
     "text": [
      "0.3\n"
     ]
    }
   ],
   "source": [
    "# 6\n",
    "\n",
    "\n",
    "groups = [\n",
    "    popular_books[popular_books[\"User Rating (Round)\"] == val][\"Reviews\"]\n",
    "    for val in popular_books[\"User Rating (Round)\"].unique()\n",
    "]\n",
    "\n",
    "p_value = f_oneway(*groups).pvalue\n",
    "\n",
    "print(round(p_value, 2))"
   ]
  }
 ],
 "metadata": {
  "kernelspec": {
   "display_name": "base",
   "language": "python",
   "name": "python3"
  },
  "language_info": {
   "codemirror_mode": {
    "name": "ipython",
    "version": 3
   },
   "file_extension": ".py",
   "mimetype": "text/x-python",
   "name": "python",
   "nbconvert_exporter": "python",
   "pygments_lexer": "ipython3",
   "version": "3.12.8"
  }
 },
 "nbformat": 4,
 "nbformat_minor": 5
}

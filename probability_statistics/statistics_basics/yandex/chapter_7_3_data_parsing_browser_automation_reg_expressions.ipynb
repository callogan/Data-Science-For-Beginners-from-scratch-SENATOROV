{
 "cells": [
  {
   "cell_type": "code",
   "execution_count": 64,
   "id": "f3f47f81",
   "metadata": {},
   "outputs": [
    {
     "data": {
      "text/plain": [
       "'Data parsing and browser automation, regular expressions.'"
      ]
     },
     "execution_count": 64,
     "metadata": {},
     "output_type": "execute_result"
    }
   ],
   "source": [
    "\"\"\"Data parsing and browser automation, regular expressions.\"\"\""
   ]
  },
  {
   "cell_type": "markdown",
   "id": "d5c3513f",
   "metadata": {},
   "source": [
    "## Парсинг данных и автоматизация браузера, регулярные выражения"
   ]
  },
  {
   "cell_type": "code",
   "execution_count": 65,
   "id": "a1a317ca",
   "metadata": {},
   "outputs": [
    {
     "name": "stdout",
     "output_type": "stream",
     "text": [
      "Аватар: Путь воды (2022) — Кинопоиск\n"
     ]
    }
   ],
   "source": [
    "# 1\n",
    "\n",
    "\n",
    "import re\n",
    "\n",
    "from bs4 import BeautifulSoup, Tag\n",
    "\n",
    "with open(\"kinopoisk.html\", encoding=\"utf-8\") as file:\n",
    "    html = file.read()\n",
    "soup = BeautifulSoup(html, \"html.parser\")\n",
    "\n",
    "if soup.title and isinstance(soup.title.text, str):\n",
    "    title_text = soup.title.text\n",
    "    print(title_text)"
   ]
  },
  {
   "cell_type": "code",
   "execution_count": 66,
   "id": "44eea186",
   "metadata": {},
   "outputs": [
    {
     "name": "stdout",
     "output_type": "stream",
     "text": [
      "Аватар: Путь воды (2022)\n"
     ]
    }
   ],
   "source": [
    "# 2\n",
    "\n",
    "\n",
    "print(title_text.strip().split(\"—\")[0].strip())"
   ]
  },
  {
   "cell_type": "code",
   "execution_count": 67,
   "id": "e313b0d6",
   "metadata": {},
   "outputs": [
    {
     "name": "stdout",
     "output_type": "stream",
     "text": [
      "Джеймс Кэмерон\n"
     ]
    }
   ],
   "source": [
    "# 3\n",
    "\n",
    "\n",
    "directors = [\n",
    "    link.text.strip()\n",
    "    for link in soup.find_all(\"a\")\n",
    "    if isinstance(link, Tag) and \"/name/\" in (link.get(\"href\") or \"\")\n",
    "]\n",
    "if directors:\n",
    "    print(directors[0])"
   ]
  },
  {
   "cell_type": "code",
   "execution_count": 68,
   "id": "3a3c328a",
   "metadata": {},
   "outputs": [
    {
     "name": "stdout",
     "output_type": "stream",
     "text": [
      "После принятия образа аватара солдат Джейк Салли становится предводителем народа на'ви и берет на себя миссию по защите новых друзей от корыстных бизнесменов с Земли. Теперь ему есть за кого бороться — с Джейком его прекрасная возлюбленная Нейтири. Когда на Пандору возвращаются до зубов вооруженные земляне, Джейк готов дать им отпор.\n"
     ]
    }
   ],
   "source": [
    "# 4\n",
    "\n",
    "\n",
    "description_tag = soup.find(\"meta\", attrs={\"name\": \"description\"})\n",
    "if description_tag and isinstance(description_tag, Tag):\n",
    "    description = description_tag.get(\"content\")\n",
    "    if isinstance(description, str):\n",
    "        description = description.strip()\n",
    "        print(description)"
   ]
  },
  {
   "cell_type": "code",
   "execution_count": 69,
   "id": "a30afb4b",
   "metadata": {},
   "outputs": [
    {
     "name": "stdout",
     "output_type": "stream",
     "text": [
      "После\n",
      "Джейк\n",
      "Салли\n",
      "Земли\n",
      "Теперь\n",
      "Джейком\n",
      "Нейтири\n",
      "Когда\n",
      "Пандору\n",
      "Джейк\n"
     ]
    }
   ],
   "source": [
    "# 5\n",
    "\n",
    "\n",
    "description_tag = soup.find(\"meta\", attrs={\"name\": \"description\"})\n",
    "if description_tag and isinstance(description_tag, Tag):\n",
    "    description = description_tag.get(\"content\")\n",
    "    if isinstance(description, str):\n",
    "        description = description.strip()\n",
    "        for word in re.findall(r\"[А-ЯЁ][а-яё]+\", description):\n",
    "            print(word)"
   ]
  },
  {
   "cell_type": "code",
   "execution_count": 70,
   "id": "57590ccb",
   "metadata": {},
   "outputs": [
    {
     "name": "stdout",
     "output_type": "stream",
     "text": [
      "15\n"
     ]
    }
   ],
   "source": [
    "# 6\n",
    "# fmt: off\n",
    "\n",
    "\n",
    "actors = soup.find_all(\n",
    "    \"li\", \n",
    "    class_=\"styles_root__vKDSE styles_rootInLight__EFZzH\"\n",
    ")\n",
    "print(len(actors))\n",
    "# fmt: on"
   ]
  },
  {
   "cell_type": "code",
   "execution_count": 71,
   "id": "8c5dfc7b",
   "metadata": {},
   "outputs": [
    {
     "name": "stdout",
     "output_type": "stream",
     "text": [
      "Сэм Уортингтон\n",
      "Зои Салдана\n",
      "Сигурни Уивер\n",
      "Стивен Лэнг\n",
      "Кейт Уинслет\n",
      "Клифф Кёртис\n",
      "Джоэль Мур\n",
      "Си Си Эйч Паундер\n",
      "Иди Фалько\n",
      "Брендан Коуэлл\n",
      "Александр Ноткин\n",
      "Виктория Павленко\n",
      "Карина Кудекова\n",
      "Денис Анников\n",
      "Ольга Бобрик\n"
     ]
    }
   ],
   "source": [
    "# 7\n",
    "# fmt: off\n",
    "\n",
    "\n",
    "actors = soup.find_all(\n",
    "    \"li\", \n",
    "    class_=\"styles_root__vKDSE styles_rootInLight__EFZzH\"\n",
    ")\n",
    "for actor in actors:\n",
    "    if isinstance(actor.text, str):\n",
    "        print(actor.text)\n",
    "# fmt: on"
   ]
  },
  {
   "cell_type": "code",
   "execution_count": 72,
   "id": "51282a9e",
   "metadata": {},
   "outputs": [
    {
     "name": "stdout",
     "output_type": "stream",
     "text": [
      "99\n"
     ]
    }
   ],
   "source": [
    "# 8\n",
    "\n",
    "\n",
    "a_tags = soup.find_all(\"a\")\n",
    "print(len(a_tags))"
   ]
  },
  {
   "cell_type": "code",
   "execution_count": 73,
   "id": "6289af95",
   "metadata": {},
   "outputs": [
    {
     "name": "stdout",
     "output_type": "stream",
     "text": [
      "/\n",
      "https://hd.kinopoisk.ru/\n",
      "/lists/categories/movies/1/\n",
      "/lists/categories/movies/3/\n",
      "/afisha/new/\n",
      "/media/\n",
      "/\n",
      "https://hd.kinopoisk.ru/\n",
      "https://www.kinopoisk.ru/special/smarttv_instruction?utm_source=kinopoisk&utm_medium=selfpromo_kp&utm_campaign=button_header\n",
      "/s/\n",
      "https://hd.kinopoisk.ru/?source=kinopoisk_head_button\n",
      "/film/505898/posters/\n",
      "/film/505898/video/184911/\n",
      "/lists/movies/year--2022/?b=films&b=top\n",
      "/lists/movies/country--1/?b=films&b=top\n",
      "/lists/movies/genre--sci-fi/?b=films&b=top\n",
      "/lists/movies/genre--fantasy/?b=films&b=top\n",
      "/lists/movies/genre--action/?b=films&b=top\n",
      "/lists/movies/genre--adventure/?b=films&b=top\n",
      "/film/505898/keywords/\n",
      "/name/27977/\n",
      "/name/27977/\n",
      "/name/79192/\n",
      "/name/79193/\n",
      "/film/505898/cast/who_is/writer/\n",
      "/name/27977/\n",
      "/name/37064/\n",
      "/name/2033201/\n",
      "/film/505898/cast/who_is/producer/\n",
      "/name/408797/\n",
      "/name/1345620/\n",
      "/name/2638091/\n",
      "/name/1986747/\n",
      "/name/2008685/\n",
      "/film/505898/cast/who_is/design/\n",
      "/name/2004040/\n",
      "/name/27977/\n",
      "/name/1813202/\n",
      "/film/505898/cast/who_is/editor/\n",
      "/film/505898/box/\n",
      "/film/505898/box/\n",
      "/film/505898/box/\n",
      "/film/505898/box/\n",
      "/film/505898/dates/\n",
      "/film/505898/dates/\n",
      "/film/505898/rn/PG-13/\n",
      "/film/505898/cast/\n",
      "/name/17733/\n",
      "/name/10661/\n",
      "/name/6915/\n",
      "/name/2807/\n",
      "/name/21709/\n",
      "/name/21040/\n",
      "/name/89156/\n",
      "/name/23654/\n",
      "/name/12194/\n",
      "/name/18505/\n",
      "/film/505898/cast/\n",
      "/film/505898/cast/who_is/voice/\n",
      "/name/1802389/\n",
      "/name/7042340/\n",
      "/name/6759513/\n",
      "/name/6344920/\n",
      "/name/4770440/\n",
      "/film/505898/cast/who_is/voice/\n",
      "/film/505898/awards/\n",
      "/film/505898/awards/\n",
      "/film/505898/awards/\n",
      "/film/505898/awards/\n",
      "/film/505898/awards/\n",
      "/film/505898/dates/\n",
      "/film/505898/stills/\n",
      "/film/505898/video/\n",
      "/film/505898/studio/\n",
      "/film/505898/other/\n",
      "/film/505898/reviews/\n",
      "/film/505898/sites/\n",
      "/film/505898/tracks/\n",
      "/film/505898/subscribe/\n",
      "/film/505898/votes/\n",
      "https://vk.com/kinopoisk\n",
      "https://twitter.com/kinopoiskru\n",
      "https://telegram.me/kinopoisk\n",
      "https://www.youtube.com/user/kinopoisk\n",
      "https://yandex.ru/jobs/vacancies?services=kinopoisk\n",
      "https://yandex.ru/adv/products/display/kinopoiskmedia\n",
      "/docs/usage/\n",
      "https://yandex.ru/support/kinopoisk/index.html\n",
      "/media/rubric/19/\n",
      "https://kinopoisk.userecho.com/\n",
      "https://10267.redirect.appmetrica.yandex.com/mainView?appmetrica_tracking_id=170895231946863928\n",
      "https://10267.redirect.appmetrica.yandex.com/?appmetrica_tracking_id=603240792315703184\n",
      "https://10267.redirect.appmetrica.yandex.com/?appmetrica_tracking_id=1179706852124993595\n",
      "https://www.kinopoisk.ru/\n",
      "https://tv.yandex.ru\n",
      "https://music.yandex.ru\n",
      "https://afisha.yandex.ru\n",
      "https://bookmate.ru\n",
      "https://yandex.ru/all\n"
     ]
    }
   ],
   "source": [
    "# 9\n",
    "\n",
    "\n",
    "a_tags = soup.find_all(\"a\")\n",
    "for tag in a_tags:\n",
    "    if isinstance(tag, Tag):\n",
    "        href = tag.get(\"href\")\n",
    "        if isinstance(href, str):\n",
    "            print(href)"
   ]
  }
 ],
 "metadata": {
  "kernelspec": {
   "display_name": "base",
   "language": "python",
   "name": "python3"
  },
  "language_info": {
   "codemirror_mode": {
    "name": "ipython",
    "version": 3
   },
   "file_extension": ".py",
   "mimetype": "text/x-python",
   "name": "python",
   "nbconvert_exporter": "python",
   "pygments_lexer": "ipython3",
   "version": "3.12.8"
  }
 },
 "nbformat": 4,
 "nbformat_minor": 5
}

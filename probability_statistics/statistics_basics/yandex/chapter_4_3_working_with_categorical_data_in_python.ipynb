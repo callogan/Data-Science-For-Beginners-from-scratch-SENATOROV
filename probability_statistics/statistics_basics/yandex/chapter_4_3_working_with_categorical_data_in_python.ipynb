{
 "cells": [
  {
   "cell_type": "code",
   "execution_count": 6,
   "id": "079df046",
   "metadata": {},
   "outputs": [
    {
     "data": {
      "text/plain": [
       "'Working with categorical data in Python.'"
      ]
     },
     "execution_count": 6,
     "metadata": {},
     "output_type": "execute_result"
    }
   ],
   "source": [
    "\"\"\"Working with categorical data in Python.\"\"\""
   ]
  },
  {
   "cell_type": "markdown",
   "id": "f2d583ea",
   "metadata": {},
   "source": [
    "## Работа с категориальными данными в Python"
   ]
  },
  {
   "cell_type": "code",
   "execution_count": null,
   "id": "ade6d759",
   "metadata": {},
   "outputs": [
    {
     "name": "stdout",
     "output_type": "stream",
     "text": [
      "object\n"
     ]
    }
   ],
   "source": [
    "# 1\n",
    "\n",
    "\n",
    "import io\n",
    "import os\n",
    "\n",
    "import pandas as pd\n",
    "import requests\n",
    "from dotenv import load_dotenv\n",
    "from scipy.stats import chi2_contingency\n",
    "\n",
    "load_dotenv()\n",
    "\n",
    "covid_19_csv_url = os.environ.get(\"COVID_19_CSV_URL\", \"\")\n",
    "response = requests.get(covid_19_csv_url)\n",
    "pandemic_impact = pd.read_csv(io.BytesIO(response.content))\n",
    "\n",
    "print(pandemic_impact.dtypes.mode()[0])"
   ]
  },
  {
   "cell_type": "code",
   "execution_count": 8,
   "id": "c442de14",
   "metadata": {},
   "outputs": [
    {
     "name": "stdout",
     "output_type": "stream",
     "text": [
      "0         Good\n",
      "1    Excellent\n",
      "2    Very Poor\n",
      "3    Very Poor\n",
      "4         Good\n",
      "Name: Rating of Online Class experience, dtype: object\n"
     ]
    }
   ],
   "source": [
    "# 2\n",
    "\n",
    "\n",
    "pandemic_impact[\"Rating of Online Class experience\"] = pandemic_impact[\n",
    "    \"Rating of Online Class experience\"\n",
    "].str.title()\n",
    "\n",
    "print(pandemic_impact[\"Rating of Online Class experience\"].head())"
   ]
  },
  {
   "cell_type": "code",
   "execution_count": null,
   "id": "eb59b504",
   "metadata": {},
   "outputs": [
    {
     "name": "stdout",
     "output_type": "stream",
     "text": [
      "529\n"
     ]
    }
   ],
   "source": [
    "# 3\n",
    "\n",
    "\n",
    "load_dotenv()\n",
    "\n",
    "student_responses_csv_url = os.environ.get(\"STUDENT_RESPONSES_CSV_URL\", \"\")\n",
    "response = requests.get(student_responses_csv_url)\n",
    "student_responses = pd.read_csv(io.BytesIO(response.content))\n",
    "\n",
    "\n",
    "sleep_status = []\n",
    "\n",
    "for hours in student_responses[\"Time spent on sleep\"]:\n",
    "    if 6.9 < hours < 9:\n",
    "        sleep_status.append(\"normal\")\n",
    "    else:\n",
    "        sleep_status.append(\"not normal\")\n",
    "\n",
    "student_responses[\"Sleep\"] = sleep_status\n",
    "\n",
    "not_normal_sleep = student_responses[student_responses[\"Sleep\"] == \"not normal\"]\n",
    "\n",
    "print(len(not_normal_sleep))"
   ]
  },
  {
   "cell_type": "code",
   "execution_count": null,
   "id": "8e3b596c",
   "metadata": {},
   "outputs": [
    {
     "name": "stdout",
     "output_type": "stream",
     "text": [
      "float64\n"
     ]
    }
   ],
   "source": [
    "# 4\n",
    "\n",
    "\n",
    "student_responses[\"Time spent on TV\"] = pd.to_numeric(\n",
    "    student_responses[\"Time spent on TV\"], errors=\"coerce\"\n",
    ").fillna(0)\n",
    "\n",
    "print(student_responses[\"Time spent on TV\"].dtype)"
   ]
  },
  {
   "cell_type": "code",
   "execution_count": null,
   "id": "8eff43d8",
   "metadata": {},
   "outputs": [
    {
     "name": "stdout",
     "output_type": "stream",
     "text": [
      "0.24977164627176776\n"
     ]
    }
   ],
   "source": [
    "# 5\n",
    "\n",
    "\n",
    "media_status = []\n",
    "for hours in student_responses[\"Time spent on social media\"]:\n",
    "    if hours < 2:\n",
    "        media_status.append(\"normal\")\n",
    "    else:\n",
    "        media_status.append(\"not normal\")\n",
    "student_responses[\"Media\"] = media_status\n",
    "\n",
    "cross_tab = pd.crosstab(student_responses[\"Sleep\"], student_responses[\"Media\"])\n",
    "\n",
    "chi2, p_var, dof, expected = chi2_contingency(cross_tab)\n",
    "\n",
    "print(chi2)"
   ]
  },
  {
   "cell_type": "code",
   "execution_count": null,
   "id": "7846c54f",
   "metadata": {},
   "outputs": [
    {
     "name": "stdout",
     "output_type": "stream",
     "text": [
      "7.031835024907978\n"
     ]
    }
   ],
   "source": [
    "# 6\n",
    "\n",
    "\n",
    "student_responses[\"Sleep\"] = [\n",
    "    \"normal\" if x > 7 else \"not normal\"\n",
    "    for x in student_responses[\"Time spent on sleep\"]\n",
    "]\n",
    "\n",
    "student_responses[\"Media\"] = [\n",
    "    \"normal\" if x < 2 else \"not normal\"\n",
    "    for x in student_responses[\"Time spent on social media\"]\n",
    "]\n",
    "\n",
    "contingency_table = pd.crosstab(student_responses[\"Sleep\"], student_responses[\"Media\"])\n",
    "\n",
    "chi2, p_value, dof, expected = chi2_contingency(contingency_table)\n",
    "\n",
    "print(chi2)"
   ]
  },
  {
   "cell_type": "code",
   "execution_count": null,
   "id": "dd98712e",
   "metadata": {},
   "outputs": [
    {
     "name": "stdout",
     "output_type": "stream",
     "text": [
      "Series([], Name: count, dtype: int64)\n"
     ]
    }
   ],
   "source": [
    "# 7\n",
    "\n",
    "\n",
    "student_responses[\"Health issue during lockdown\"] = student_responses[\n",
    "    \"Health issue during lockdown\"\n",
    "].map({\"YES\": 1, \"NO\": 0})\n",
    "\n",
    "print(student_responses[\"Health issue during lockdown\"].value_counts())"
   ]
  },
  {
   "cell_type": "code",
   "execution_count": null,
   "id": "c0538f57",
   "metadata": {},
   "outputs": [
    {
     "name": "stdout",
     "output_type": "stream",
     "text": [
      "85\n"
     ]
    }
   ],
   "source": [
    "# 8\n",
    "\n",
    "\n",
    "stress_busters_col = student_responses[\"Stress busters\"]\n",
    "\n",
    "mask = stress_busters_col.str.contains(\"book\")\n",
    "\n",
    "filtered_df = student_responses[mask]\n",
    "\n",
    "count = len(filtered_df)\n",
    "\n",
    "print(count)"
   ]
  },
  {
   "cell_type": "code",
   "execution_count": 22,
   "id": "bac5b82b",
   "metadata": {},
   "outputs": [
    {
     "name": "stdout",
     "output_type": "stream",
     "text": [
      "2.91\n"
     ]
    }
   ],
   "source": [
    "# 9\n",
    "\n",
    "\n",
    "most_popular_platform = student_responses[\"Prefered social media platform\"].mode()[0]\n",
    "\n",
    "filtered_df = student_responses[\n",
    "    student_responses[\"Prefered social media platform\"] == most_popular_platform\n",
    "]\n",
    "\n",
    "average_time = filtered_df[\"Time spent on social media\"].mean()\n",
    "\n",
    "average_time = round(average_time, 2)\n",
    "\n",
    "print(average_time)"
   ]
  },
  {
   "cell_type": "code",
   "execution_count": null,
   "id": "d28bf6bc",
   "metadata": {},
   "outputs": [
    {
     "name": "stdout",
     "output_type": "stream",
     "text": [
      "Talklife 10.0\n"
     ]
    }
   ],
   "source": [
    "# 10\n",
    "\n",
    "\n",
    "grouped = student_responses.groupby(by=\"Prefered social media platform\")[\n",
    "    \"Time spent on social media\"\n",
    "]\n",
    "\n",
    "mean_time = grouped.mean()\n",
    "\n",
    "sorted_mean_time = mean_time.sort_values(ascending=False)\n",
    "\n",
    "most_spend_time_platform = sorted_mean_time\n",
    "\n",
    "top_platform = most_spend_time_platform.index[0]\n",
    "top_time = most_spend_time_platform.values[0]\n",
    "\n",
    "print(top_platform, top_time)"
   ]
  }
 ],
 "metadata": {
  "kernelspec": {
   "display_name": "Python 3",
   "language": "python",
   "name": "python3"
  },
  "language_info": {
   "codemirror_mode": {
    "name": "ipython",
    "version": 3
   },
   "file_extension": ".py",
   "mimetype": "text/x-python",
   "name": "python",
   "nbconvert_exporter": "python",
   "pygments_lexer": "ipython3",
   "version": "3.12.8"
  }
 },
 "nbformat": 4,
 "nbformat_minor": 5
}

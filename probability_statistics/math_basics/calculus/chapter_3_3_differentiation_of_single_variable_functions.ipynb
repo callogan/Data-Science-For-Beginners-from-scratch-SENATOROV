{
 "cells": [
  {
   "cell_type": "code",
   "execution_count": 3,
   "id": "c3b716ed",
   "metadata": {},
   "outputs": [
    {
     "data": {
      "text/plain": [
       "'Differentiation of single variable functions.'"
      ]
     },
     "execution_count": 3,
     "metadata": {},
     "output_type": "execute_result"
    }
   ],
   "source": [
    "\"\"\"Differentiation of single variable functions.\"\"\""
   ]
  },
  {
   "cell_type": "code",
   "execution_count": null,
   "id": "9b36e4cc",
   "metadata": {},
   "outputs": [
    {
     "name": "stdout",
     "output_type": "stream",
     "text": [
      "Local maximum at x = 1.00000\n",
      "f(x) = 19.00000\n",
      "Local minimum at x = 3.00000\n",
      "f(x) = 15.00000\n"
     ]
    }
   ],
   "source": [
    "# 1\n",
    "\n",
    "\n",
    "import math\n",
    "\n",
    "\n",
    "def main_1() -> None:\n",
    "    \"\"\"Find and classify critical points of a cubic polynomial.\"\"\"\n",
    "    a_var, b_var, c_var, d_var = map(float, input().split())\n",
    "    p_var, q_var = map(float, input().split())\n",
    "\n",
    "    critical_points = []\n",
    "\n",
    "    if a_var != 0:\n",
    "        d_var = b_var**2 - 3 * a_var * c_var\n",
    "        if d_var > 0:\n",
    "            x1 = (-b_var + math.sqrt(d_var)) / (3 * a_var)\n",
    "            x2 = (-b_var - math.sqrt(d_var)) / (3 * a_var)\n",
    "            critical_points.extend([x1, x2])\n",
    "        elif d_var == 0:\n",
    "            x_var = -b_var / (3 * a_var)\n",
    "            critical_points.append(x_var)\n",
    "    elif b_var != 0:\n",
    "        x_var = -c_var / (2 * b_var)\n",
    "        critical_points.append(x_var)\n",
    "\n",
    "    critical_points = [x for x in critical_points if p_var <= x <= q_var]\n",
    "\n",
    "    if not critical_points:\n",
    "        print(\"No critical points found.\")\n",
    "    else:\n",
    "        results = []\n",
    "        for x_var in critical_points:\n",
    "            fxx = 6 * a_var * x_var + 2 * b_var\n",
    "            if fxx > 0:\n",
    "                kind = \"Local minimum\"\n",
    "            elif fxx < 0:\n",
    "                kind = \"Local maximum\"\n",
    "            else:\n",
    "                kind = \"Saddle point\"\n",
    "            fx = a_var * x_var**3 + b_var * x_var**2 + c_var * x_var + d_var\n",
    "            results.append((x_var, kind, fx))\n",
    "\n",
    "        results.sort(key=lambda item: item[0])\n",
    "\n",
    "        for x_var, kind, fx in results:\n",
    "            print(f\"{kind} at x_var = {x_var:.5f}\")\n",
    "            print(f\"f(x_var) = {fx:.5f}\")\n",
    "\n",
    "\n",
    "if __name__ == \"__main__\":\n",
    "    main_1()"
   ]
  },
  {
   "cell_type": "code",
   "execution_count": null,
   "id": "4fb47c0f",
   "metadata": {},
   "outputs": [
    {
     "name": "stdout",
     "output_type": "stream",
     "text": [
      "Root found: x = 3.000000\n",
      "Number of iterations: 4\n"
     ]
    }
   ],
   "source": [
    "# 2\n",
    "\n",
    "\n",
    "def main_2() -> None:\n",
    "    \"\"\"Find a root of a quadratic function using Newton's method.\"\"\"\n",
    "    a_smpl, b_smpl, c_smpl = map(float, input().split())\n",
    "    x_smpl = float(input())\n",
    "    epsilon = float(input())\n",
    "\n",
    "    max_iter = 1000\n",
    "    iteration = 0\n",
    "\n",
    "    while iteration < max_iter:\n",
    "        fx = a_smpl * x_smpl**2 + b_smpl * x_smpl + c_smpl\n",
    "        fpx = 2 * a_smpl * x_smpl + b_smpl\n",
    "\n",
    "        if abs(fpx) < 1e-12:\n",
    "            print(\"Solution not found\")\n",
    "            return\n",
    "\n",
    "        x_new = x_smpl - fx / fpx\n",
    "        iteration += 1\n",
    "\n",
    "        if abs(a_smpl * x_new**2 + b_smpl * x_new + c_smpl) < epsilon:\n",
    "            print(f\"Root found: x = {x_new:.6f}\")\n",
    "            print(f\"Number of iterations: {iteration}\")\n",
    "            return\n",
    "\n",
    "        x_smpl = x_new\n",
    "\n",
    "    print(\"Solution not found\")\n",
    "\n",
    "\n",
    "if __name__ == \"__main__\":\n",
    "    main_2()"
   ]
  }
 ],
 "metadata": {
  "kernelspec": {
   "display_name": "base",
   "language": "python",
   "name": "python3"
  },
  "language_info": {
   "codemirror_mode": {
    "name": "ipython",
    "version": 3
   },
   "file_extension": ".py",
   "mimetype": "text/x-python",
   "name": "python",
   "nbconvert_exporter": "python",
   "pygments_lexer": "ipython3",
   "version": "3.12.8"
  }
 },
 "nbformat": 4,
 "nbformat_minor": 5
}

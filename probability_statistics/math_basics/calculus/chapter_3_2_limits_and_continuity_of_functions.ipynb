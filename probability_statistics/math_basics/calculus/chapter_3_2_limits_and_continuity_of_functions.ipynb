{
 "cells": [
  {
   "cell_type": "code",
   "execution_count": null,
   "id": "e3296c1e",
   "metadata": {},
   "outputs": [],
   "source": [
    "\"\"\"Limits and continuity of functions.\"\"\""
   ]
  },
  {
   "cell_type": "code",
   "execution_count": null,
   "id": "41ae7da9",
   "metadata": {},
   "outputs": [
    {
     "name": "stdout",
     "output_type": "stream",
     "text": [
      "0.500000\n"
     ]
    }
   ],
   "source": [
    "# 1\n",
    "\n",
    "\n",
    "import math\n",
    "from typing import Callable, cast\n",
    "\n",
    "\n",
    "def sequence_term(n_var: int) -> float:\n",
    "    \"\"\"Compute the value of the sequence term defined as n / (n + 1).\"\"\"\n",
    "    return n_var / (n_var + 1)\n",
    "\n",
    "\n",
    "def main_1() -> None:\n",
    "    \"\"\"Evaluate the corresponding sequence term.\"\"\"\n",
    "    n_var = int(input())\n",
    "    result = sequence_term(n_var)\n",
    "    print(f\"{result:.6f}\")\n",
    "\n",
    "\n",
    "if __name__ == \"__main__\":\n",
    "    main_1()"
   ]
  },
  {
   "cell_type": "code",
   "execution_count": null,
   "id": "060d18be",
   "metadata": {},
   "outputs": [
    {
     "name": "stdout",
     "output_type": "stream",
     "text": [
      "CONTINUOUS\n"
     ]
    }
   ],
   "source": [
    "# 2\n",
    "\n",
    "# fmt: off\n",
    "\n",
    "def evaluate(expr: str, x_var: float) -> float:\n",
    "    \"\"\"Evaluate a mathematical expression at a given point.\"\"\"\n",
    "    return cast(\n",
    "        float,\n",
    "        eval(  # pylint: disable=eval-used\n",
    "            expr,\n",
    "            {\n",
    "                \"__builtins__\": None,\n",
    "                \"x\": x_var,\n",
    "                \"abs\": abs,\n",
    "                \"max\": max,\n",
    "                \"min\": min,\n",
    "                \"math\": math,\n",
    "            },\n",
    "        ),\n",
    "    )\n",
    "\n",
    "\n",
    "def main_2() -> None:\n",
    "    \"\"\"Check continuity within the function around a given point.\"\"\"\n",
    "    expr = input().strip()\n",
    "    x0 = float(input().strip())\n",
    "    delta = float(input().strip())\n",
    "\n",
    "    eps = 5 * delta\n",
    "\n",
    "    f_x0 = evaluate(expr, x0)\n",
    "    left = evaluate(expr, x0 - delta)\n",
    "    right = evaluate(expr, x0 + delta)\n",
    "\n",
    "    if abs(left - f_x0) < eps and abs(right - f_x0) < eps:\n",
    "        print(\"CONTINUOUS\")\n",
    "    else:\n",
    "        print(\"DISCONTINUOUS\")\n",
    "\n",
    "\n",
    "if __name__ == \"__main__\":\n",
    "    main_2()\n",
    "# fmt: on"
   ]
  },
  {
   "cell_type": "code",
   "execution_count": null,
   "id": "0e501e9d",
   "metadata": {},
   "outputs": [
    {
     "name": "stdout",
     "output_type": "stream",
     "text": [
      "LIPSCHITZ\n"
     ]
    }
   ],
   "source": [
    "# 3\n",
    "\n",
    "# fmt: off\n",
    "\n",
    "def make_function(expr: str) -> Callable[[float], float]:\n",
    "    \"\"\"Construct a callable function f(x) from a string expression.\"\"\"\n",
    "    return cast(\n",
    "        Callable[[float], float],\n",
    "        eval(  # pylint: disable=eval-used\n",
    "            \"lambda x, e=math.e: \" + expr, {\"math\": math}\n",
    "        ),\n",
    "    )\n",
    "\n",
    "\n",
    "def is_lipschitz_on_interval(\n",
    "    f_var: Callable[[float], float],\n",
    "    a_var: float,\n",
    "    b_var: float,\n",
    "    l_var: float,\n",
    "    epsilon: float = 1e-6,\n",
    ") -> bool:\n",
    "    \"\"\"Check whether a function satisfies the Lipschitz condition.\"\"\"\n",
    "    m_var = 10000\n",
    "    dx = (b_var - a_var) / m_var\n",
    "\n",
    "    xs = [a_var + i * dx for i in range(m_var + 1)]\n",
    "    f_values = [f_var(x) for x in xs]\n",
    "\n",
    "    max_quot = 0.0\n",
    "    for i_var in range(m_var):\n",
    "        q_var = abs(f_values[i_var + 1] - f_values[i_var]) / dx\n",
    "        max_quot = max(max_quot, q_var)\n",
    "\n",
    "    return max_quot <= l_var + epsilon\n",
    "\n",
    "\n",
    "def main_3() -> None:\n",
    "    \"\"\"Verify the Lipschitz condition on the specified interval.\"\"\"\n",
    "    expr = input().strip()\n",
    "    a_var, b_var = map(float, input().split())\n",
    "    l_input = input().strip()\n",
    "\n",
    "    try:\n",
    "        l_var = float(\n",
    "            eval(l_input, {\"math\": math, \"e\": math.e})  # pylint: disable=eval-used\n",
    "        )\n",
    "    except (NameError, SyntaxError, TypeError, ValueError):\n",
    "        l_var = float(l_input)\n",
    "\n",
    "    f_var = make_function(expr)\n",
    "    if is_lipschitz_on_interval(f_var, a_var, b_var, l_var):\n",
    "        print(\"LIPSCHITZ\")\n",
    "    else:\n",
    "        print(\"NOT LIPSCHITZ\")\n",
    "\n",
    "\n",
    "if __name__ == \"__main__\":\n",
    "    main_3()\n",
    "# fmt: on"
   ]
  }
 ],
 "metadata": {
  "kernelspec": {
   "display_name": "base",
   "language": "python",
   "name": "python3"
  },
  "language_info": {
   "codemirror_mode": {
    "name": "ipython",
    "version": 3
   },
   "file_extension": ".py",
   "mimetype": "text/x-python",
   "name": "python",
   "nbconvert_exporter": "python",
   "pygments_lexer": "ipython3",
   "version": "3.12.8"
  }
 },
 "nbformat": 4,
 "nbformat_minor": 5
}

{
 "cells": [
  {
   "cell_type": "code",
   "execution_count": 1,
   "id": "64a352bb",
   "metadata": {},
   "outputs": [
    {
     "data": {
      "text/plain": [
       "'Matrices.'"
      ]
     },
     "execution_count": 1,
     "metadata": {},
     "output_type": "execute_result"
    }
   ],
   "source": [
    "\"\"\"Matrices.\"\"\""
   ]
  },
  {
   "cell_type": "code",
   "execution_count": null,
   "id": "85aabcb3",
   "metadata": {},
   "outputs": [
    {
     "name": "stdout",
     "output_type": "stream",
     "text": [
      "DIAGONAL\n"
     ]
    }
   ],
   "source": [
    "# 1\n",
    "\n",
    "\n",
    "import math\n",
    "\n",
    "\n",
    "def main_1() -> None:\n",
    "    \"\"\"Read a square matrix from input and prints its type.\"\"\"\n",
    "    n_var = int(input())\n",
    "    matrix = [list(map(int, input().split())) for _ in range(n_var)]\n",
    "\n",
    "    is_diagonal = True\n",
    "    is_upper = True\n",
    "    is_lower = True\n",
    "\n",
    "    for i_var in range(n_var):\n",
    "        for j_var in range(n_var):\n",
    "            if i_var != j_var and matrix[i_var][j_var] != 0:\n",
    "                is_diagonal = False\n",
    "            if i_var > j_var and matrix[i_var][j_var] != 0:\n",
    "                is_upper = False\n",
    "            if i_var < j_var and matrix[i_var][j_var] != 0:\n",
    "                is_lower = False\n",
    "\n",
    "    if is_diagonal:\n",
    "        print(\"DIAGONAL\")\n",
    "    elif is_upper:\n",
    "        print(\"UPPER_TRIANGULAR\")\n",
    "    elif is_lower:\n",
    "        print(\"LOWER_TRIANGULAR\")\n",
    "    else:\n",
    "        print(\"OTHER\")\n",
    "\n",
    "\n",
    "if __name__ == \"__main__\":\n",
    "    main_1()"
   ]
  },
  {
   "cell_type": "code",
   "execution_count": null,
   "id": "a4dc4d96",
   "metadata": {},
   "outputs": [
    {
     "name": "stdout",
     "output_type": "stream",
     "text": [
      "1 0 3\n",
      "0 1 0\n"
     ]
    }
   ],
   "source": [
    "# 2\n",
    "\n",
    "\n",
    "def main_2() -> None:\n",
    "    \"\"\"Read two matrices A and B from input and print their product.\"\"\"\n",
    "    m_smpl, n_smpl = map(int, input().split())\n",
    "    a_var = [list(map(int, input().split())) for _ in range(m_smpl)]\n",
    "\n",
    "    h_var, k_var = map(int, input().split())\n",
    "    b_var = [list(map(int, input().split())) for _ in range(h_var)]\n",
    "\n",
    "    if n_smpl != h_var:\n",
    "        print(\"NOT_DEFINED\")\n",
    "        return\n",
    "\n",
    "    c_var = [[0 for _ in range(k_var)] for _ in range(m_smpl)]\n",
    "\n",
    "    for i_smpl in range(m_smpl):\n",
    "        for j_smpl in range(k_var):\n",
    "            for t_var in range(n_smpl):\n",
    "                c_var[i_smpl][j_smpl] += a_var[i_smpl][t_var] * b_var[t_var][j_smpl]\n",
    "\n",
    "    for row in c_var:\n",
    "        print(\" \".join(map(str, row)))\n",
    "\n",
    "\n",
    "if __name__ == \"__main__\":\n",
    "    main_2()"
   ]
  },
  {
   "cell_type": "code",
   "execution_count": null,
   "id": "e14daa03",
   "metadata": {},
   "outputs": [
    {
     "name": "stdout",
     "output_type": "stream",
     "text": [
      "2\n"
     ]
    }
   ],
   "source": [
    "# 3\n",
    "\n",
    "\n",
    "def main_3() -> None:\n",
    "    \"\"\"Read a square matrix and prints the smallest k (1 <= k <= 100).\"\"\"\n",
    "    n_obj = int(input())\n",
    "    a_smpl = [list(map(int, input().split())) for _ in range(n_obj)]\n",
    "\n",
    "    def mat_mult(x_var: list[list[int]], y_var: list[list[int]]) -> list[list[int]]:\n",
    "        \"\"\"Multiply two square matrices and return the result.\"\"\"\n",
    "        result = [[0] * n_obj for _ in range(n_obj)]\n",
    "        for i_obj in range(n_obj):\n",
    "            for j_obj in range(n_obj):\n",
    "                for t_smpl in range(n_obj):\n",
    "                    result[i_obj][j_obj] += x_var[i_obj][t_smpl] * y_var[t_smpl][j_obj]\n",
    "        return result\n",
    "\n",
    "    def is_zero_matrix(m_obj: list[list[int]]) -> bool:\n",
    "        \"\"\"Return True if the matrix is a zero matrix, False otherwise.\"\"\"\n",
    "        for row in m_obj:\n",
    "            if any(x != 0 for x in row):\n",
    "                return False\n",
    "        return True\n",
    "\n",
    "    power = a_smpl\n",
    "    for k_smpl in range(1, 101):\n",
    "        if is_zero_matrix(power):\n",
    "            print(k_smpl)\n",
    "            return\n",
    "        power = mat_mult(power, a_smpl)\n",
    "\n",
    "    print(\"NOT_FOUND\")\n",
    "\n",
    "\n",
    "if __name__ == \"__main__\":\n",
    "    main_3()"
   ]
  },
  {
   "cell_type": "code",
   "execution_count": null,
   "id": "eca52494",
   "metadata": {},
   "outputs": [
    {
     "name": "stdout",
     "output_type": "stream",
     "text": [
      "0 0\n",
      "1 0\n"
     ]
    }
   ],
   "source": [
    "# 4\n",
    "\n",
    "\n",
    "def main_4() -> None:\n",
    "    \"\"\"Read a matrix A of size m x n and print its transpose n x m.\"\"\"\n",
    "    m_obj, n_val = map(int, input().split())\n",
    "    a_obj = [list(map(int, input().split())) for _ in range(m_obj)]\n",
    "\n",
    "    at = [[0] * m_obj for _ in range(n_val)]\n",
    "    for i_lm in range(m_obj):\n",
    "        for j_lm in range(n_val):\n",
    "            at[j_lm][i_lm] = a_obj[i_lm][j_lm]\n",
    "\n",
    "    for row in at:\n",
    "        print(\" \".join(map(str, row)))\n",
    "\n",
    "\n",
    "if __name__ == \"__main__\":\n",
    "    main_4()"
   ]
  },
  {
   "cell_type": "code",
   "execution_count": null,
   "id": "e1a9e083",
   "metadata": {},
   "outputs": [
    {
     "name": "stdout",
     "output_type": "stream",
     "text": [
      "0 0 1\n",
      "1 0 0\n",
      "0 1 0\n"
     ]
    }
   ],
   "source": [
    "# 5\n",
    "\n",
    "\n",
    "def main_5() -> None:\n",
    "    \"\"\"Read a matrix A (m x n) and normalize each column.\"\"\"\n",
    "    m_val, n_lm = map(int, input().split())\n",
    "    a_lm = [list(map(int, input().split())) for _ in range(m_val)]\n",
    "\n",
    "    result = [[0] * n_lm for _ in range(m_val)]\n",
    "\n",
    "    for j_mc in range(n_lm):\n",
    "        col = [a_lm[i_mc][j_mc] for i_mc in range(m_val)]\n",
    "        mean = sum(col) / m_val\n",
    "        variance = sum((x - mean) ** 2 for x in col) / m_val\n",
    "        std_dev = math.sqrt(variance)\n",
    "        if std_dev == 0:\n",
    "            std_dev = 1\n",
    "        for i_pl in range(m_val):\n",
    "            normalized = (a_lm[i_pl][j_mc] - mean) / std_dev\n",
    "            result[i_pl][j_mc] = int(normalized)\n",
    "\n",
    "    for row in result:\n",
    "        print(\" \".join(map(str, row)))\n",
    "\n",
    "\n",
    "if __name__ == \"__main__\":\n",
    "    main_5()"
   ]
  }
 ],
 "metadata": {
  "kernelspec": {
   "display_name": "base",
   "language": "python",
   "name": "python3"
  },
  "language_info": {
   "codemirror_mode": {
    "name": "ipython",
    "version": 3
   },
   "file_extension": ".py",
   "mimetype": "text/x-python",
   "name": "python",
   "nbconvert_exporter": "python",
   "pygments_lexer": "ipython3",
   "version": "3.12.8"
  }
 },
 "nbformat": 4,
 "nbformat_minor": 5
}

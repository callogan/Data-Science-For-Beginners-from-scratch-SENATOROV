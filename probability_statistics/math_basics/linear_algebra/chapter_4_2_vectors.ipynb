{
 "cells": [
  {
   "cell_type": "code",
   "execution_count": null,
   "id": "013aff2d",
   "metadata": {},
   "outputs": [],
   "source": [
    "\"\"\"Vectors.\"\"\""
   ]
  },
  {
   "cell_type": "code",
   "execution_count": null,
   "id": "0e3507ae",
   "metadata": {},
   "outputs": [
    {
     "name": "stdout",
     "output_type": "stream",
     "text": [
      "-3.0 -3.0 -3.0\n"
     ]
    }
   ],
   "source": [
    "# 1\n",
    "\n",
    "\n",
    "import math\n",
    "\n",
    "import numpy as np\n",
    "\n",
    "\n",
    "def main_1() -> None:\n",
    "    \"\"\"Compute vector linear combinaion.\"\"\"\n",
    "    k_var = int(input().strip())\n",
    "    lambdas = list(map(float, input().split()))\n",
    "\n",
    "    vectors = [list(map(float, input().split())) for _ in range(k_var)]\n",
    "\n",
    "    n_var = len(vectors[0])\n",
    "\n",
    "    result = [0.0] * n_var\n",
    "\n",
    "    for i_var in range(k_var):\n",
    "        for j_var in range(n_var):\n",
    "            result[j_var] += lambdas[i_var] * vectors[i_var][j_var]\n",
    "\n",
    "    print(\" \".join(f\"{x:.1f}\" for x in result))\n",
    "\n",
    "\n",
    "if __name__ == \"__main__\":\n",
    "    main_1()"
   ]
  },
  {
   "cell_type": "code",
   "execution_count": null,
   "id": "70594b64",
   "metadata": {},
   "outputs": [
    {
     "name": "stdout",
     "output_type": "stream",
     "text": [
      "ORTHOGONAL\n"
     ]
    }
   ],
   "source": [
    "# 2\n",
    "\n",
    "\n",
    "def main_2() -> None:\n",
    "    \"\"\"Check vector orthogonality.\"\"\"\n",
    "    m_var = int(input().strip())  # размерность векторов\n",
    "    u_var = list(map(int, input().split()))\n",
    "    v_var = list(map(int, input().split()))\n",
    "\n",
    "    dot_product = sum(u_var[i] * v_var[i] for i in range(m_var))\n",
    "\n",
    "    if dot_product == 0:\n",
    "        print(\"ORTHOGONAL\")\n",
    "    else:\n",
    "        print(\"NON-ORTHOGONAL\")\n",
    "\n",
    "\n",
    "if __name__ == \"__main__\":\n",
    "    main_2()"
   ]
  },
  {
   "cell_type": "code",
   "execution_count": null,
   "id": "4c3cb382",
   "metadata": {},
   "outputs": [
    {
     "name": "stdout",
     "output_type": "stream",
     "text": [
      "2 3\n"
     ]
    }
   ],
   "source": [
    "# 3\n",
    "\n",
    "\n",
    "def main_3() -> None:  # pylint: disable=too-many-branches\n",
    "    \"\"\"Detect linear combination and basis.\"\"\"\n",
    "    v1 = list(map(int, input().split()))\n",
    "    v2 = list(map(int, input().split()))\n",
    "    v3 = list(map(int, input().split()))\n",
    "\n",
    "    a_var, b_var = v1\n",
    "    c_var, d_var = v2\n",
    "    x_var, y_var = v3\n",
    "\n",
    "    det = a_var * d_var - b_var * c_var\n",
    "\n",
    "    if det != 0:\n",
    "        lam1 = (x_var * d_var - y_var * c_var) / det\n",
    "        lam2 = (y_var * a_var - x_var * b_var) / det\n",
    "        if lam1.is_integer() and lam2.is_integer():\n",
    "            print(int(lam1), int(lam2))\n",
    "        else:\n",
    "            print(\"NO_SOLUTION\")\n",
    "    else:\n",
    "        if a_var == c_var == 0 and b_var == d_var == 0:\n",
    "            print(\"NO_SOLUTION\")\n",
    "            return\n",
    "\n",
    "        if a_var != 0:\n",
    "            t_var = x_var / a_var\n",
    "            if b_var * t_var == y_var:\n",
    "                if t_var.is_integer():\n",
    "                    print(int(t_var), 0)\n",
    "                else:\n",
    "                    print(\"NO_SOLUTION\")\n",
    "            else:\n",
    "                print(\"NO_SOLUTION\")\n",
    "        elif c_var != 0:\n",
    "            t_var = x_var / c_var\n",
    "            if d_var * t_var == y_var:\n",
    "                if t_var.is_integer():\n",
    "                    print(0, int(t_var))\n",
    "                else:\n",
    "                    print(\"NO_SOLUTION\")\n",
    "            else:\n",
    "                print(\"NO_SOLUTION\")\n",
    "        else:\n",
    "            print(\"NO_SOLUTION\")\n",
    "\n",
    "\n",
    "if __name__ == \"__main__\":\n",
    "    main_3()"
   ]
  },
  {
   "cell_type": "code",
   "execution_count": null,
   "id": "541f9f52",
   "metadata": {},
   "outputs": [
    {
     "name": "stdout",
     "output_type": "stream",
     "text": [
      "90\n"
     ]
    }
   ],
   "source": [
    "# 4\n",
    "\n",
    "\n",
    "def main_4() -> None:\n",
    "    \"\"\"Find an angle between vectors in degrees.\"\"\"\n",
    "    n_var = int(input().strip())\n",
    "    v1 = list(map(int, input().split()))\n",
    "    v2 = list(map(int, input().split()))\n",
    "\n",
    "    dot = sum(v1[i] * v2[i] for i in range(n_var))\n",
    "    norm1 = math.sqrt(sum(x * x for x in v1))\n",
    "    norm2 = math.sqrt(sum(x * x for x in v2))\n",
    "\n",
    "    if norm1 == 0 or norm2 == 0:\n",
    "        print(0)\n",
    "        return\n",
    "\n",
    "    cos_theta = dot / (norm1 * norm2)\n",
    "    cos_theta = max(-1, min(1, cos_theta))\n",
    "\n",
    "    angle = math.degrees(math.acos(cos_theta))\n",
    "    print(int(angle))\n",
    "\n",
    "\n",
    "if __name__ == \"__main__\":\n",
    "    main_4()"
   ]
  },
  {
   "cell_type": "code",
   "execution_count": null,
   "id": "a7cc9515",
   "metadata": {},
   "outputs": [
    {
     "name": "stdout",
     "output_type": "stream",
     "text": [
      "LINEARLY_INDEPENDENT\n"
     ]
    }
   ],
   "source": [
    "# 5\n",
    "\n",
    "\n",
    "def main_5() -> None:\n",
    "    \"\"\"Check if a set of vectors is linearly independent.\"\"\"\n",
    "    m_smpl, n_smpl = map(int, input().split())  # pylint: disable=unused-variable\n",
    "    vectors = [list(map(int, input().split())) for _ in range(m_smpl)]\n",
    "\n",
    "    matrix = np.array(vectors, dtype=int)\n",
    "    rank = np.linalg.matrix_rank(matrix)\n",
    "\n",
    "    if rank < m_smpl:\n",
    "        print(\"LINEARLY_DEPENDENT\")\n",
    "    else:\n",
    "        print(\"LINEARLY_INDEPENDENT\")\n",
    "\n",
    "\n",
    "if __name__ == \"__main__\":\n",
    "    main_5()"
   ]
  }
 ],
 "metadata": {
  "kernelspec": {
   "display_name": "base",
   "language": "python",
   "name": "python3"
  },
  "language_info": {
   "codemirror_mode": {
    "name": "ipython",
    "version": 3
   },
   "file_extension": ".py",
   "mimetype": "text/x-python",
   "name": "python",
   "nbconvert_exporter": "python",
   "pygments_lexer": "ipython3",
   "version": "3.12.8"
  }
 },
 "nbformat": 4,
 "nbformat_minor": 5
}

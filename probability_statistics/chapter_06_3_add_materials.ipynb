{
 "cells": [
  {
   "cell_type": "code",
   "execution_count": 3,
   "id": "26c83373",
   "metadata": {},
   "outputs": [
    {
     "data": {
      "text/plain": [
       "'Additional materials.'"
      ]
     },
     "execution_count": 3,
     "metadata": {},
     "output_type": "execute_result"
    }
   ],
   "source": [
    "\"\"\"Additional materials.\"\"\""
   ]
  },
  {
   "cell_type": "code",
   "execution_count": null,
   "id": "afaf8ef0",
   "metadata": {},
   "outputs": [],
   "source": [
    "# импортируем модуль json,\n",
    "import json\n",
    "import pickle\n",
    "\n",
    "# нам понадобится модуль random\n",
    "import random\n",
    "\n",
    "# а также функцию pprint() одноименной библиотеки\n",
    "from pprint import pprint\n",
    "\n",
    "# создадим файл students.p\n",
    "# и откроем его для записи в бинарном формате (wb)\n",
    "# алгоритм бинарного поиска\n",
    "from typing import Optional, Sequence, Union, cast\n",
    "\n",
    "# функцию urlopen() из модуля для работы с URL-адресами,\n",
    "from urllib.request import urlopen\n",
    "\n",
    "import matplotlib.pyplot as plt\n",
    "import numpy as np\n",
    "import pandas as pd\n",
    "import seaborn as sns\n",
    "\n",
    "# импортируем датасет и преобразуем в датафрейм\n",
    "# импортируем данные опухолей из модуля datasets библиотеки sklearn\n",
    "from sklearn.datasets import load_breast_cancer\n",
    "\n",
    "# from sklearn.experimental import enable_iterative_imputer\n",
    "from sklearn.impute import IterativeImputer, KNNImputer\n",
    "\n",
    "# класс логистической регрессии\n",
    "from sklearn.linear_model import LinearRegression, LogisticRegression\n",
    "\n",
    "# импортируем функцию для создания матрицы ошибок\n",
    "from sklearn.metrics import accuracy_score, confusion_matrix\n",
    "\n",
    "# функцию для разделения выборки на обучающую и тестовую части,\n",
    "from sklearn.model_selection import train_test_split\n",
    "\n",
    "# импортируем класс для масштабирования данных,\n",
    "from sklearn.preprocessing import MinMaxScaler, StandardScaler"
   ]
  },
  {
   "cell_type": "code",
   "execution_count": 82,
   "id": "5b5feaf0",
   "metadata": {},
   "outputs": [],
   "source": [
    "sns.set(rc={\"figure.figsize\": (10, 6)})"
   ]
  },
  {
   "cell_type": "markdown",
   "id": "108e919a",
   "metadata": {},
   "source": [
    "# Дополнительные материалы"
   ]
  },
  {
   "cell_type": "markdown",
   "id": "566413d8",
   "metadata": {},
   "source": [
    "## Временная сложность алгоритма"
   ]
  },
  {
   "cell_type": "code",
   "execution_count": null,
   "id": "c7e96959",
   "metadata": {},
   "outputs": [],
   "source": [
    "# алгоритм линейного поиска\n",
    "IntLike = Union[int, np.integer]\n",
    "ArrayLike = Union[Sequence[IntLike], np.ndarray]\n",
    "\n",
    "\n",
    "def linear(arr: ArrayLike, a_var: IntLike) -> tuple[int, int]:\n",
    "    \"\"\"Perform linear search in a list.\"\"\"\n",
    "    # объявим счетчик количества операций\n",
    "    counter = 0\n",
    "\n",
    "    for i_var, value in enumerate(arr):\n",
    "\n",
    "        # с каждой итерацией будем увеличивать счетчик на единицу\n",
    "        counter += 1\n",
    "\n",
    "        if value == a_var:\n",
    "            return i_var, counter\n",
    "    return -1, counter"
   ]
  },
  {
   "cell_type": "code",
   "execution_count": null,
   "id": "7f4b6efa",
   "metadata": {},
   "outputs": [],
   "source": [
    "# алгоритм бинарного поиска\n",
    "IntLike = Union[int, np.integer]  # type: ignore[misc]\n",
    "ArrayLike = Union[Sequence[IntLike], np.ndarray]  # type: ignore[misc]\n",
    "\n",
    "\n",
    "def binary(arr: ArrayLike, b_var: IntLike) -> tuple[int, int]:\n",
    "    \"\"\"Perform binary search in a sorted list.\"\"\"\n",
    "    # объявим счетчик количества операций\n",
    "    counter = 0\n",
    "\n",
    "    low, high = 0, len(arr) - 1\n",
    "\n",
    "    while low <= high:\n",
    "\n",
    "        # увеличиваем счетчик с каждой итерацией цикла\n",
    "        counter += 1\n",
    "\n",
    "        mid = low + (high - low) // 2\n",
    "\n",
    "        if arr[mid] == b_var:\n",
    "            return mid, counter\n",
    "\n",
    "        if arr[mid] < b_var:\n",
    "            low = mid + 1\n",
    "\n",
    "        else:\n",
    "            high = mid - 1\n",
    "\n",
    "    return -1, counter"
   ]
  },
  {
   "cell_type": "code",
   "execution_count": 85,
   "id": "fc8ea947",
   "metadata": {},
   "outputs": [
    {
     "name": "stdout",
     "output_type": "stream",
     "text": [
      "8 16\n"
     ]
    }
   ],
   "source": [
    "# возьмем два массива из восьми и шестнадцати чисел\n",
    "arr8 = np.array([3, 4, 7, 11, 13, 21, 23, 28])\n",
    "arr16 = np.array([3, 4, 7, 11, 13, 21, 23, 28, 29, 30, 31, 33, 36, 37, 39, 42])\n",
    "\n",
    "print(len(arr8), len(arr16))"
   ]
  },
  {
   "cell_type": "code",
   "execution_count": 86,
   "id": "fafb0383",
   "metadata": {},
   "outputs": [
    {
     "name": "stdout",
     "output_type": "stream",
     "text": [
      "(7, 8) (15, 16)\n"
     ]
    }
   ],
   "source": [
    "# найдем числа 28 и 42 с помощью линейного поиска\n",
    "# первым результатом функции будет индекс искомого числа,\n",
    "# вторым - количество операций сравнения\n",
    "print(linear(arr8, 28), linear(arr16, 42))"
   ]
  },
  {
   "cell_type": "code",
   "execution_count": 87,
   "id": "c6e38458",
   "metadata": {},
   "outputs": [
    {
     "name": "stdout",
     "output_type": "stream",
     "text": [
      "(7, 4) (15, 5)\n"
     ]
    }
   ],
   "source": [
    "# найдем эти же числа с помощью бинарного поиска\n",
    "print(binary(arr8, 28), binary(arr16, 42))"
   ]
  },
  {
   "cell_type": "code",
   "execution_count": 88,
   "id": "f0e22d13",
   "metadata": {},
   "outputs": [],
   "source": [
    "# посчитаем количество операций для входных массивов разной длины\n",
    "# создадим списки, куда будем записывать количество затраченных итераций\n",
    "ops_linear, ops_binary = [], []\n",
    "\n",
    "# будет 100 входных массивов длиной от 1 до 100 элементов\n",
    "input_arr = np.arange(1, 101)\n",
    "\n",
    "# на каждой итерации будем работать с массивом определенной длины\n",
    "for i in input_arr:\n",
    "\n",
    "    # внутри функций поиска создадим массив из текущего количества элементов\n",
    "    # и попросим найти последний элемент i - 1\n",
    "    _, c_var = linear(np.arange(i), i - 1)\n",
    "    _, d_var = binary(np.arange(i), i - 1)\n",
    "\n",
    "    # запишем количество затраченных операций в соответствующий список\n",
    "    ops_linear.append(c_var)\n",
    "    ops_binary.append(d_var)"
   ]
  },
  {
   "cell_type": "code",
   "execution_count": 89,
   "id": "89041542",
   "metadata": {},
   "outputs": [
    {
     "data": {
      "image/png": "[encoded data removed]",
      "text/plain": [
       "<Figure size 1000x600 with 1 Axes>"
      ]
     },
     "metadata": {},
     "output_type": "display_data"
    }
   ],
   "source": [
    "# выведем зависимость количества операций от длины входного массива\n",
    "plt.plot(input_arr, ops_linear, label=\"Линейный поиск\")\n",
    "plt.plot(input_arr, ops_binary, label=\"Бинарный поиск\")\n",
    "\n",
    "plt.title(\"Зависимость количества операций поиска от длины массива\")\n",
    "plt.xlabel(\"Длина входного массива\")\n",
    "plt.ylabel(\"Количество операций в худшем случае\")\n",
    "\n",
    "plt.legend();"
   ]
  },
  {
   "cell_type": "markdown",
   "id": "02008c78",
   "metadata": {},
   "source": [
    "## Ещё одно сравнение методов заполнения пропусков"
   ]
  },
  {
   "cell_type": "markdown",
   "id": "6e03a092",
   "metadata": {},
   "source": [
    "### Создание данных с пропусками"
   ]
  },
  {
   "cell_type": "code",
   "execution_count": null,
   "id": "2e349558",
   "metadata": {},
   "outputs": [],
   "source": [
    "# выведем признаки и целевую переменную и поместим их в X_full и _ соответственно\n",
    "X_full, _ = load_breast_cancer(return_X_y=True, as_frame=True)\n",
    "\n",
    "# масштабируем данные\n",
    "X_full = pd.DataFrame(StandardScaler().fit_transform(X_full), columns=X_full.columns)"
   ]
  },
  {
   "cell_type": "code",
   "execution_count": null,
   "id": "84a73af8",
   "metadata": {},
   "outputs": [],
   "source": [
    "# fmt: off\n",
    "# напишем функцию, которая будет случайным образом\n",
    "# добавлять пропуски в выбранные нами признаки\n",
    "\n",
    "# на вход функция будет получать полный датафрейм, номера столбцов признаков,\n",
    "# долю пропусков в каждом из столбцов и точку отсчета\n",
    "def add_nan(\n",
    "    x_full: pd.DataFrame, \n",
    "    features: list[int], \n",
    "    nan_share: float = 0.2, \n",
    "    random_state: Optional[int] = None\n",
    ") -> pd.DataFrame:\n",
    "    \"\"\"Generate random NaN entries.\"\"\"\n",
    "    random.seed(random_state)\n",
    "\n",
    "    # сделаем копию датафрейма\n",
    "    x_nan = x_full.copy()\n",
    "\n",
    "    # вначале запишем количество наблюдений и количество признаков\n",
    "    n_samples, n_features = x_full.shape\n",
    "\n",
    "    # посчитаем количество признаков в абсолютном выражении\n",
    "    how_many = int(nan_share * n_samples)\n",
    "\n",
    "    # в цикле пройдемся по номерам столбцов\n",
    "    for e_var in range(n_features):\n",
    "        # если столбец был указан в параметре features,\n",
    "        if e_var in features:\n",
    "            # случайным образом отберем необходимое количество индексов\n",
    "            # наблюдений (how_many)\n",
    "            # из перечня, длиной с индекс (range(n_samples))\n",
    "            mask = random.sample(range(n_samples), how_many)\n",
    "            # заменим соответствующие значения столбца пропусками\n",
    "            x_nan.iloc[mask, e_var] = np.nan\n",
    "\n",
    "    # выведем датафрейм с пропусками\n",
    "    return x_nan\n",
    "# fmt: on"
   ]
  },
  {
   "cell_type": "code",
   "execution_count": 92,
   "id": "5d0dd195",
   "metadata": {},
   "outputs": [
    {
     "data": {
      "text/plain": [
       "[1, 0, 4, 9, 6]"
      ]
     },
     "execution_count": 92,
     "metadata": {},
     "output_type": "execute_result"
    }
   ],
   "source": [
    "# выведем пять чисел от 0 до 9\n",
    "random.seed(42)\n",
    "# с функцией random.sample() повторов не будет\n",
    "random.sample(range(10), 5)"
   ]
  },
  {
   "cell_type": "code",
   "execution_count": 93,
   "id": "d0e6e158",
   "metadata": {},
   "outputs": [
    {
     "data": {
      "text/plain": [
       "[1, 0, 4, 9, 6]"
      ]
     },
     "execution_count": 93,
     "metadata": {},
     "output_type": "execute_result"
    }
   ],
   "source": [
    "# выведем пять чисел от 0 до 9\n",
    "random.seed(42)\n",
    "# с функцией random.sample() повторов не будет\n",
    "random.sample(range(10), 5)"
   ]
  },
  {
   "cell_type": "code",
   "execution_count": 94,
   "id": "340275b6",
   "metadata": {},
   "outputs": [
    {
     "data": {
      "text/plain": [
       "array([6, 3, 7, 4, 6], dtype=int32)"
      ]
     },
     "execution_count": 94,
     "metadata": {},
     "output_type": "execute_result"
    }
   ],
   "source": [
    "# если использовать np.random.randint() будут повторы\n",
    "np.random.seed(42)\n",
    "# выберем случайным образом пять чисел от 0 до 9\n",
    "np.random.randint(0, 10, 5)"
   ]
  },
  {
   "cell_type": "code",
   "execution_count": 95,
   "id": "69367746",
   "metadata": {},
   "outputs": [
    {
     "name": "stdout",
     "output_type": "stream",
     "text": [
      "[1, 0, 4, 3, 3]\n"
     ]
    }
   ],
   "source": [
    "# то же самое с функцией random.choice()\n",
    "random.seed(42)\n",
    "# выберем пять случайных чисел от 0 до 9\n",
    "print([random.choice(range(10)) for _ in range(5)])"
   ]
  },
  {
   "cell_type": "code",
   "execution_count": 96,
   "id": "b47853d3",
   "metadata": {},
   "outputs": [],
   "source": [
    "# создадим 20 процентов пропусков в первом столбце\n",
    "X_nan = add_nan(X_full, features=[0], nan_share=0.2, random_state=42)"
   ]
  },
  {
   "cell_type": "code",
   "execution_count": 97,
   "id": "37da964d",
   "metadata": {},
   "outputs": [
    {
     "data": {
      "text/plain": [
       "mean radius                0.2\n",
       "mean texture               0.0\n",
       "mean perimeter             0.0\n",
       "mean area                  0.0\n",
       "mean smoothness            0.0\n",
       "mean compactness           0.0\n",
       "mean concavity             0.0\n",
       "mean concave points        0.0\n",
       "mean symmetry              0.0\n",
       "mean fractal dimension     0.0\n",
       "radius error               0.0\n",
       "texture error              0.0\n",
       "perimeter error            0.0\n",
       "area error                 0.0\n",
       "smoothness error           0.0\n",
       "compactness error          0.0\n",
       "concavity error            0.0\n",
       "concave points error       0.0\n",
       "symmetry error             0.0\n",
       "fractal dimension error    0.0\n",
       "worst radius               0.0\n",
       "worst texture              0.0\n",
       "worst perimeter            0.0\n",
       "worst area                 0.0\n",
       "worst smoothness           0.0\n",
       "worst compactness          0.0\n",
       "worst concavity            0.0\n",
       "worst concave points       0.0\n",
       "worst symmetry             0.0\n",
       "worst fractal dimension    0.0\n",
       "dtype: float64"
      ]
     },
     "execution_count": 97,
     "metadata": {},
     "output_type": "execute_result"
    }
   ],
   "source": [
    "# проверим результат\n",
    "(X_nan.isna().sum() / len(X_nan)).round(2)"
   ]
  },
  {
   "cell_type": "markdown",
   "id": "81a8fcd5",
   "metadata": {},
   "source": [
    "### Заполнение пропусков"
   ]
  },
  {
   "cell_type": "markdown",
   "id": "4d23657a",
   "metadata": {},
   "source": [
    "Заполнение константой"
   ]
  },
  {
   "cell_type": "code",
   "execution_count": 98,
   "id": "327b19f9",
   "metadata": {},
   "outputs": [
    {
     "data": {
      "text/plain": [
       "np.int64(0)"
      ]
     },
     "execution_count": 98,
     "metadata": {},
     "output_type": "execute_result"
    }
   ],
   "source": [
    "# скопируем датасет\n",
    "fill_const = X_nan.copy()\n",
    "# заполним пропуски нулем\n",
    "fill_const.fillna(0, inplace=True)\n",
    "# убедимся, что пропусков не осталось\n",
    "fill_const.isnull().sum().sum()"
   ]
  },
  {
   "cell_type": "markdown",
   "id": "e349521c",
   "metadata": {},
   "source": [
    "Заполнение медианой"
   ]
  },
  {
   "cell_type": "code",
   "execution_count": 99,
   "id": "548999c2",
   "metadata": {},
   "outputs": [
    {
     "data": {
      "text/plain": [
       "np.int64(0)"
      ]
     },
     "execution_count": 99,
     "metadata": {},
     "output_type": "execute_result"
    }
   ],
   "source": [
    "# скопируем датасет\n",
    "fill_median = X_nan.copy()\n",
    "# заполним пропуски медианой\n",
    "# по умолчанию, и .fillna(), и .median() работают со столбцами\n",
    "fill_median.fillna(fill_median.median(), inplace=True)\n",
    "# убедимся, что пропусков не осталось\n",
    "fill_const.isnull().sum().sum()"
   ]
  },
  {
   "cell_type": "markdown",
   "id": "413ee5e3",
   "metadata": {},
   "source": [
    "Заполнение линейной регрессией"
   ]
  },
  {
   "cell_type": "code",
   "execution_count": null,
   "id": "77bf7d85",
   "metadata": {},
   "outputs": [],
   "source": [
    "# передадим функции датафрейм, а также название столбца с пропусками\n",
    "def linreg_imputer(df: pd.DataFrame, col: Union[str, int]) -> pd.DataFrame:\n",
    "    \"\"\"Impute missing values in a specified column using linear regression.\"\"\"\n",
    "    # обучающей выборкой будут строки без пропусков\n",
    "    train = df.dropna().copy()\n",
    "    # тестовой (или вернее выборкой для заполнения пропусков)\n",
    "    # будут те строки, в которых пропуски есть\n",
    "    test = df[df[col].isnull()].copy()\n",
    "\n",
    "    # выясним индекс столбца с пропусками\n",
    "    col_index = cast(int, df.columns.get_loc(col))\n",
    "\n",
    "    # разделим \"целевую переменную\" и \"признаки\"\n",
    "    # обучающей выборки\n",
    "    ys_train = train[col]\n",
    "    x_train = train.drop(col, axis=1)\n",
    "\n",
    "    # из \"тестовой\" выборки удалим столбец с пропусками\n",
    "    test = test.drop(col, axis=1)\n",
    "\n",
    "    # обучим модель линейной регрессии\n",
    "    model_s = LinearRegression()\n",
    "    model_s.fit(x_train, ys_train)\n",
    "\n",
    "    # сделаем прогноз пропусков\n",
    "    ys_pred = model_s.predict(test)\n",
    "    # вставим пропуски (value) на изначальное место (loc) столбца с пропусками (column)\n",
    "    test.insert(loc=col_index, column=col, value=ys_pred)\n",
    "\n",
    "    # соединим датасеты и обновим индекс\n",
    "    df = pd.concat([train, test])\n",
    "    df.sort_index(inplace=True)\n",
    "\n",
    "    return df"
   ]
  },
  {
   "cell_type": "code",
   "execution_count": 101,
   "id": "102676b1",
   "metadata": {},
   "outputs": [
    {
     "data": {
      "text/plain": [
       "np.int64(0)"
      ]
     },
     "execution_count": 101,
     "metadata": {},
     "output_type": "execute_result"
    }
   ],
   "source": [
    "fill_linreg = X_nan.copy()\n",
    "fill_linreg = linreg_imputer(X_nan, \"mean radius\")\n",
    "fill_linreg.isnull().sum().sum()"
   ]
  },
  {
   "cell_type": "markdown",
   "id": "df22175d",
   "metadata": {},
   "source": [
    "MICE"
   ]
  },
  {
   "cell_type": "code",
   "execution_count": 102,
   "id": "84515eff",
   "metadata": {},
   "outputs": [
    {
     "data": {
      "text/plain": [
       "np.int64(0)"
      ]
     },
     "execution_count": 102,
     "metadata": {},
     "output_type": "execute_result"
    }
   ],
   "source": [
    "fill_mice = X_nan.copy()\n",
    "mice_imputer = IterativeImputer(\n",
    "    initial_strategy=\"mean\",  # вначале заполним пропуски средним арифметическим\n",
    "    estimator=LinearRegression(),  # в качестве модели используем линейную регрессию\n",
    "    random_state=42,  # добавим точку отсчета\n",
    ")\n",
    "\n",
    "# используем метод .fit_transform() для заполнения пропусков\n",
    "fill_mice = pd.DataFrame(\n",
    "    mice_imputer.fit_transform(fill_mice), columns=fill_mice.columns\n",
    ")\n",
    "fill_linreg.isnull().sum().sum()"
   ]
  },
  {
   "cell_type": "markdown",
   "id": "a20a525a",
   "metadata": {},
   "source": [
    "KNNImputer"
   ]
  },
  {
   "cell_type": "code",
   "execution_count": 103,
   "id": "5823feb6",
   "metadata": {},
   "outputs": [
    {
     "data": {
      "text/plain": [
       "np.int64(0)"
      ]
     },
     "execution_count": 103,
     "metadata": {},
     "output_type": "execute_result"
    }
   ],
   "source": [
    "fill_knn = X_nan.copy()\n",
    "\n",
    "# используем те же параметры, что и раньше: пять \"соседей\" с одинаковыми весами\n",
    "knn_imputer = KNNImputer(n_neighbors=5, weights=\"uniform\")\n",
    "\n",
    "fill_knn = pd.DataFrame(knn_imputer.fit_transform(fill_knn), columns=fill_knn.columns)\n",
    "fill_knn.isnull().sum().sum()"
   ]
  },
  {
   "cell_type": "markdown",
   "id": "fc8d1a93",
   "metadata": {},
   "source": [
    "### Оценка качества"
   ]
  },
  {
   "cell_type": "code",
   "execution_count": null,
   "id": "e2776516",
   "metadata": {},
   "outputs": [],
   "source": [
    "# напишем функцию, которая считает сумму квадратов отклонений\n",
    "# заполненного значения от исходного\n",
    "def nan_mse(x_full: pd.DataFrame, x_nan: pd.DataFrame) -> float:\n",
    "    \"\"\"Compute the sum of squared deviations.\"\"\"\n",
    "    mse_sum = ((x_full - x_nan) ** 2).sum().sum()\n",
    "    return round(float(mse_sum), 2)"
   ]
  },
  {
   "cell_type": "code",
   "execution_count": 105,
   "id": "594bdea3",
   "metadata": {},
   "outputs": [],
   "source": [
    "# создадим списки с датасетами и названиями методов\n",
    "imputer = [fill_const, fill_median, fill_linreg, fill_mice, fill_knn]\n",
    "name = [\"constant\", \"median\", \"linreg\", \"MICE\", \"KNNImputer\"]"
   ]
  },
  {
   "cell_type": "code",
   "execution_count": 106,
   "id": "e4069b86",
   "metadata": {},
   "outputs": [
    {
     "name": "stdout",
     "output_type": "stream",
     "text": [
      "constant: 122.7\n",
      "median: 137.04\n",
      "linreg: 0.03\n",
      "MICE: 0.03\n",
      "KNNImputer: 9.77\n"
     ]
    }
   ],
   "source": [
    "# в цикле оценим качество каждого из методов и выведем результат\n",
    "for f_var, g_var in zip(imputer, name):\n",
    "    score = nan_mse(X_full, f_var)\n",
    "    print(g_var + \": \" + str(score))"
   ]
  },
  {
   "cell_type": "markdown",
   "id": "805de6a3",
   "metadata": {},
   "source": [
    "## Сериализация и десериализация"
   ]
  },
  {
   "cell_type": "markdown",
   "id": "5c4a1df7",
   "metadata": {},
   "source": [
    "### JSON"
   ]
  },
  {
   "cell_type": "markdown",
   "id": "1e37e7b3",
   "metadata": {},
   "source": [
    "#### Простой пример"
   ]
  },
  {
   "cell_type": "code",
   "execution_count": null,
   "id": "7b2f6f2c",
   "metadata": {},
   "outputs": [],
   "source": [
    "url = \"https://random-data-api.com/api/v2/banks\"\n",
    "\n",
    "# получаем ответ (response) в формате JSON\n",
    "with urlopen(url) as response:\n",
    "    # считываем его и закрываем объект response\n",
    "    data = response.read()\n",
    "\n",
    "# данные пришли в виде последовательности байтов\n",
    "print(type(data))\n",
    "print()\n",
    "# выполняем десериализацию\n",
    "output = json.loads(data)\n",
    "pprint(output)\n",
    "print()\n",
    "# и смотрим на получившийся формат\n",
    "print(type(output))"
   ]
  },
  {
   "cell_type": "markdown",
   "id": "953f84aa",
   "metadata": {},
   "source": [
    "#### Вложенный словарь и список словарей"
   ]
  },
  {
   "cell_type": "code",
   "execution_count": null,
   "id": "c316d249",
   "metadata": {},
   "outputs": [],
   "source": [
    "# fmt: off\n",
    "# создадим вложенные словари\n",
    "sales = {\n",
    "    'PC' : {\n",
    "        'Lenovo' : 3,\n",
    "        'Apple'  : 2\n",
    "    },\n",
    "    'Phone' : {\n",
    "        'Apple': 2,\n",
    "        'Samsung': 5\n",
    "    }\n",
    "}\n",
    "\n",
    "# и список из словарей\n",
    "students = [\n",
    "    {\n",
    "        'id': 1,\n",
    "        'name': 'Alex',\n",
    "        'math': 5,\n",
    "        'computer science': 4\n",
    "    },\n",
    "    {\n",
    "        'id': 2,\n",
    "        'name': 'Mike',\n",
    "        'math': 4,\n",
    "        'computer science': 5\n",
    "    }\n",
    "]\n",
    "# fmt: on"
   ]
  },
  {
   "cell_type": "markdown",
   "id": "def80775",
   "metadata": {},
   "source": [
    "#### dumps()/loads()"
   ]
  },
  {
   "cell_type": "code",
   "execution_count": 109,
   "id": "279ac9de",
   "metadata": {},
   "outputs": [
    {
     "name": "stdout",
     "output_type": "stream",
     "text": [
      "{\n",
      "    \"PC\": {\n",
      "        \"Lenovo\": 3,\n",
      "        \"Apple\": 2\n",
      "    },\n",
      "    \"Phone\": {\n",
      "        \"Apple\": 2,\n",
      "        \"Samsung\": 5\n",
      "    }\n",
      "}\n",
      "<class 'str'>\n"
     ]
    }
   ],
   "source": [
    "# преобразуем вложенный словарь в JSON\n",
    "# дополнительно укажем отступ (indent)\n",
    "json_sales = json.dumps(sales, indent=4)\n",
    "\n",
    "print(json_sales)\n",
    "print(type(json_sales))"
   ]
  },
  {
   "cell_type": "code",
   "execution_count": 110,
   "id": "967804fd",
   "metadata": {},
   "outputs": [
    {
     "name": "stdout",
     "output_type": "stream",
     "text": [
      "{'PC': {'Lenovo': 3, 'Apple': 2}, 'Phone': {'Apple': 2, 'Samsung': 5}}\n",
      "<class 'dict'>\n"
     ]
    }
   ],
   "source": [
    "# восстановим словарь\n",
    "sales = json.loads(json_sales)\n",
    "print(sales)\n",
    "print(type(sales))"
   ]
  },
  {
   "cell_type": "markdown",
   "id": "56a9d5ce",
   "metadata": {},
   "source": [
    "#### dump()/load()"
   ]
  },
  {
   "cell_type": "code",
   "execution_count": 111,
   "id": "df9b0da5",
   "metadata": {},
   "outputs": [],
   "source": [
    "# создадим файл students.json и откроем его для записи\n",
    "with open(\"students.json\", \"w\", encoding=\"utf-8\") as wf:\n",
    "    # поместим туда students, преобразовав в JSON\n",
    "    json.dump(students, wf, indent=4)"
   ]
  },
  {
   "cell_type": "code",
   "execution_count": 112,
   "id": "5614b26c",
   "metadata": {},
   "outputs": [],
   "source": [
    "# прочитаем файл из сессионного хранилища\n",
    "with open(\"students.json\", \"rb\") as rf:\n",
    "    # и преобразуем обратно в список из словарей\n",
    "    students_out = json.load(rf)"
   ]
  },
  {
   "cell_type": "code",
   "execution_count": 113,
   "id": "85d41f66",
   "metadata": {},
   "outputs": [
    {
     "data": {
      "text/plain": [
       "[{'id': 1, 'name': 'Alex', 'math': 5, 'computer science': 4},\n",
       " {'id': 2, 'name': 'Mike', 'math': 4, 'computer science': 5}]"
      ]
     },
     "execution_count": 113,
     "metadata": {},
     "output_type": "execute_result"
    }
   ],
   "source": [
    "students_out"
   ]
  },
  {
   "cell_type": "code",
   "execution_count": 114,
   "id": "8b61dee1",
   "metadata": {},
   "outputs": [
    {
     "name": "stdout",
     "output_type": "stream",
     "text": [
      "True\n",
      "False\n"
     ]
    }
   ],
   "source": [
    "# обратите внимание, результат десериализации - это новый объект\n",
    "print(students == students_out)\n",
    "print(students is students_out)"
   ]
  },
  {
   "cell_type": "markdown",
   "id": "0efd89cb",
   "metadata": {},
   "source": [
    "#### JSON и Pandas"
   ]
  },
  {
   "cell_type": "code",
   "execution_count": 115,
   "id": "7bc49899",
   "metadata": {},
   "outputs": [
    {
     "data": {
      "text/html": [
       "<div>\n",
       "<style scoped>\n",
       "    .dataframe tbody tr th:only-of-type {\n",
       "        vertical-align: middle;\n",
       "    }\n",
       "\n",
       "    .dataframe tbody tr th {\n",
       "        vertical-align: top;\n",
       "    }\n",
       "\n",
       "    .dataframe thead th {\n",
       "        text-align: right;\n",
       "    }\n",
       "</style>\n",
       "<table border=\"1\" class=\"dataframe\">\n",
       "  <thead>\n",
       "    <tr style=\"text-align: right;\">\n",
       "      <th></th>\n",
       "      <th>mean radius</th>\n",
       "      <th>mean texture</th>\n",
       "      <th>mean perimeter</th>\n",
       "      <th>mean area</th>\n",
       "      <th>mean smoothness</th>\n",
       "      <th>mean compactness</th>\n",
       "      <th>mean concavity</th>\n",
       "      <th>mean concave points</th>\n",
       "      <th>mean symmetry</th>\n",
       "      <th>mean fractal dimension</th>\n",
       "      <th>...</th>\n",
       "      <th>worst radius</th>\n",
       "      <th>worst texture</th>\n",
       "      <th>worst perimeter</th>\n",
       "      <th>worst area</th>\n",
       "      <th>worst smoothness</th>\n",
       "      <th>worst compactness</th>\n",
       "      <th>worst concavity</th>\n",
       "      <th>worst concave points</th>\n",
       "      <th>worst symmetry</th>\n",
       "      <th>worst fractal dimension</th>\n",
       "    </tr>\n",
       "  </thead>\n",
       "  <tbody>\n",
       "    <tr>\n",
       "      <th>0</th>\n",
       "      <td>17.99</td>\n",
       "      <td>10.38</td>\n",
       "      <td>122.8</td>\n",
       "      <td>1001.0</td>\n",
       "      <td>0.11840</td>\n",
       "      <td>0.27760</td>\n",
       "      <td>0.3001</td>\n",
       "      <td>0.14710</td>\n",
       "      <td>0.2419</td>\n",
       "      <td>0.07871</td>\n",
       "      <td>...</td>\n",
       "      <td>25.38</td>\n",
       "      <td>17.33</td>\n",
       "      <td>184.6</td>\n",
       "      <td>2019.0</td>\n",
       "      <td>0.1622</td>\n",
       "      <td>0.6656</td>\n",
       "      <td>0.7119</td>\n",
       "      <td>0.2654</td>\n",
       "      <td>0.4601</td>\n",
       "      <td>0.11890</td>\n",
       "    </tr>\n",
       "    <tr>\n",
       "      <th>1</th>\n",
       "      <td>20.57</td>\n",
       "      <td>17.77</td>\n",
       "      <td>132.9</td>\n",
       "      <td>1326.0</td>\n",
       "      <td>0.08474</td>\n",
       "      <td>0.07864</td>\n",
       "      <td>0.0869</td>\n",
       "      <td>0.07017</td>\n",
       "      <td>0.1812</td>\n",
       "      <td>0.05667</td>\n",
       "      <td>...</td>\n",
       "      <td>24.99</td>\n",
       "      <td>23.41</td>\n",
       "      <td>158.8</td>\n",
       "      <td>1956.0</td>\n",
       "      <td>0.1238</td>\n",
       "      <td>0.1866</td>\n",
       "      <td>0.2416</td>\n",
       "      <td>0.1860</td>\n",
       "      <td>0.2750</td>\n",
       "      <td>0.08902</td>\n",
       "    </tr>\n",
       "    <tr>\n",
       "      <th>2</th>\n",
       "      <td>19.69</td>\n",
       "      <td>21.25</td>\n",
       "      <td>130.0</td>\n",
       "      <td>1203.0</td>\n",
       "      <td>0.10960</td>\n",
       "      <td>0.15990</td>\n",
       "      <td>0.1974</td>\n",
       "      <td>0.12790</td>\n",
       "      <td>0.2069</td>\n",
       "      <td>0.05999</td>\n",
       "      <td>...</td>\n",
       "      <td>23.57</td>\n",
       "      <td>25.53</td>\n",
       "      <td>152.5</td>\n",
       "      <td>1709.0</td>\n",
       "      <td>0.1444</td>\n",
       "      <td>0.4245</td>\n",
       "      <td>0.4504</td>\n",
       "      <td>0.2430</td>\n",
       "      <td>0.3613</td>\n",
       "      <td>0.08758</td>\n",
       "    </tr>\n",
       "  </tbody>\n",
       "</table>\n",
       "<p>3 rows × 30 columns</p>\n",
       "</div>"
      ],
      "text/plain": [
       "   mean radius  mean texture  mean perimeter  mean area  mean smoothness  \\\n",
       "0        17.99         10.38           122.8     1001.0          0.11840   \n",
       "1        20.57         17.77           132.9     1326.0          0.08474   \n",
       "2        19.69         21.25           130.0     1203.0          0.10960   \n",
       "\n",
       "   mean compactness  mean concavity  mean concave points  mean symmetry  \\\n",
       "0           0.27760          0.3001              0.14710         0.2419   \n",
       "1           0.07864          0.0869              0.07017         0.1812   \n",
       "2           0.15990          0.1974              0.12790         0.2069   \n",
       "\n",
       "   mean fractal dimension  ...  worst radius  worst texture  worst perimeter  \\\n",
       "0                 0.07871  ...         25.38          17.33            184.6   \n",
       "1                 0.05667  ...         24.99          23.41            158.8   \n",
       "2                 0.05999  ...         23.57          25.53            152.5   \n",
       "\n",
       "   worst area  worst smoothness  worst compactness  worst concavity  \\\n",
       "0      2019.0            0.1622             0.6656           0.7119   \n",
       "1      1956.0            0.1238             0.1866           0.2416   \n",
       "2      1709.0            0.1444             0.4245           0.4504   \n",
       "\n",
       "   worst concave points  worst symmetry  worst fractal dimension  \n",
       "0                0.2654          0.4601                  0.11890  \n",
       "1                0.1860          0.2750                  0.08902  \n",
       "2                0.2430          0.3613                  0.08758  \n",
       "\n",
       "[3 rows x 30 columns]"
      ]
     },
     "execution_count": 115,
     "metadata": {},
     "output_type": "execute_result"
    }
   ],
   "source": [
    "cancer, _ = load_breast_cancer(return_X_y=True, as_frame=True)\n",
    "\n",
    "# создадим JSON-файл, поместим его в сессионное хранилище\n",
    "cancer.to_json(\"cancer.json\")\n",
    "\n",
    "# и сразу импортируем его и создадим датафрейм\n",
    "pd.read_json(\"cancer.json\").head(3)"
   ]
  },
  {
   "cell_type": "markdown",
   "id": "dacbf784",
   "metadata": {},
   "source": [
    "### pickle"
   ]
  },
  {
   "cell_type": "markdown",
   "id": "acf29d8b",
   "metadata": {},
   "source": [
    "#### dumps()/loads()"
   ]
  },
  {
   "cell_type": "code",
   "execution_count": 116,
   "id": "532b34c3",
   "metadata": {},
   "outputs": [
    {
     "name": "stdout",
     "output_type": "stream",
     "text": [
      "b'\\x80\\x04\\x95?\\x00\\x00\\x00\\x00\\x00\\x00\\x00}\\x94(\\x8c\\x02PC\\x94}\\x94(\\x8c\\x06Lenovo\\x94K\\x03\\x8c\\x05Apple\\x94K\\x02u\\x8c\\x05Phone\\x94}\\x94(h\\x04K\\x02\\x8c\\x07Samsung\\x94K\\x05uu.'\n",
      "<class 'bytes'>\n"
     ]
    }
   ],
   "source": [
    "# создадим объект pickle\n",
    "sales_pickle = pickle.dumps(sales)\n",
    "\n",
    "print(sales_pickle)\n",
    "print(type(sales_pickle))"
   ]
  },
  {
   "cell_type": "code",
   "execution_count": 117,
   "id": "da79d9cb",
   "metadata": {},
   "outputs": [
    {
     "name": "stdout",
     "output_type": "stream",
     "text": [
      "{'PC': {'Lenovo': 3, 'Apple': 2}, 'Phone': {'Apple': 2, 'Samsung': 5}}\n",
      "<class 'dict'>\n"
     ]
    }
   ],
   "source": [
    "# восстановим исходный тип данных\n",
    "sales_out = pickle.loads(sales_pickle)\n",
    "\n",
    "print(sales_out)\n",
    "print(type(sales_out))"
   ]
  },
  {
   "cell_type": "code",
   "execution_count": 118,
   "id": "94e1c809",
   "metadata": {},
   "outputs": [
    {
     "name": "stdout",
     "output_type": "stream",
     "text": [
      "True\n",
      "False\n"
     ]
    }
   ],
   "source": [
    "# результат десериализации - также новый объект\n",
    "print(sales == sales_out)\n",
    "print(sales is sales_out)"
   ]
  },
  {
   "cell_type": "markdown",
   "id": "363e18cf",
   "metadata": {},
   "source": [
    "#### dump()/load()"
   ]
  },
  {
   "cell_type": "code",
   "execution_count": 119,
   "id": "78b06e0d",
   "metadata": {},
   "outputs": [],
   "source": [
    "# создадим файл students.p\n",
    "# и откроем его для записи в бинарном формате (wb)\n",
    "with open(\"students.p\", \"wb\") as wf:  # type: ignore[assignment]\n",
    "    # поместим туда объект pickle\n",
    "    pickle.dump(students, wf)  # type: ignore[arg-type]"
   ]
  },
  {
   "cell_type": "code",
   "execution_count": 120,
   "id": "a08b456f",
   "metadata": {},
   "outputs": [],
   "source": [
    "# достанем этот файл из сессионного хранилища\n",
    "# и откроем для чтения в бинарном формате (rb)\n",
    "with open(\"students.p\", \"rb\") as rf:\n",
    "    students_out = pickle.load(rf)"
   ]
  },
  {
   "cell_type": "code",
   "execution_count": 121,
   "id": "6de18654",
   "metadata": {},
   "outputs": [
    {
     "data": {
      "text/plain": [
       "[{'id': 1, 'name': 'Alex', 'math': 5, 'computer science': 4},\n",
       " {'id': 2, 'name': 'Mike', 'math': 4, 'computer science': 5}]"
      ]
     },
     "execution_count": 121,
     "metadata": {},
     "output_type": "execute_result"
    }
   ],
   "source": [
    "# выведем результат\n",
    "students_out"
   ]
  },
  {
   "cell_type": "markdown",
   "id": "b5be2880",
   "metadata": {},
   "source": [
    "#### Собственные объекты"
   ]
  },
  {
   "cell_type": "markdown",
   "id": "4f9facf9",
   "metadata": {},
   "source": [
    "Функции"
   ]
  },
  {
   "cell_type": "code",
   "execution_count": 122,
   "id": "a1e4ac89",
   "metadata": {},
   "outputs": [
    {
     "name": "stdout",
     "output_type": "stream",
     "text": [
      "Some function!\n"
     ]
    }
   ],
   "source": [
    "# создадим функцию, которая будет выводить надпись \"Some function!\"\n",
    "\n",
    "\n",
    "def foo_() -> None:\n",
    "    \"\"\"Print a message.\"\"\"\n",
    "    print(\"Some function!\")\n",
    "\n",
    "\n",
    "# преобразуем эту функцию в объект Pickle\n",
    "foo_pickle = pickle.dumps(foo_)\n",
    "\n",
    "# десериализуем и\n",
    "foo_out = pickle.loads(foo_pickle)\n",
    "\n",
    "# вызовем ее\n",
    "foo_out()"
   ]
  },
  {
   "cell_type": "markdown",
   "id": "84cd2d70",
   "metadata": {},
   "source": [
    "Классы"
   ]
  },
  {
   "cell_type": "code",
   "execution_count": null,
   "id": "84d02fc7",
   "metadata": {},
   "outputs": [],
   "source": [
    "# создадим класс и объект этого класса\n",
    "class CatClass:\n",
    "    \"\"\"A class representing a cat with a color and type.\"\"\"\n",
    "\n",
    "    def __init__(self, color: str) -> None:\n",
    "        \"\"\"Initialize a CatClass instance.\"\"\"\n",
    "        self.color = color\n",
    "        self.type_ = \"cat\"\n",
    "\n",
    "\n",
    "Matroskin = CatClass(\"gray\")"
   ]
  },
  {
   "cell_type": "code",
   "execution_count": 124,
   "id": "57544e2b",
   "metadata": {},
   "outputs": [],
   "source": [
    "# сериализуем класс в объект Pickle и поместим в файл\n",
    "with open(\"cat_instance.pkl\", \"wb\") as wf:  # type: ignore[assignment]\n",
    "    pickle.dump(Matroskin, wf)  # type: ignore[arg-type]"
   ]
  },
  {
   "cell_type": "code",
   "execution_count": 125,
   "id": "a7628252",
   "metadata": {},
   "outputs": [],
   "source": [
    "# достанем из файла и десериализуем\n",
    "with open(\"cat_instance.pkl\", \"rb\") as rf:\n",
    "    Matroskin_out = pickle.load(rf)"
   ]
  },
  {
   "cell_type": "code",
   "execution_count": 126,
   "id": "0bd48c59",
   "metadata": {},
   "outputs": [
    {
     "data": {
      "text/plain": [
       "('gray', 'cat')"
      ]
     },
     "execution_count": 126,
     "metadata": {},
     "output_type": "execute_result"
    }
   ],
   "source": [
    "# выведем атрибуты созданного нами объекта класса\n",
    "Matroskin_out.color, Matroskin_out.type_"
   ]
  },
  {
   "cell_type": "markdown",
   "id": "e794e9bc",
   "metadata": {},
   "source": [
    "### Сохраняемость ML-модели"
   ]
  },
  {
   "cell_type": "code",
   "execution_count": 127,
   "id": "98381d60",
   "metadata": {},
   "outputs": [],
   "source": [
    "# импортируем датасет о раке груди\n",
    "X_smpl, y_smpl = load_breast_cancer(return_X_y=True, as_frame=True)\n",
    "\n",
    "# разделим выборку\n",
    "X_train, X_test, y_train, y_test = train_test_split(\n",
    "    X_smpl, y_smpl, test_size=0.30, random_state=42\n",
    ")\n",
    "\n",
    "# создадим объект класса MinMaxScaler\n",
    "scaler = MinMaxScaler()\n",
    "\n",
    "# масштабируем обучающую выборку\n",
    "X_train_scaled = scaler.fit_transform(X_train)\n",
    "\n",
    "# обучим модель на масштабированных train данных\n",
    "model = LogisticRegression(random_state=42).fit(X_train_scaled, y_train)\n",
    "\n",
    "# используем минимальное и максимальное значения\n",
    "# обучающей выборки для масштабирования тестовых данных\n",
    "X_test_scaled = scaler.transform(X_test)\n",
    "\n",
    "# сделаем прогноз\n",
    "y_pred = model.predict(X_test_scaled)"
   ]
  },
  {
   "cell_type": "code",
   "execution_count": 128,
   "id": "a7bf177f",
   "metadata": {},
   "outputs": [
    {
     "data": {
      "text/html": [
       "<div>\n",
       "<style scoped>\n",
       "    .dataframe tbody tr th:only-of-type {\n",
       "        vertical-align: middle;\n",
       "    }\n",
       "\n",
       "    .dataframe tbody tr th {\n",
       "        vertical-align: top;\n",
       "    }\n",
       "\n",
       "    .dataframe thead th {\n",
       "        text-align: right;\n",
       "    }\n",
       "</style>\n",
       "<table border=\"1\" class=\"dataframe\">\n",
       "  <thead>\n",
       "    <tr style=\"text-align: right;\">\n",
       "      <th></th>\n",
       "      <th>0</th>\n",
       "      <th>1</th>\n",
       "    </tr>\n",
       "  </thead>\n",
       "  <tbody>\n",
       "    <tr>\n",
       "      <th>0</th>\n",
       "      <td>107</td>\n",
       "      <td>1</td>\n",
       "    </tr>\n",
       "    <tr>\n",
       "      <th>1</th>\n",
       "      <td>5</td>\n",
       "      <td>58</td>\n",
       "    </tr>\n",
       "  </tbody>\n",
       "</table>\n",
       "</div>"
      ],
      "text/plain": [
       "     0   1\n",
       "0  107   1\n",
       "1    5  58"
      ]
     },
     "execution_count": 128,
     "metadata": {},
     "output_type": "execute_result"
    }
   ],
   "source": [
    "# передадим матрице тестовые и прогнозные значения\n",
    "# поменяем порядок так, чтобы злокачественные опухоли были положительным классом\n",
    "model_matrix = confusion_matrix(y_test, y_pred, labels=[1, 0])\n",
    "\n",
    "# для удобства создадим датафрейм\n",
    "model_matrix_df = pd.DataFrame(model_matrix)\n",
    "model_matrix_df"
   ]
  },
  {
   "cell_type": "code",
   "execution_count": 129,
   "id": "d7ed17c3",
   "metadata": {},
   "outputs": [
    {
     "data": {
      "text/plain": [
       "np.float64(0.96)"
      ]
     },
     "execution_count": 129,
     "metadata": {},
     "output_type": "execute_result"
    }
   ],
   "source": [
    "# рассчитаем accuracy\n",
    "np.round(accuracy_score(y_test, y_pred), 2)"
   ]
  },
  {
   "cell_type": "code",
   "execution_count": 130,
   "id": "9f93269c",
   "metadata": {},
   "outputs": [],
   "source": [
    "# сериализуем и\n",
    "with open(\"model.pickle\", \"wb\") as wf:  # type: ignore[assignment]\n",
    "    pickle.dump(model, wf)  # type: ignore[arg-type]"
   ]
  },
  {
   "cell_type": "code",
   "execution_count": 131,
   "id": "7ff61f1a",
   "metadata": {},
   "outputs": [],
   "source": [
    "# десериализуем модель\n",
    "with open(\"model.pickle\", \"rb\") as rf:\n",
    "    model_out = pickle.load(rf)"
   ]
  },
  {
   "cell_type": "code",
   "execution_count": 132,
   "id": "2afb6ae4",
   "metadata": {},
   "outputs": [
    {
     "data": {
      "text/html": [
       "<div>\n",
       "<style scoped>\n",
       "    .dataframe tbody tr th:only-of-type {\n",
       "        vertical-align: middle;\n",
       "    }\n",
       "\n",
       "    .dataframe tbody tr th {\n",
       "        vertical-align: top;\n",
       "    }\n",
       "\n",
       "    .dataframe thead th {\n",
       "        text-align: right;\n",
       "    }\n",
       "</style>\n",
       "<table border=\"1\" class=\"dataframe\">\n",
       "  <thead>\n",
       "    <tr style=\"text-align: right;\">\n",
       "      <th></th>\n",
       "      <th>0</th>\n",
       "      <th>1</th>\n",
       "    </tr>\n",
       "  </thead>\n",
       "  <tbody>\n",
       "    <tr>\n",
       "      <th>0</th>\n",
       "      <td>107</td>\n",
       "      <td>1</td>\n",
       "    </tr>\n",
       "    <tr>\n",
       "      <th>1</th>\n",
       "      <td>5</td>\n",
       "      <td>58</td>\n",
       "    </tr>\n",
       "  </tbody>\n",
       "</table>\n",
       "</div>"
      ],
      "text/plain": [
       "     0   1\n",
       "0  107   1\n",
       "1    5  58"
      ]
     },
     "execution_count": 132,
     "metadata": {},
     "output_type": "execute_result"
    }
   ],
   "source": [
    "# сделаем прогноз на десериализованной модели\n",
    "# (напомню, это другой объект)\n",
    "y_pred_out = model_out.predict(X_test_scaled)\n",
    "\n",
    "# убедимся, что десериализованная модель покажет такой же результат\n",
    "model_matrix = confusion_matrix(y_test, y_pred_out, labels=[1, 0])\n",
    "\n",
    "model_matrix_df = pd.DataFrame(model_matrix)\n",
    "model_matrix_df"
   ]
  },
  {
   "cell_type": "code",
   "execution_count": 133,
   "id": "ec26d8bd",
   "metadata": {},
   "outputs": [
    {
     "data": {
      "text/plain": [
       "np.float64(0.96)"
      ]
     },
     "execution_count": 133,
     "metadata": {},
     "output_type": "execute_result"
    }
   ],
   "source": [
    "np.round(accuracy_score(y_test, y_pred), 2)"
   ]
  }
 ],
 "metadata": {
  "kernelspec": {
   "display_name": "base",
   "language": "python",
   "name": "python3"
  },
  "language_info": {
   "codemirror_mode": {
    "name": "ipython",
    "version": 3
   },
   "file_extension": ".py",
   "mimetype": "text/x-python",
   "name": "python",
   "nbconvert_exporter": "python",
   "pygments_lexer": "ipython3",
   "version": "3.12.8"
  }
 },
 "nbformat": 4,
 "nbformat_minor": 5
}

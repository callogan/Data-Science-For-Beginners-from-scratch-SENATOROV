{
 "cells": [
  {
   "cell_type": "code",
   "execution_count": null,
   "id": "01cd2cff",
   "metadata": {},
   "outputs": [],
   "source": [
    "\"\"\"Conditional probability and independence of events.\"\"\""
   ]
  },
  {
   "cell_type": "code",
   "execution_count": null,
   "id": "8b971bd4",
   "metadata": {},
   "outputs": [
    {
     "name": "stdout",
     "output_type": "stream",
     "text": [
      "0.028753993610223662\n"
     ]
    }
   ],
   "source": [
    "# 1\n",
    "\n",
    "\n",
    "def main_1() -> None:  # pylint: disable=too-many-locals\n",
    "    \"\"\"Calculate posterior probability of disease using Bayes' theorem.\"\"\"\n",
    "    p1, s1, f1, s2, f2 = map(float, input().split())\n",
    "\n",
    "    t1, t2 = map(int, input().split())\n",
    "\n",
    "    p_t1_given_d1 = s1 if t1 == 1 else 1 - s1\n",
    "    p_t2_given_d1 = s2 if t2 == 1 else 1 - s2\n",
    "\n",
    "    p_t1_given_d0 = f1 if t1 == 1 else 1 - f1\n",
    "    p_t2_given_d0 = f2 if t2 == 1 else 1 - f2\n",
    "\n",
    "    like_d1 = p_t1_given_d1 * p_t2_given_d1\n",
    "    like_d0 = p_t1_given_d0 * p_t2_given_d0\n",
    "\n",
    "    num = like_d1 * p1\n",
    "    den = num + like_d0 * (1 - p1)\n",
    "    posterior = num / den if den > 0 else 0.0\n",
    "\n",
    "    print(posterior)\n",
    "\n",
    "\n",
    "if __name__ == \"__main__\":\n",
    "    main_1()"
   ]
  },
  {
   "cell_type": "code",
   "execution_count": null,
   "id": "e681db67",
   "metadata": {},
   "outputs": [
    {
     "name": "stdout",
     "output_type": "stream",
     "text": [
      "NOT_INDEPENDENT\n"
     ]
    }
   ],
   "source": [
    "# 2\n",
    "\n",
    "# fmt: off\n",
    "# pylint: disable=too-many-locals\n",
    "\n",
    "def check_independence(\n",
    "    num_experiments: int, \n",
    "    data: list[tuple[int, int, int]]\n",
    ") -> str:\n",
    "    \"\"\"Check pairwise and mutual independence of 3 events from experiments.\"\"\"\n",
    "    count_a = sum(a_var for a_var, _, _ in data)\n",
    "    count_b = sum(b_var for _, b_var, _ in data)\n",
    "    count_c = sum(c_var for _, _, c_var in data)\n",
    "\n",
    "    count_ab = sum(a_var and b_var for a_var, b_var, _ in data)\n",
    "    count_ac = sum(a_var and c_var for a_var, _, c_var in data)\n",
    "    count_bc = sum(b_var and c_var for _, b_var, c_var in data)\n",
    "    count_abc = sum(a_var and b_var and c_var for a_var, b_var, c_var in data)\n",
    "\n",
    "    # Переводим в вероятности\n",
    "    p_a = count_a / num_experiments\n",
    "    p_b = count_b / num_experiments\n",
    "    p_c = count_c / num_experiments\n",
    "\n",
    "    p_ab = count_ab / num_experiments\n",
    "    p_ac = count_ac / num_experiments\n",
    "    p_bc = count_bc / num_experiments\n",
    "    p_abc = count_abc / num_experiments\n",
    "\n",
    "    pairs = [(p_ab, p_a * p_b), (p_ac, p_a * p_c), (p_bc, p_b * p_c)]\n",
    "    pairwise = all(abs(lhs - rhs) < 1e-9 for lhs, rhs in pairs)\n",
    "\n",
    "    mutual = abs(p_abc - p_a * p_b * p_c) < 1e-9\n",
    "\n",
    "    if pairwise and mutual:\n",
    "        return \"ALL_INDEPENDENT\"\n",
    "    if pairwise:\n",
    "        return \"PAIRWISE_ONLY\"\n",
    "    return \"NOT_INDEPENDENT\"\n",
    "\n",
    "\n",
    "def main_2() -> None:\n",
    "    \"\"\"Read input, run independence check, print result.\"\"\"\n",
    "    num_experiments = int(input().strip())\n",
    "    data: list[tuple[int, int, int]] = []\n",
    "\n",
    "    for _ in range(num_experiments):\n",
    "        parts = input().split()\n",
    "        if len(parts) != 3:\n",
    "            raise ValueError(\"Each experiment must contain exactly 3 integers\")\n",
    "        a_smpl, b_smpl, c_smpl = map(int, parts)\n",
    "        data.append((a_smpl, b_smpl, c_smpl))\n",
    "\n",
    "    print(check_independence(num_experiments, data))\n",
    "\n",
    "\n",
    "if __name__ == \"__main__\":\n",
    "    main_2()"
   ]
  },
  {
   "cell_type": "code",
   "execution_count": null,
   "id": "cceaa069",
   "metadata": {},
   "outputs": [
    {
     "name": "stdout",
     "output_type": "stream",
     "text": [
      "0 1 -1 -1\n"
     ]
    }
   ],
   "source": [
    "# 3\n",
    "\n",
    "\n",
    "def main_3() -> None:  # pylint: disable=too-many-locals\n",
    "    \"\"\"Classify emails with a naive Bayes model built from binary features.\"\"\"\n",
    "    m_train, n_test, n_features = map(int, input().split())\n",
    "\n",
    "    train_labels: list[int] = []\n",
    "    train_features: list[list[int]] = []\n",
    "    for _ in range(m_train):\n",
    "        row = list(map(int, input().split()))\n",
    "        label = row[0]\n",
    "        features = row[1:]\n",
    "        train_labels.append(label)\n",
    "        train_features.append(features)\n",
    "\n",
    "    test_set: list[list[int]] = [list(map(int, input().split())) for _ in range(n_test)]\n",
    "\n",
    "    count_spam: int = sum(train_labels)\n",
    "    count_ham: int = m_train - count_spam\n",
    "\n",
    "    prior_spam: float = count_spam / m_train\n",
    "    prior_ham: float = count_ham / m_train\n",
    "\n",
    "    prob_word_given_spam: list[float] = []\n",
    "    prob_word_given_ham: list[float] = []\n",
    "    for j_0 in range(n_features):\n",
    "        ones_spam = sum(\n",
    "            train_features[i][j_0] for i in range(m_train) if train_labels[i] == 1\n",
    "        )\n",
    "        ones_ham = sum(\n",
    "            train_features[i][j_0] for i in range(m_train) if train_labels[i] == 0\n",
    "        )\n",
    "        prob_word_given_spam.append(ones_spam / count_spam if count_spam > 0 else 0.0)\n",
    "        prob_word_given_ham.append(ones_ham / count_ham if count_ham > 0 else 0.0)\n",
    "\n",
    "    results: list[int] = []\n",
    "    eps: float = 1e-15\n",
    "\n",
    "    for features in test_set:\n",
    "        likelihood_spam: float = prior_spam\n",
    "        for j_1, x_1 in enumerate(features):\n",
    "            pj = prob_word_given_spam[j_1]\n",
    "            likelihood_spam *= pj if x_1 == 1 else (1.0 - pj)\n",
    "\n",
    "        likelihood_ham: float = prior_ham\n",
    "        for j_2, x_2 in enumerate(features):\n",
    "            pj = prob_word_given_ham[j_2]\n",
    "            likelihood_ham *= pj if x_2 == 1 else (1.0 - pj)\n",
    "\n",
    "        if likelihood_spam == 0.0 and likelihood_ham == 0.0:\n",
    "            results.append(-1)\n",
    "        elif abs(likelihood_spam - likelihood_ham) <= eps:\n",
    "            results.append(-1)\n",
    "        elif likelihood_spam > likelihood_ham:\n",
    "            results.append(1)\n",
    "        else:\n",
    "            results.append(0)\n",
    "\n",
    "    print(\" \".join(map(str, results)))\n",
    "\n",
    "\n",
    "if __name__ == \"__main__\":\n",
    "    main_3()"
   ]
  }
 ],
 "metadata": {
  "kernelspec": {
   "display_name": "base",
   "language": "python",
   "name": "python3"
  },
  "language_info": {
   "codemirror_mode": {
    "name": "ipython",
    "version": 3
   },
   "file_extension": ".py",
   "mimetype": "text/x-python",
   "name": "python",
   "nbconvert_exporter": "python",
   "pygments_lexer": "ipython3",
   "version": "3.12.7"
  }
 },
 "nbformat": 4,
 "nbformat_minor": 5
}

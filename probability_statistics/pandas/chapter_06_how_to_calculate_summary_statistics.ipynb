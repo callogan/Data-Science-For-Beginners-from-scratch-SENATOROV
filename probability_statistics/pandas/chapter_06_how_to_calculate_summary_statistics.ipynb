{
 "cells": [
  {
   "cell_type": "code",
   "execution_count": 31,
   "id": "d83f7a67",
   "metadata": {},
   "outputs": [
    {
     "data": {
      "text/plain": [
       "'How to calculate summary statistics?.'"
      ]
     },
     "execution_count": 31,
     "metadata": {},
     "output_type": "execute_result"
    }
   ],
   "source": [
    "\"\"\"How to calculate summary statistics?.\"\"\""
   ]
  },
  {
   "cell_type": "markdown",
   "id": "b10fa318",
   "metadata": {},
   "source": [
    "# Как рассчитать сводную статистику?"
   ]
  },
  {
   "cell_type": "code",
   "execution_count": 32,
   "id": "0beb2af9",
   "metadata": {},
   "outputs": [],
   "source": [
    "import pandas as pd"
   ]
  },
  {
   "cell_type": "code",
   "execution_count": 33,
   "id": "9d9a79c6",
   "metadata": {},
   "outputs": [],
   "source": [
    "# pylint: disable=line-too-long\n",
    "\n",
    "url = \"https://raw.githubusercontent.com/dm-fedorov/pandas_basic/master/%D0%B1%D1%8B%D1%81%D1%82%D1%80%D0%BE%D0%B5%20%D0%B2%D0%B2%D0%B5%D0%B4%D0%B5%D0%BD%D0%B8%D0%B5%20%D0%B2%20pandas/data/titanic.csv\""
   ]
  },
  {
   "cell_type": "code",
   "execution_count": 34,
   "id": "7075ea8b",
   "metadata": {},
   "outputs": [
    {
     "data": {
      "text/html": [
       "<div>\n",
       "<style scoped>\n",
       "    .dataframe tbody tr th:only-of-type {\n",
       "        vertical-align: middle;\n",
       "    }\n",
       "\n",
       "    .dataframe tbody tr th {\n",
       "        vertical-align: top;\n",
       "    }\n",
       "\n",
       "    .dataframe thead th {\n",
       "        text-align: right;\n",
       "    }\n",
       "</style>\n",
       "<table border=\"1\" class=\"dataframe\">\n",
       "  <thead>\n",
       "    <tr style=\"text-align: right;\">\n",
       "      <th></th>\n",
       "      <th>PassengerId</th>\n",
       "      <th>Survived</th>\n",
       "      <th>Pclass</th>\n",
       "      <th>Name</th>\n",
       "      <th>Sex</th>\n",
       "      <th>Age</th>\n",
       "      <th>SibSp</th>\n",
       "      <th>Parch</th>\n",
       "      <th>Ticket</th>\n",
       "      <th>Fare</th>\n",
       "      <th>Cabin</th>\n",
       "      <th>Embarked</th>\n",
       "    </tr>\n",
       "  </thead>\n",
       "  <tbody>\n",
       "    <tr>\n",
       "      <th>0</th>\n",
       "      <td>1</td>\n",
       "      <td>0</td>\n",
       "      <td>3</td>\n",
       "      <td>Braund, Mr. Owen Harris</td>\n",
       "      <td>male</td>\n",
       "      <td>22.0</td>\n",
       "      <td>1</td>\n",
       "      <td>0</td>\n",
       "      <td>A/5 21171</td>\n",
       "      <td>7.2500</td>\n",
       "      <td>NaN</td>\n",
       "      <td>S</td>\n",
       "    </tr>\n",
       "    <tr>\n",
       "      <th>1</th>\n",
       "      <td>2</td>\n",
       "      <td>1</td>\n",
       "      <td>1</td>\n",
       "      <td>Cumings, Mrs. John Bradley (Florence Briggs Th...</td>\n",
       "      <td>female</td>\n",
       "      <td>38.0</td>\n",
       "      <td>1</td>\n",
       "      <td>0</td>\n",
       "      <td>PC 17599</td>\n",
       "      <td>71.2833</td>\n",
       "      <td>C85</td>\n",
       "      <td>C</td>\n",
       "    </tr>\n",
       "    <tr>\n",
       "      <th>2</th>\n",
       "      <td>3</td>\n",
       "      <td>1</td>\n",
       "      <td>3</td>\n",
       "      <td>Heikkinen, Miss. Laina</td>\n",
       "      <td>female</td>\n",
       "      <td>26.0</td>\n",
       "      <td>0</td>\n",
       "      <td>0</td>\n",
       "      <td>STON/O2. 3101282</td>\n",
       "      <td>7.9250</td>\n",
       "      <td>NaN</td>\n",
       "      <td>S</td>\n",
       "    </tr>\n",
       "    <tr>\n",
       "      <th>3</th>\n",
       "      <td>4</td>\n",
       "      <td>1</td>\n",
       "      <td>1</td>\n",
       "      <td>Futrelle, Mrs. Jacques Heath (Lily May Peel)</td>\n",
       "      <td>female</td>\n",
       "      <td>35.0</td>\n",
       "      <td>1</td>\n",
       "      <td>0</td>\n",
       "      <td>113803</td>\n",
       "      <td>53.1000</td>\n",
       "      <td>C123</td>\n",
       "      <td>S</td>\n",
       "    </tr>\n",
       "    <tr>\n",
       "      <th>4</th>\n",
       "      <td>5</td>\n",
       "      <td>0</td>\n",
       "      <td>3</td>\n",
       "      <td>Allen, Mr. William Henry</td>\n",
       "      <td>male</td>\n",
       "      <td>35.0</td>\n",
       "      <td>0</td>\n",
       "      <td>0</td>\n",
       "      <td>373450</td>\n",
       "      <td>8.0500</td>\n",
       "      <td>NaN</td>\n",
       "      <td>S</td>\n",
       "    </tr>\n",
       "    <tr>\n",
       "      <th>...</th>\n",
       "      <td>...</td>\n",
       "      <td>...</td>\n",
       "      <td>...</td>\n",
       "      <td>...</td>\n",
       "      <td>...</td>\n",
       "      <td>...</td>\n",
       "      <td>...</td>\n",
       "      <td>...</td>\n",
       "      <td>...</td>\n",
       "      <td>...</td>\n",
       "      <td>...</td>\n",
       "      <td>...</td>\n",
       "    </tr>\n",
       "    <tr>\n",
       "      <th>886</th>\n",
       "      <td>887</td>\n",
       "      <td>0</td>\n",
       "      <td>2</td>\n",
       "      <td>Montvila, Rev. Juozas</td>\n",
       "      <td>male</td>\n",
       "      <td>27.0</td>\n",
       "      <td>0</td>\n",
       "      <td>0</td>\n",
       "      <td>211536</td>\n",
       "      <td>13.0000</td>\n",
       "      <td>NaN</td>\n",
       "      <td>S</td>\n",
       "    </tr>\n",
       "    <tr>\n",
       "      <th>887</th>\n",
       "      <td>888</td>\n",
       "      <td>1</td>\n",
       "      <td>1</td>\n",
       "      <td>Graham, Miss. Margaret Edith</td>\n",
       "      <td>female</td>\n",
       "      <td>19.0</td>\n",
       "      <td>0</td>\n",
       "      <td>0</td>\n",
       "      <td>112053</td>\n",
       "      <td>30.0000</td>\n",
       "      <td>B42</td>\n",
       "      <td>S</td>\n",
       "    </tr>\n",
       "    <tr>\n",
       "      <th>888</th>\n",
       "      <td>889</td>\n",
       "      <td>0</td>\n",
       "      <td>3</td>\n",
       "      <td>Johnston, Miss. Catherine Helen \"Carrie\"</td>\n",
       "      <td>female</td>\n",
       "      <td>NaN</td>\n",
       "      <td>1</td>\n",
       "      <td>2</td>\n",
       "      <td>W./C. 6607</td>\n",
       "      <td>23.4500</td>\n",
       "      <td>NaN</td>\n",
       "      <td>S</td>\n",
       "    </tr>\n",
       "    <tr>\n",
       "      <th>889</th>\n",
       "      <td>890</td>\n",
       "      <td>1</td>\n",
       "      <td>1</td>\n",
       "      <td>Behr, Mr. Karl Howell</td>\n",
       "      <td>male</td>\n",
       "      <td>26.0</td>\n",
       "      <td>0</td>\n",
       "      <td>0</td>\n",
       "      <td>111369</td>\n",
       "      <td>30.0000</td>\n",
       "      <td>C148</td>\n",
       "      <td>C</td>\n",
       "    </tr>\n",
       "    <tr>\n",
       "      <th>890</th>\n",
       "      <td>891</td>\n",
       "      <td>0</td>\n",
       "      <td>3</td>\n",
       "      <td>Dooley, Mr. Patrick</td>\n",
       "      <td>male</td>\n",
       "      <td>32.0</td>\n",
       "      <td>0</td>\n",
       "      <td>0</td>\n",
       "      <td>370376</td>\n",
       "      <td>7.7500</td>\n",
       "      <td>NaN</td>\n",
       "      <td>Q</td>\n",
       "    </tr>\n",
       "  </tbody>\n",
       "</table>\n",
       "<p>891 rows × 12 columns</p>\n",
       "</div>"
      ],
      "text/plain": [
       "     PassengerId  Survived  Pclass  \\\n",
       "0              1         0       3   \n",
       "1              2         1       1   \n",
       "2              3         1       3   \n",
       "3              4         1       1   \n",
       "4              5         0       3   \n",
       "..           ...       ...     ...   \n",
       "886          887         0       2   \n",
       "887          888         1       1   \n",
       "888          889         0       3   \n",
       "889          890         1       1   \n",
       "890          891         0       3   \n",
       "\n",
       "                                                  Name     Sex   Age  SibSp  \\\n",
       "0                              Braund, Mr. Owen Harris    male  22.0      1   \n",
       "1    Cumings, Mrs. John Bradley (Florence Briggs Th...  female  38.0      1   \n",
       "2                               Heikkinen, Miss. Laina  female  26.0      0   \n",
       "3         Futrelle, Mrs. Jacques Heath (Lily May Peel)  female  35.0      1   \n",
       "4                             Allen, Mr. William Henry    male  35.0      0   \n",
       "..                                                 ...     ...   ...    ...   \n",
       "886                              Montvila, Rev. Juozas    male  27.0      0   \n",
       "887                       Graham, Miss. Margaret Edith  female  19.0      0   \n",
       "888           Johnston, Miss. Catherine Helen \"Carrie\"  female   NaN      1   \n",
       "889                              Behr, Mr. Karl Howell    male  26.0      0   \n",
       "890                                Dooley, Mr. Patrick    male  32.0      0   \n",
       "\n",
       "     Parch            Ticket     Fare Cabin Embarked  \n",
       "0        0         A/5 21171   7.2500   NaN        S  \n",
       "1        0          PC 17599  71.2833   C85        C  \n",
       "2        0  STON/O2. 3101282   7.9250   NaN        S  \n",
       "3        0            113803  53.1000  C123        S  \n",
       "4        0            373450   8.0500   NaN        S  \n",
       "..     ...               ...      ...   ...      ...  \n",
       "886      0            211536  13.0000   NaN        S  \n",
       "887      0            112053  30.0000   B42        S  \n",
       "888      2        W./C. 6607  23.4500   NaN        S  \n",
       "889      0            111369  30.0000  C148        C  \n",
       "890      0            370376   7.7500   NaN        Q  \n",
       "\n",
       "[891 rows x 12 columns]"
      ]
     },
     "execution_count": 34,
     "metadata": {},
     "output_type": "execute_result"
    }
   ],
   "source": [
    "titanic = pd.read_csv(url)\n",
    "titanic"
   ]
  },
  {
   "cell_type": "markdown",
   "id": "5e365031",
   "metadata": {},
   "source": [
    "### Сводная статистика "
   ]
  },
  {
   "cell_type": "markdown",
   "id": "e1d5d2d3",
   "metadata": {},
   "source": [
    "<div style=\"background-color: #ffffff; padding: 20px; text-align: center;\">\n",
    "    <img src=\"https://pandas.pydata.org/pandas-docs/stable/_images/06_aggregate.svg\" >\n",
    "</div>"
   ]
  },
  {
   "cell_type": "markdown",
   "id": "87f16cf0",
   "metadata": {},
   "source": [
    "Каков средний возраст пассажиров?"
   ]
  },
  {
   "cell_type": "code",
   "execution_count": 35,
   "id": "b22bce62",
   "metadata": {},
   "outputs": [
    {
     "data": {
      "text/plain": [
       "np.float64(29.69911764705882)"
      ]
     },
     "execution_count": 35,
     "metadata": {},
     "output_type": "execute_result"
    }
   ],
   "source": [
    "titanic[\"Age\"].mean()"
   ]
  },
  {
   "cell_type": "markdown",
   "id": "28dfa7a0",
   "metadata": {},
   "source": [
    "В `pandas` доступны различные статистические данные, которые могут быть применены к столбцам с числовыми значениями. \n",
    "\n",
    "Операции исключают отсутствующие данные и по умолчанию работают со строками в таблице."
   ]
  },
  {
   "cell_type": "markdown",
   "id": "7f61cffe",
   "metadata": {},
   "source": [
    "<div style=\"background-color: #ffffff; padding: 20px; text-align: center;\">\n",
    "    <img src=\"https://pandas.pydata.org/pandas-docs/stable/_images/06_reduction.svg\">\n",
    "</div>"
   ]
  },
  {
   "cell_type": "markdown",
   "id": "a91df5ff",
   "metadata": {},
   "source": [
    "Каков средний возраст и стоимость билета для пассажиров?"
   ]
  },
  {
   "cell_type": "code",
   "execution_count": 36,
   "id": "a1260991",
   "metadata": {},
   "outputs": [
    {
     "data": {
      "text/plain": [
       "Age     28.0000\n",
       "Fare    14.4542\n",
       "dtype: float64"
      ]
     },
     "execution_count": 36,
     "metadata": {},
     "output_type": "execute_result"
    }
   ],
   "source": [
    "titanic[[\"Age\", \"Fare\"]].median()"
   ]
  },
  {
   "cell_type": "markdown",
   "id": "9c8c9e93",
   "metadata": {},
   "source": [
    "<img src=\"https://upload.wikimedia.org/wikipedia/commons/5/59/Titanic_surviving_officers.jpg\" width=\"250\" height=\"200\">\n",
    "На фото четыре спасшихся во время крушения офицера \"Титаника\""
   ]
  },
  {
   "cell_type": "markdown",
   "id": "d6bc9dca",
   "metadata": {},
   "source": [
    "Статистика, примененная к нескольким столбцам `DataFrame`, рассчитывается для каждого из числовых столбцов."
   ]
  },
  {
   "cell_type": "markdown",
   "id": "04ba8711",
   "metadata": {},
   "source": [
    "Агрегирующая статистика может быть рассчитана для нескольких столбцов одновременно:"
   ]
  },
  {
   "cell_type": "code",
   "execution_count": 37,
   "id": "eb90aa54",
   "metadata": {},
   "outputs": [
    {
     "data": {
      "text/html": [
       "<div>\n",
       "<style scoped>\n",
       "    .dataframe tbody tr th:only-of-type {\n",
       "        vertical-align: middle;\n",
       "    }\n",
       "\n",
       "    .dataframe tbody tr th {\n",
       "        vertical-align: top;\n",
       "    }\n",
       "\n",
       "    .dataframe thead th {\n",
       "        text-align: right;\n",
       "    }\n",
       "</style>\n",
       "<table border=\"1\" class=\"dataframe\">\n",
       "  <thead>\n",
       "    <tr style=\"text-align: right;\">\n",
       "      <th></th>\n",
       "      <th>Age</th>\n",
       "      <th>Fare</th>\n",
       "    </tr>\n",
       "  </thead>\n",
       "  <tbody>\n",
       "    <tr>\n",
       "      <th>count</th>\n",
       "      <td>714.000000</td>\n",
       "      <td>891.000000</td>\n",
       "    </tr>\n",
       "    <tr>\n",
       "      <th>mean</th>\n",
       "      <td>29.699118</td>\n",
       "      <td>32.204208</td>\n",
       "    </tr>\n",
       "    <tr>\n",
       "      <th>std</th>\n",
       "      <td>14.526497</td>\n",
       "      <td>49.693429</td>\n",
       "    </tr>\n",
       "    <tr>\n",
       "      <th>min</th>\n",
       "      <td>0.420000</td>\n",
       "      <td>0.000000</td>\n",
       "    </tr>\n",
       "    <tr>\n",
       "      <th>25%</th>\n",
       "      <td>20.125000</td>\n",
       "      <td>7.910400</td>\n",
       "    </tr>\n",
       "    <tr>\n",
       "      <th>50%</th>\n",
       "      <td>28.000000</td>\n",
       "      <td>14.454200</td>\n",
       "    </tr>\n",
       "    <tr>\n",
       "      <th>75%</th>\n",
       "      <td>38.000000</td>\n",
       "      <td>31.000000</td>\n",
       "    </tr>\n",
       "    <tr>\n",
       "      <th>max</th>\n",
       "      <td>80.000000</td>\n",
       "      <td>512.329200</td>\n",
       "    </tr>\n",
       "  </tbody>\n",
       "</table>\n",
       "</div>"
      ],
      "text/plain": [
       "              Age        Fare\n",
       "count  714.000000  891.000000\n",
       "mean    29.699118   32.204208\n",
       "std     14.526497   49.693429\n",
       "min      0.420000    0.000000\n",
       "25%     20.125000    7.910400\n",
       "50%     28.000000   14.454200\n",
       "75%     38.000000   31.000000\n",
       "max     80.000000  512.329200"
      ]
     },
     "execution_count": 37,
     "metadata": {},
     "output_type": "execute_result"
    }
   ],
   "source": [
    "titanic[[\"Age\", \"Fare\"]].describe()"
   ]
  },
  {
   "cell_type": "markdown",
   "id": "27cb1639",
   "metadata": {},
   "source": [
    "С помощью метода [`DataFrame.agg()`](https://pandas.pydata.org/pandas-docs/stable/reference/api/pandas.DataFrame.agg.html#pandas.DataFrame.agg) могут быть определены комбинации статистики для заданных столбцов:"
   ]
  },
  {
   "cell_type": "code",
   "execution_count": 38,
   "id": "636f43e7",
   "metadata": {},
   "outputs": [
    {
     "data": {
      "text/html": [
       "<div>\n",
       "<style scoped>\n",
       "    .dataframe tbody tr th:only-of-type {\n",
       "        vertical-align: middle;\n",
       "    }\n",
       "\n",
       "    .dataframe tbody tr th {\n",
       "        vertical-align: top;\n",
       "    }\n",
       "\n",
       "    .dataframe thead th {\n",
       "        text-align: right;\n",
       "    }\n",
       "</style>\n",
       "<table border=\"1\" class=\"dataframe\">\n",
       "  <thead>\n",
       "    <tr style=\"text-align: right;\">\n",
       "      <th></th>\n",
       "      <th>Age</th>\n",
       "      <th>Fare</th>\n",
       "    </tr>\n",
       "  </thead>\n",
       "  <tbody>\n",
       "    <tr>\n",
       "      <th>min</th>\n",
       "      <td>0.420000</td>\n",
       "      <td>0.000000</td>\n",
       "    </tr>\n",
       "    <tr>\n",
       "      <th>max</th>\n",
       "      <td>80.000000</td>\n",
       "      <td>512.329200</td>\n",
       "    </tr>\n",
       "    <tr>\n",
       "      <th>median</th>\n",
       "      <td>28.000000</td>\n",
       "      <td>14.454200</td>\n",
       "    </tr>\n",
       "    <tr>\n",
       "      <th>skew</th>\n",
       "      <td>0.389108</td>\n",
       "      <td>NaN</td>\n",
       "    </tr>\n",
       "    <tr>\n",
       "      <th>mean</th>\n",
       "      <td>NaN</td>\n",
       "      <td>32.204208</td>\n",
       "    </tr>\n",
       "  </tbody>\n",
       "</table>\n",
       "</div>"
      ],
      "text/plain": [
       "              Age        Fare\n",
       "min      0.420000    0.000000\n",
       "max     80.000000  512.329200\n",
       "median  28.000000   14.454200\n",
       "skew     0.389108         NaN\n",
       "mean          NaN   32.204208"
      ]
     },
     "execution_count": 38,
     "metadata": {},
     "output_type": "execute_result"
    }
   ],
   "source": [
    "titanic.agg(\n",
    "    {\"Age\": [\"min\", \"max\", \"median\", \"skew\"], \"Fare\": [\"min\", \"max\", \"median\", \"mean\"]}\n",
    ")"
   ]
  },
  {
   "cell_type": "markdown",
   "id": "6a6df54a",
   "metadata": {},
   "source": [
    "Подробная информация об описательной статистике представлена в [разделе руководства пользователя по описательной статистике](https://pandas.pydata.org/docs/user_guide/basics.html?highlight=describe#descriptive-statistics)."
   ]
  },
  {
   "cell_type": "markdown",
   "id": "e1f2a9a5",
   "metadata": {},
   "source": [
    "### Агрегирование статистических данных, сгруппированных по категориям"
   ]
  },
  {
   "cell_type": "markdown",
   "id": "04f5353f",
   "metadata": {},
   "source": [
    "<div style=\"background-color: #ffffff; padding: 20px; text-align: center;\">\n",
    "    <img src=\"https://pandas.pydata.org/docs/_images/06_groupby.svg\">\n",
    "</div>"
   ]
  },
  {
   "cell_type": "markdown",
   "id": "a4b945c2",
   "metadata": {},
   "source": [
    "Каков средний возраст мужчин и женщин пассажиров?"
   ]
  },
  {
   "cell_type": "code",
   "execution_count": 39,
   "id": "4bc49ebe",
   "metadata": {},
   "outputs": [
    {
     "data": {
      "text/html": [
       "<div>\n",
       "<style scoped>\n",
       "    .dataframe tbody tr th:only-of-type {\n",
       "        vertical-align: middle;\n",
       "    }\n",
       "\n",
       "    .dataframe tbody tr th {\n",
       "        vertical-align: top;\n",
       "    }\n",
       "\n",
       "    .dataframe thead th {\n",
       "        text-align: right;\n",
       "    }\n",
       "</style>\n",
       "<table border=\"1\" class=\"dataframe\">\n",
       "  <thead>\n",
       "    <tr style=\"text-align: right;\">\n",
       "      <th></th>\n",
       "      <th>Age</th>\n",
       "    </tr>\n",
       "    <tr>\n",
       "      <th>Sex</th>\n",
       "      <th></th>\n",
       "    </tr>\n",
       "  </thead>\n",
       "  <tbody>\n",
       "    <tr>\n",
       "      <th>female</th>\n",
       "      <td>27.915709</td>\n",
       "    </tr>\n",
       "    <tr>\n",
       "      <th>male</th>\n",
       "      <td>30.726645</td>\n",
       "    </tr>\n",
       "  </tbody>\n",
       "</table>\n",
       "</div>"
      ],
      "text/plain": [
       "              Age\n",
       "Sex              \n",
       "female  27.915709\n",
       "male    30.726645"
      ]
     },
     "execution_count": 39,
     "metadata": {},
     "output_type": "execute_result"
    }
   ],
   "source": [
    "titanic[[\"Sex\", \"Age\"]].groupby(\"Sex\").mean()"
   ]
  },
  {
   "cell_type": "markdown",
   "id": "e2e9eb52",
   "metadata": {},
   "source": [
    "Поскольку интерес представляет средний возраст для каждого пола, сначала делается выборка по этим двум столбцам: `titanic[[\"Sex\", \"Age\"]]`.\n",
    "\n",
    "Затем метод [`groupby()`](https://pandas.pydata.org/pandas-docs/stable/reference/api/pandas.DataFrame.groupby.html#pandas.DataFrame.groupby) применяется к столбцу `Sex` для создания группы по категориям. \n",
    "\n",
    "Затем рассчитывается и возвращается средний возраст для каждого пола."
   ]
  },
  {
   "cell_type": "markdown",
   "id": "6b9cc87a",
   "metadata": {},
   "source": [
    "Вычисление заданной статистики (например, `mean` для возраста) для каждой категории в столбце (например, `male`/`female` в столбце `Sex`) является обычной моделью. Метод `groupby` используется для поддержки этого типа операций. В более общем плане это соответствует схеме `split-apply-combine`:\n",
    "\n",
    "- **Разделить** данные на группы\n",
    "- **Применить** функцию независимо к каждой группе \n",
    "- **Объединить** результаты в структуру данных\n",
    "\n",
    "Этапы применения и объединения обычно выполняются в `pandas` вместе.\n",
    "\n",
    "В предыдущем примере мы сначала явно выбрали `2` столбца. Если нет, то метод `mean` применяется к каждому столбцу, содержащему числа:"
   ]
  },
  {
   "cell_type": "code",
   "execution_count": 40,
   "id": "0cdc2cc8",
   "metadata": {},
   "outputs": [
    {
     "data": {
      "text/html": [
       "<div>\n",
       "<style scoped>\n",
       "    .dataframe tbody tr th:only-of-type {\n",
       "        vertical-align: middle;\n",
       "    }\n",
       "\n",
       "    .dataframe tbody tr th {\n",
       "        vertical-align: top;\n",
       "    }\n",
       "\n",
       "    .dataframe thead th {\n",
       "        text-align: right;\n",
       "    }\n",
       "</style>\n",
       "<table border=\"1\" class=\"dataframe\">\n",
       "  <thead>\n",
       "    <tr style=\"text-align: right;\">\n",
       "      <th></th>\n",
       "      <th>PassengerId</th>\n",
       "      <th>Survived</th>\n",
       "      <th>Pclass</th>\n",
       "      <th>Age</th>\n",
       "      <th>SibSp</th>\n",
       "      <th>Parch</th>\n",
       "      <th>Fare</th>\n",
       "    </tr>\n",
       "    <tr>\n",
       "      <th>Sex</th>\n",
       "      <th></th>\n",
       "      <th></th>\n",
       "      <th></th>\n",
       "      <th></th>\n",
       "      <th></th>\n",
       "      <th></th>\n",
       "      <th></th>\n",
       "    </tr>\n",
       "  </thead>\n",
       "  <tbody>\n",
       "    <tr>\n",
       "      <th>female</th>\n",
       "      <td>431.028662</td>\n",
       "      <td>0.742038</td>\n",
       "      <td>2.159236</td>\n",
       "      <td>27.915709</td>\n",
       "      <td>0.694268</td>\n",
       "      <td>0.649682</td>\n",
       "      <td>44.479818</td>\n",
       "    </tr>\n",
       "    <tr>\n",
       "      <th>male</th>\n",
       "      <td>454.147314</td>\n",
       "      <td>0.188908</td>\n",
       "      <td>2.389948</td>\n",
       "      <td>30.726645</td>\n",
       "      <td>0.429809</td>\n",
       "      <td>0.235702</td>\n",
       "      <td>25.523893</td>\n",
       "    </tr>\n",
       "  </tbody>\n",
       "</table>\n",
       "</div>"
      ],
      "text/plain": [
       "        PassengerId  Survived    Pclass        Age     SibSp     Parch  \\\n",
       "Sex                                                                      \n",
       "female   431.028662  0.742038  2.159236  27.915709  0.694268  0.649682   \n",
       "male     454.147314  0.188908  2.389948  30.726645  0.429809  0.235702   \n",
       "\n",
       "             Fare  \n",
       "Sex                \n",
       "female  44.479818  \n",
       "male    25.523893  "
      ]
     },
     "execution_count": 40,
     "metadata": {},
     "output_type": "execute_result"
    }
   ],
   "source": [
    "# titanic.groupby(\"Sex\").mean()\n",
    "titanic.groupby(\"Sex\").mean(numeric_only=True)"
   ]
  },
  {
   "cell_type": "markdown",
   "id": "3d9a95ae",
   "metadata": {},
   "source": [
    "Не имеет смысла получать среднее значение для столбца `Pclass` (тип каюты). \n",
    "\n",
    "Если нас интересует только средний возраст для каждого пола, то выбор столбцов поддерживается и для сгруппированных данных:"
   ]
  },
  {
   "cell_type": "code",
   "execution_count": 41,
   "id": "0b0729f1",
   "metadata": {},
   "outputs": [
    {
     "data": {
      "text/plain": [
       "Sex\n",
       "female    27.915709\n",
       "male      30.726645\n",
       "Name: Age, dtype: float64"
      ]
     },
     "execution_count": 41,
     "metadata": {},
     "output_type": "execute_result"
    }
   ],
   "source": [
    "titanic.groupby(\"Sex\")[\"Age\"].mean()"
   ]
  },
  {
   "cell_type": "markdown",
   "id": "8ca1c4fc",
   "metadata": {},
   "source": [
    "<div style=\"background-color: #ffffff; padding: 20px; text-align: center;\">\n",
    "    <img src=\"https://pandas.pydata.org/pandas-docs/stable/_images/06_groupby_select_detail.svg\" >\n",
    "</div>"
   ]
  },
  {
   "cell_type": "markdown",
   "id": "05062a38",
   "metadata": {},
   "source": [
    "Столбец `Pclass` содержит числовые данные, но на самом деле представляет собой `3` категории (или фактора), соответственно метки `\"1\"`, `\"2\"` и `\"3\"`. Расчет статистики по ним не имеет большого смысла. \n",
    "`pandas` предоставляет тип данных `Categorical` для обработки подобных значений. Более подробная информация представлена в руководстве пользователя в разделе [Категориальные данные](https://pandas.pydata.org/pandas-docs/stable/user_guide/categorical.html#categorical)."
   ]
  },
  {
   "cell_type": "markdown",
   "id": "daa67590",
   "metadata": {},
   "source": [
    "Какова средняя цена билета для каждой комбинации пола и типа каюты?"
   ]
  },
  {
   "cell_type": "code",
   "execution_count": 42,
   "id": "488459a8",
   "metadata": {},
   "outputs": [
    {
     "data": {
      "text/plain": [
       "Sex     Pclass\n",
       "female  1         106.125798\n",
       "        2          21.970121\n",
       "        3          16.118810\n",
       "male    1          67.226127\n",
       "        2          19.741782\n",
       "        3          12.661633\n",
       "Name: Fare, dtype: float64"
      ]
     },
     "execution_count": 42,
     "metadata": {},
     "output_type": "execute_result"
    }
   ],
   "source": [
    "titanic.groupby([\"Sex\", \"Pclass\"])[\"Fare\"].mean()"
   ]
  },
  {
   "cell_type": "markdown",
   "id": "7dbf7952",
   "metadata": {},
   "source": [
    "Группировка может выполняться по нескольким столбцам одновременно. Укажите имена столбцов в виде списка для метода [`groupby()`](https://pandas.pydata.org/pandas-docs/stable/reference/api/pandas.DataFrame.groupby.html#pandas.DataFrame.groupby)."
   ]
  },
  {
   "cell_type": "markdown",
   "id": "5402c45a",
   "metadata": {},
   "source": [
    "Полное описание подхода разделения-применения-объединения приведено в разделе [руководства пользователя по групповым операциям](https://pandas.pydata.org/pandas-docs/stable/user_guide/groupby.html#groupby)."
   ]
  },
  {
   "cell_type": "markdown",
   "id": "014df3fb",
   "metadata": {},
   "source": [
    "### Подсчитать количество записей по категориям"
   ]
  },
  {
   "cell_type": "markdown",
   "id": "ae755091",
   "metadata": {},
   "source": [
    "<div style=\"background-color: #ffffff; padding: 20px; text-align: center;\">\n",
    "    <img src=\"https://pandas.pydata.org/pandas-docs/stable/_images/06_valuecounts.svg\" >\n",
    "</div>"
   ]
  },
  {
   "cell_type": "markdown",
   "id": "d601ad4e",
   "metadata": {},
   "source": [
    "Какое количество пассажиров в каждом из типов кают?"
   ]
  },
  {
   "cell_type": "code",
   "execution_count": 43,
   "id": "c76398c0",
   "metadata": {},
   "outputs": [
    {
     "data": {
      "text/plain": [
       "Pclass\n",
       "3    491\n",
       "1    216\n",
       "2    184\n",
       "Name: count, dtype: int64"
      ]
     },
     "execution_count": 43,
     "metadata": {},
     "output_type": "execute_result"
    }
   ],
   "source": [
    "titanic[\"Pclass\"].value_counts()"
   ]
  },
  {
   "cell_type": "markdown",
   "id": "8de3fbfe",
   "metadata": {},
   "source": [
    "Метод [`value_counts()`](https://pandas.pydata.org/pandas-docs/stable/reference/api/pandas.Series.value_counts.html#pandas.Series.value_counts) подсчитывает количество записей для каждой категории в колонке."
   ]
  },
  {
   "cell_type": "markdown",
   "id": "dac9e95e",
   "metadata": {},
   "source": [
    "На самом деле, за этой функцией скрывается групповая операция в сочетании с подсчетом количества записей в каждой группе:"
   ]
  },
  {
   "cell_type": "code",
   "execution_count": 44,
   "id": "a1458a85",
   "metadata": {},
   "outputs": [
    {
     "data": {
      "text/plain": [
       "Pclass\n",
       "1    216\n",
       "2    184\n",
       "3    491\n",
       "Name: Pclass, dtype: int64"
      ]
     },
     "execution_count": 44,
     "metadata": {},
     "output_type": "execute_result"
    }
   ],
   "source": [
    "titanic.groupby(\"Pclass\")[\"Pclass\"].count()"
   ]
  },
  {
   "cell_type": "markdown",
   "id": "850ea134",
   "metadata": {},
   "source": [
    "<img src=\"https://upload.wikimedia.org/wikipedia/commons/a/ab/B-58.jpg\" width=\"250\" height=\"200\">\n",
    "\n",
    "На фото каюта Титаника \"В-58\""
   ]
  },
  {
   "cell_type": "markdown",
   "id": "a777c650",
   "metadata": {},
   "source": [
    "В сочетании с `groupby` могут быть использованы `size` и `count`. \n",
    "\n",
    "В то время как `size` включает в себя `NaN` значения и просто предоставляет количество строк (размер таблицы), `count` исключает отсутствующие значения. \n",
    "\n",
    "В методе `value_counts` используйте `dropna` аргумент для включения или исключения `NaN` значений."
   ]
  },
  {
   "cell_type": "markdown",
   "id": "a9c58e40",
   "metadata": {},
   "source": [
    "*В* руководстве пользователя есть специальный раздел `value_counts`, см. [Страницу о дискретизации](https://pandas.pydata.org/docs/user_guide/basics.html#basics-discretization)."
   ]
  },
  {
   "cell_type": "markdown",
   "id": "e1100f30",
   "metadata": {},
   "source": [
    "Полное описание `подхода разделения-применения-объединения` приведено на страницах [руководства пользователя по групповым операциям](https://pandas.pydata.org/pandas-docs/stable/user_guide/groupby.html#groupby)."
   ]
  }
 ],
 "metadata": {
  "kernelspec": {
   "display_name": "base",
   "language": "python",
   "name": "python3"
  },
  "language_info": {
   "codemirror_mode": {
    "name": "ipython",
    "version": 3
   },
   "file_extension": ".py",
   "mimetype": "text/x-python",
   "name": "python",
   "nbconvert_exporter": "python",
   "pygments_lexer": "ipython3",
   "version": "3.12.8"
  }
 },
 "nbformat": 4,
 "nbformat_minor": 5
}

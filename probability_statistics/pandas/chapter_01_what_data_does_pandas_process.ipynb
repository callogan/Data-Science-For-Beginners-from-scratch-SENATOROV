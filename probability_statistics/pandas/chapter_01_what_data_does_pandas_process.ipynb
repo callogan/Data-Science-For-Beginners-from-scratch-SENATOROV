{
 "cells": [
  {
   "cell_type": "code",
   "execution_count": null,
   "id": "76ee4bfc",
   "metadata": {},
   "outputs": [
    {
     "data": {
      "text/plain": [
       "'What data does pandas process?'"
      ]
     },
     "execution_count": 1,
     "metadata": {},
     "output_type": "execute_result"
    }
   ],
   "source": [
    "\"\"\"What data does pandas process?.\"\"\""
   ]
  },
  {
   "cell_type": "markdown",
   "id": "fc1bdfc7",
   "metadata": {},
   "source": [
    "# Какие данные обрабатывает pandas?"
   ]
  },
  {
   "cell_type": "markdown",
   "id": "92ef661b",
   "metadata": {},
   "source": [
    "Импортируем модуль pandas:"
   ]
  },
  {
   "cell_type": "code",
   "execution_count": 2,
   "id": "ab6f862b",
   "metadata": {},
   "outputs": [],
   "source": [
    "import pandas as pd"
   ]
  },
  {
   "cell_type": "markdown",
   "id": "c56ae959",
   "metadata": {},
   "source": [
    "В основе работы `pandas` лежит табличное представление данных:\n",
    "\n",
    "<div style=\"background-color: #ffffff; padding: 20px; text-align: center;\">\n",
    "    <img src=\"https://pandas.pydata.org/docs/_images/01_table_dataframe.svg\">\n",
    "</div>"
   ]
  },
  {
   "cell_type": "markdown",
   "id": "137f44fb",
   "metadata": {},
   "source": [
    "В качестве примера рассмотрим данные о пассажирах Титаника. \n",
    "\n",
    "<img src=\"https://avatars.mds.yandex.net/get-kinopoisk-post-img/1374145/6aae47e9a525adfb3c9c433be10e62df/1920x1080\" height=\"300px\" width=\"500px\" >\n",
    "\n",
    "Для ряда пассажиров я знаю имя (символы), возраст (целые числа) и пол (мужской / женский)."
   ]
  },
  {
   "cell_type": "code",
   "execution_count": 3,
   "id": "bf498d13",
   "metadata": {},
   "outputs": [],
   "source": [
    "df = pd.DataFrame(\n",
    "    {\n",
    "        \"Name\": [\n",
    "            \"Braund, Mr. Owen Harris\",\n",
    "            \"Allen, Mr. William Henry\",\n",
    "            \"Bonnell, Miss. Elizabeth\",\n",
    "        ],\n",
    "        \"Age\": [22, 35, 58],\n",
    "        \"Sex\": [\"male\", \"male\", \"female\"],\n",
    "    }\n",
    ")"
   ]
  },
  {
   "cell_type": "code",
   "execution_count": 4,
   "id": "06a144b0",
   "metadata": {},
   "outputs": [
    {
     "data": {
      "text/html": [
       "<div>\n",
       "<style scoped>\n",
       "    .dataframe tbody tr th:only-of-type {\n",
       "        vertical-align: middle;\n",
       "    }\n",
       "\n",
       "    .dataframe tbody tr th {\n",
       "        vertical-align: top;\n",
       "    }\n",
       "\n",
       "    .dataframe thead th {\n",
       "        text-align: right;\n",
       "    }\n",
       "</style>\n",
       "<table border=\"1\" class=\"dataframe\">\n",
       "  <thead>\n",
       "    <tr style=\"text-align: right;\">\n",
       "      <th></th>\n",
       "      <th>Name</th>\n",
       "      <th>Age</th>\n",
       "      <th>Sex</th>\n",
       "    </tr>\n",
       "  </thead>\n",
       "  <tbody>\n",
       "    <tr>\n",
       "      <th>0</th>\n",
       "      <td>Braund, Mr. Owen Harris</td>\n",
       "      <td>22</td>\n",
       "      <td>male</td>\n",
       "    </tr>\n",
       "    <tr>\n",
       "      <th>1</th>\n",
       "      <td>Allen, Mr. William Henry</td>\n",
       "      <td>35</td>\n",
       "      <td>male</td>\n",
       "    </tr>\n",
       "    <tr>\n",
       "      <th>2</th>\n",
       "      <td>Bonnell, Miss. Elizabeth</td>\n",
       "      <td>58</td>\n",
       "      <td>female</td>\n",
       "    </tr>\n",
       "  </tbody>\n",
       "</table>\n",
       "</div>"
      ],
      "text/plain": [
       "                       Name  Age     Sex\n",
       "0   Braund, Mr. Owen Harris   22    male\n",
       "1  Allen, Mr. William Henry   35    male\n",
       "2  Bonnell, Miss. Elizabeth   58  female"
      ]
     },
     "execution_count": 4,
     "metadata": {},
     "output_type": "execute_result"
    }
   ],
   "source": [
    "df"
   ]
  },
  {
   "cell_type": "markdown",
   "id": "c46b0a55",
   "metadata": {},
   "source": [
    "Полученная структура данных называется [`DataFrame`](https://pandas.pydata.org/pandas-docs/stable/reference/api/pandas.DataFrame.html#pandas.DataFrame).\n",
    "\n",
    "Напоминает обычные таблицы:"
   ]
  },
  {
   "cell_type": "markdown",
   "id": "46b57253",
   "metadata": {},
   "source": [
    "<img src=\"https://pandas.pydata.org/pandas-docs/stable/_images/01_table_spreadsheet.png\" height=\"200px\" width=\"400px\" >"
   ]
  },
  {
   "cell_type": "markdown",
   "id": "83870b14",
   "metadata": {},
   "source": [
    "Каждый столбец в структуре `DataFrame` является типом [`Series`](https://pandas.pydata.org/pandas-docs/stable/reference/api/pandas.Series.html#pandas.Series):\n",
    "\n",
    "<div style=\"background-color: #ffffff; padding: 20px; text-align: center;\">\n",
    "    <img src=\"https://pandas.pydata.org/pandas-docs/stable/_images/01_table_series.svg\">\n",
    "</div>"
   ]
  },
  {
   "cell_type": "markdown",
   "id": "6d52553f",
   "metadata": {},
   "source": [
    "Выбрать столбец из таблицы:"
   ]
  },
  {
   "cell_type": "code",
   "execution_count": 5,
   "id": "b9251703",
   "metadata": {},
   "outputs": [
    {
     "data": {
      "text/plain": [
       "0    22\n",
       "1    35\n",
       "2    58\n",
       "Name: Age, dtype: int64"
      ]
     },
     "execution_count": 5,
     "metadata": {},
     "output_type": "execute_result"
    }
   ],
   "source": [
    "df[\"Age\"]"
   ]
  },
  {
   "cell_type": "markdown",
   "id": "18588a8a",
   "metadata": {},
   "source": [
    "Внешне очень напоминает питоновский [словарь](https://docs.python.org/3/tutorial/datastructures.html#tut-dictionaries)."
   ]
  },
  {
   "cell_type": "markdown",
   "id": "d2ffb0a3",
   "metadata": {},
   "source": [
    "Вы также можете создать `Series` с нуля:"
   ]
  },
  {
   "cell_type": "code",
   "execution_count": 6,
   "id": "f75e9aa8",
   "metadata": {},
   "outputs": [],
   "source": [
    "ages = pd.Series([22, 35, 58], name=\"Age\")"
   ]
  },
  {
   "cell_type": "code",
   "execution_count": 7,
   "id": "0cf29fbe",
   "metadata": {},
   "outputs": [
    {
     "data": {
      "text/plain": [
       "0    22\n",
       "1    35\n",
       "2    58\n",
       "Name: Age, dtype: int64"
      ]
     },
     "execution_count": 7,
     "metadata": {},
     "output_type": "execute_result"
    }
   ],
   "source": [
    "ages"
   ]
  },
  {
   "cell_type": "markdown",
   "id": "77f0a9ec",
   "metadata": {},
   "source": [
    "### Сделайте что-нибудь с DataFrame или Series"
   ]
  },
  {
   "cell_type": "markdown",
   "id": "fc837f96",
   "metadata": {},
   "source": [
    "Я хочу узнать максимальный возраст пассажиров, применив функцию `max()` к столбцу таблицы:"
   ]
  },
  {
   "cell_type": "code",
   "execution_count": 8,
   "id": "3c4e4e4b",
   "metadata": {},
   "outputs": [
    {
     "data": {
      "text/plain": [
       "np.int64(58)"
      ]
     },
     "execution_count": 8,
     "metadata": {},
     "output_type": "execute_result"
    }
   ],
   "source": [
    "df[\"Age\"].max()"
   ]
  },
  {
   "cell_type": "markdown",
   "id": "b94d2d23",
   "metadata": {},
   "source": [
    "или к типу данных `Series`:"
   ]
  },
  {
   "cell_type": "code",
   "execution_count": 9,
   "id": "805ef058",
   "metadata": {},
   "outputs": [
    {
     "data": {
      "text/plain": [
       "np.int64(58)"
      ]
     },
     "execution_count": 9,
     "metadata": {},
     "output_type": "execute_result"
    }
   ],
   "source": [
    "ages.max()"
   ]
  },
  {
   "cell_type": "markdown",
   "id": "aa51f6b8",
   "metadata": {},
   "source": [
    "Помимо поиска максимального в `pandas` существует [большой набор функций](https://pandas.pydata.org/docs/user_guide/basics.html?highlight=describe#descriptive-statistics)."
   ]
  },
  {
   "cell_type": "markdown",
   "id": "1760fd4f",
   "metadata": {},
   "source": [
    "Если интересует некоторая базовая статистика числовых данных:"
   ]
  },
  {
   "cell_type": "code",
   "execution_count": 10,
   "id": "b5445ef3",
   "metadata": {},
   "outputs": [
    {
     "data": {
      "text/html": [
       "<div>\n",
       "<style scoped>\n",
       "    .dataframe tbody tr th:only-of-type {\n",
       "        vertical-align: middle;\n",
       "    }\n",
       "\n",
       "    .dataframe tbody tr th {\n",
       "        vertical-align: top;\n",
       "    }\n",
       "\n",
       "    .dataframe thead th {\n",
       "        text-align: right;\n",
       "    }\n",
       "</style>\n",
       "<table border=\"1\" class=\"dataframe\">\n",
       "  <thead>\n",
       "    <tr style=\"text-align: right;\">\n",
       "      <th></th>\n",
       "      <th>Age</th>\n",
       "    </tr>\n",
       "  </thead>\n",
       "  <tbody>\n",
       "    <tr>\n",
       "      <th>count</th>\n",
       "      <td>3.000000</td>\n",
       "    </tr>\n",
       "    <tr>\n",
       "      <th>mean</th>\n",
       "      <td>38.333333</td>\n",
       "    </tr>\n",
       "    <tr>\n",
       "      <th>std</th>\n",
       "      <td>18.230012</td>\n",
       "    </tr>\n",
       "    <tr>\n",
       "      <th>min</th>\n",
       "      <td>22.000000</td>\n",
       "    </tr>\n",
       "    <tr>\n",
       "      <th>25%</th>\n",
       "      <td>28.500000</td>\n",
       "    </tr>\n",
       "    <tr>\n",
       "      <th>50%</th>\n",
       "      <td>35.000000</td>\n",
       "    </tr>\n",
       "    <tr>\n",
       "      <th>75%</th>\n",
       "      <td>46.500000</td>\n",
       "    </tr>\n",
       "    <tr>\n",
       "      <th>max</th>\n",
       "      <td>58.000000</td>\n",
       "    </tr>\n",
       "  </tbody>\n",
       "</table>\n",
       "</div>"
      ],
      "text/plain": [
       "             Age\n",
       "count   3.000000\n",
       "mean   38.333333\n",
       "std    18.230012\n",
       "min    22.000000\n",
       "25%    28.500000\n",
       "50%    35.000000\n",
       "75%    46.500000\n",
       "max    58.000000"
      ]
     },
     "execution_count": 10,
     "metadata": {},
     "output_type": "execute_result"
    }
   ],
   "source": [
    "df.describe()"
   ]
  },
  {
   "cell_type": "markdown",
   "id": "8b09318e",
   "metadata": {},
   "source": [
    "[`describe()`](https://pandas.pydata.org/docs/user_guide/basics.html?highlight=describe#summarizing-data-describe) метод обеспечивает краткий обзор численных данных в `DataFrame`. \n",
    "\n",
    "Так как столбцы `Name` и `Sex` состоят из текстовых данных, то они не учитываются в `describe()`.\n",
    "\n",
    "Многие операции в `pandas` возвращают `DataFrame` или `Series`. "
   ]
  }
 ],
 "metadata": {
  "kernelspec": {
   "display_name": "base",
   "language": "python",
   "name": "python3"
  },
  "language_info": {
   "codemirror_mode": {
    "name": "ipython",
    "version": 3
   },
   "file_extension": ".py",
   "mimetype": "text/x-python",
   "name": "python",
   "nbconvert_exporter": "python",
   "pygments_lexer": "ipython3",
   "version": "3.12.8"
  }
 },
 "nbformat": 4,
 "nbformat_minor": 5
}

{
 "cells": [
  {
   "cell_type": "code",
   "execution_count": 1,
   "id": "dfa7de80",
   "metadata": {},
   "outputs": [
    {
     "data": {
      "text/plain": [
       "'How to create new columns?.'"
      ]
     },
     "execution_count": 1,
     "metadata": {},
     "output_type": "execute_result"
    }
   ],
   "source": [
    "\"\"\"How to create new columns?.\"\"\""
   ]
  },
  {
   "cell_type": "markdown",
   "id": "41427c0a",
   "metadata": {},
   "source": [
    "# Как создать новые столбцы?"
   ]
  },
  {
   "cell_type": "code",
   "execution_count": 2,
   "id": "7e8535b6",
   "metadata": {},
   "outputs": [],
   "source": [
    "import pandas as pd"
   ]
  },
  {
   "cell_type": "code",
   "execution_count": 3,
   "id": "5d435de0",
   "metadata": {},
   "outputs": [],
   "source": [
    "# pylint: disable=line-too-long\n",
    "\n",
    "url = \"https://raw.githubusercontent.com/dm-fedorov/pandas_basic/master/%D0%B1%D1%8B%D1%81%D1%82%D1%80%D0%BE%D0%B5%20%D0%B2%D0%B2%D0%B5%D0%B4%D0%B5%D0%BD%D0%B8%D0%B5%20%D0%B2%20pandas/data/air_quality_no2.csv\""
   ]
  },
  {
   "cell_type": "code",
   "execution_count": 4,
   "id": "70c37bda",
   "metadata": {},
   "outputs": [
    {
     "data": {
      "text/html": [
       "<div>\n",
       "<style scoped>\n",
       "    .dataframe tbody tr th:only-of-type {\n",
       "        vertical-align: middle;\n",
       "    }\n",
       "\n",
       "    .dataframe tbody tr th {\n",
       "        vertical-align: top;\n",
       "    }\n",
       "\n",
       "    .dataframe thead th {\n",
       "        text-align: right;\n",
       "    }\n",
       "</style>\n",
       "<table border=\"1\" class=\"dataframe\">\n",
       "  <thead>\n",
       "    <tr style=\"text-align: right;\">\n",
       "      <th></th>\n",
       "      <th>station_antwerp</th>\n",
       "      <th>station_paris</th>\n",
       "      <th>station_london</th>\n",
       "    </tr>\n",
       "    <tr>\n",
       "      <th>datetime</th>\n",
       "      <th></th>\n",
       "      <th></th>\n",
       "      <th></th>\n",
       "    </tr>\n",
       "  </thead>\n",
       "  <tbody>\n",
       "    <tr>\n",
       "      <th>2019-05-07 02:00:00</th>\n",
       "      <td>NaN</td>\n",
       "      <td>NaN</td>\n",
       "      <td>23.0</td>\n",
       "    </tr>\n",
       "    <tr>\n",
       "      <th>2019-05-07 03:00:00</th>\n",
       "      <td>50.5</td>\n",
       "      <td>25.0</td>\n",
       "      <td>19.0</td>\n",
       "    </tr>\n",
       "    <tr>\n",
       "      <th>2019-05-07 04:00:00</th>\n",
       "      <td>45.0</td>\n",
       "      <td>27.7</td>\n",
       "      <td>19.0</td>\n",
       "    </tr>\n",
       "    <tr>\n",
       "      <th>2019-05-07 05:00:00</th>\n",
       "      <td>NaN</td>\n",
       "      <td>50.4</td>\n",
       "      <td>16.0</td>\n",
       "    </tr>\n",
       "    <tr>\n",
       "      <th>2019-05-07 06:00:00</th>\n",
       "      <td>NaN</td>\n",
       "      <td>61.9</td>\n",
       "      <td>NaN</td>\n",
       "    </tr>\n",
       "  </tbody>\n",
       "</table>\n",
       "</div>"
      ],
      "text/plain": [
       "                     station_antwerp  station_paris  station_london\n",
       "datetime                                                           \n",
       "2019-05-07 02:00:00              NaN            NaN            23.0\n",
       "2019-05-07 03:00:00             50.5           25.0            19.0\n",
       "2019-05-07 04:00:00             45.0           27.7            19.0\n",
       "2019-05-07 05:00:00              NaN           50.4            16.0\n",
       "2019-05-07 06:00:00              NaN           61.9             NaN"
      ]
     },
     "execution_count": 4,
     "metadata": {},
     "output_type": "execute_result"
    }
   ],
   "source": [
    "air_quality = pd.read_csv(url, index_col=0, parse_dates=True)\n",
    "air_quality.head()"
   ]
  },
  {
   "cell_type": "markdown",
   "id": "55ac9de7",
   "metadata": {},
   "source": [
    "### Как создать новые столбцы, полученные из существующих столбцов?"
   ]
  },
  {
   "cell_type": "markdown",
   "id": "88e627ac",
   "metadata": {},
   "source": [
    "<div style=\"background-color: #ffffff; padding: 20px; text-align: center;\">\n",
    "    <img src=\"https://pandas.pydata.org/pandas-docs/stable/_images/05_newcolumn_1.svg\">\n",
    "</div>"
   ]
  },
  {
   "cell_type": "markdown",
   "id": "2cd8c74b",
   "metadata": {},
   "source": [
    "Я хочу выразить концентрацию $NO_2$ в Лондоне в $мг/м^3$. Если мы примем температуру 25 градусов по Цельсию и давление `1013 гПа`, то коэффициент преобразования составит `1,882`."
   ]
  },
  {
   "cell_type": "code",
   "execution_count": 5,
   "id": "6cbebfda",
   "metadata": {},
   "outputs": [],
   "source": [
    "air_quality[\"london_mg_per_cubic\"] = air_quality[\"station_london\"] * 1.882"
   ]
  },
  {
   "cell_type": "code",
   "execution_count": 6,
   "id": "ebbb15c9",
   "metadata": {},
   "outputs": [
    {
     "data": {
      "text/html": [
       "<div>\n",
       "<style scoped>\n",
       "    .dataframe tbody tr th:only-of-type {\n",
       "        vertical-align: middle;\n",
       "    }\n",
       "\n",
       "    .dataframe tbody tr th {\n",
       "        vertical-align: top;\n",
       "    }\n",
       "\n",
       "    .dataframe thead th {\n",
       "        text-align: right;\n",
       "    }\n",
       "</style>\n",
       "<table border=\"1\" class=\"dataframe\">\n",
       "  <thead>\n",
       "    <tr style=\"text-align: right;\">\n",
       "      <th></th>\n",
       "      <th>station_antwerp</th>\n",
       "      <th>station_paris</th>\n",
       "      <th>station_london</th>\n",
       "      <th>london_mg_per_cubic</th>\n",
       "    </tr>\n",
       "    <tr>\n",
       "      <th>datetime</th>\n",
       "      <th></th>\n",
       "      <th></th>\n",
       "      <th></th>\n",
       "      <th></th>\n",
       "    </tr>\n",
       "  </thead>\n",
       "  <tbody>\n",
       "    <tr>\n",
       "      <th>2019-05-07 02:00:00</th>\n",
       "      <td>NaN</td>\n",
       "      <td>NaN</td>\n",
       "      <td>23.0</td>\n",
       "      <td>43.286</td>\n",
       "    </tr>\n",
       "    <tr>\n",
       "      <th>2019-05-07 03:00:00</th>\n",
       "      <td>50.5</td>\n",
       "      <td>25.0</td>\n",
       "      <td>19.0</td>\n",
       "      <td>35.758</td>\n",
       "    </tr>\n",
       "    <tr>\n",
       "      <th>2019-05-07 04:00:00</th>\n",
       "      <td>45.0</td>\n",
       "      <td>27.7</td>\n",
       "      <td>19.0</td>\n",
       "      <td>35.758</td>\n",
       "    </tr>\n",
       "    <tr>\n",
       "      <th>2019-05-07 05:00:00</th>\n",
       "      <td>NaN</td>\n",
       "      <td>50.4</td>\n",
       "      <td>16.0</td>\n",
       "      <td>30.112</td>\n",
       "    </tr>\n",
       "    <tr>\n",
       "      <th>2019-05-07 06:00:00</th>\n",
       "      <td>NaN</td>\n",
       "      <td>61.9</td>\n",
       "      <td>NaN</td>\n",
       "      <td>NaN</td>\n",
       "    </tr>\n",
       "  </tbody>\n",
       "</table>\n",
       "</div>"
      ],
      "text/plain": [
       "                     station_antwerp  station_paris  station_london  \\\n",
       "datetime                                                              \n",
       "2019-05-07 02:00:00              NaN            NaN            23.0   \n",
       "2019-05-07 03:00:00             50.5           25.0            19.0   \n",
       "2019-05-07 04:00:00             45.0           27.7            19.0   \n",
       "2019-05-07 05:00:00              NaN           50.4            16.0   \n",
       "2019-05-07 06:00:00              NaN           61.9             NaN   \n",
       "\n",
       "                     london_mg_per_cubic  \n",
       "datetime                                  \n",
       "2019-05-07 02:00:00               43.286  \n",
       "2019-05-07 03:00:00               35.758  \n",
       "2019-05-07 04:00:00               35.758  \n",
       "2019-05-07 05:00:00               30.112  \n",
       "2019-05-07 06:00:00                  NaN  "
      ]
     },
     "execution_count": 6,
     "metadata": {},
     "output_type": "execute_result"
    }
   ],
   "source": [
    "air_quality.head()"
   ]
  },
  {
   "cell_type": "markdown",
   "id": "d1ecd731",
   "metadata": {},
   "source": [
    "Чтобы создать новый столбец, используйте скобки `[]` с новым именем столбца в левой части присваивания."
   ]
  },
  {
   "cell_type": "markdown",
   "id": "ef80297d",
   "metadata": {},
   "source": [
    "Расчет значений осуществляется по элементам. Это означает, что все значения в данном столбце умножаются на `1.882` за один раз. Вам не нужно использовать цикл для итерации по каждой строке!"
   ]
  },
  {
   "cell_type": "markdown",
   "id": "92017e97",
   "metadata": {},
   "source": [
    "<div style=\"background-color: #ffffff; padding: 20px; text-align: center;\">\n",
    "    <img src=\"https://pandas.pydata.org/docs/_images/05_newcolumn_2.svg\">\n",
    "</div>"
   ]
  },
  {
   "cell_type": "markdown",
   "id": "f03f6968",
   "metadata": {},
   "source": [
    "Я хочу проверить соотношение значений в Париже и Антверпене и сохранить результат в новом столбце:"
   ]
  },
  {
   "cell_type": "code",
   "execution_count": 7,
   "id": "8c6e84b6",
   "metadata": {},
   "outputs": [],
   "source": [
    "air_quality[\"ratio_paris_antwerp\"] = (\n",
    "    air_quality[\"station_paris\"] / air_quality[\"station_antwerp\"]\n",
    ")"
   ]
  },
  {
   "cell_type": "code",
   "execution_count": 8,
   "id": "9eb59d89",
   "metadata": {},
   "outputs": [
    {
     "data": {
      "text/html": [
       "<div>\n",
       "<style scoped>\n",
       "    .dataframe tbody tr th:only-of-type {\n",
       "        vertical-align: middle;\n",
       "    }\n",
       "\n",
       "    .dataframe tbody tr th {\n",
       "        vertical-align: top;\n",
       "    }\n",
       "\n",
       "    .dataframe thead th {\n",
       "        text-align: right;\n",
       "    }\n",
       "</style>\n",
       "<table border=\"1\" class=\"dataframe\">\n",
       "  <thead>\n",
       "    <tr style=\"text-align: right;\">\n",
       "      <th></th>\n",
       "      <th>station_antwerp</th>\n",
       "      <th>station_paris</th>\n",
       "      <th>station_london</th>\n",
       "      <th>london_mg_per_cubic</th>\n",
       "      <th>ratio_paris_antwerp</th>\n",
       "    </tr>\n",
       "    <tr>\n",
       "      <th>datetime</th>\n",
       "      <th></th>\n",
       "      <th></th>\n",
       "      <th></th>\n",
       "      <th></th>\n",
       "      <th></th>\n",
       "    </tr>\n",
       "  </thead>\n",
       "  <tbody>\n",
       "    <tr>\n",
       "      <th>2019-05-07 02:00:00</th>\n",
       "      <td>NaN</td>\n",
       "      <td>NaN</td>\n",
       "      <td>23.0</td>\n",
       "      <td>43.286</td>\n",
       "      <td>NaN</td>\n",
       "    </tr>\n",
       "    <tr>\n",
       "      <th>2019-05-07 03:00:00</th>\n",
       "      <td>50.5</td>\n",
       "      <td>25.0</td>\n",
       "      <td>19.0</td>\n",
       "      <td>35.758</td>\n",
       "      <td>0.495050</td>\n",
       "    </tr>\n",
       "    <tr>\n",
       "      <th>2019-05-07 04:00:00</th>\n",
       "      <td>45.0</td>\n",
       "      <td>27.7</td>\n",
       "      <td>19.0</td>\n",
       "      <td>35.758</td>\n",
       "      <td>0.615556</td>\n",
       "    </tr>\n",
       "    <tr>\n",
       "      <th>2019-05-07 05:00:00</th>\n",
       "      <td>NaN</td>\n",
       "      <td>50.4</td>\n",
       "      <td>16.0</td>\n",
       "      <td>30.112</td>\n",
       "      <td>NaN</td>\n",
       "    </tr>\n",
       "    <tr>\n",
       "      <th>2019-05-07 06:00:00</th>\n",
       "      <td>NaN</td>\n",
       "      <td>61.9</td>\n",
       "      <td>NaN</td>\n",
       "      <td>NaN</td>\n",
       "      <td>NaN</td>\n",
       "    </tr>\n",
       "  </tbody>\n",
       "</table>\n",
       "</div>"
      ],
      "text/plain": [
       "                     station_antwerp  station_paris  station_london  \\\n",
       "datetime                                                              \n",
       "2019-05-07 02:00:00              NaN            NaN            23.0   \n",
       "2019-05-07 03:00:00             50.5           25.0            19.0   \n",
       "2019-05-07 04:00:00             45.0           27.7            19.0   \n",
       "2019-05-07 05:00:00              NaN           50.4            16.0   \n",
       "2019-05-07 06:00:00              NaN           61.9             NaN   \n",
       "\n",
       "                     london_mg_per_cubic  ratio_paris_antwerp  \n",
       "datetime                                                       \n",
       "2019-05-07 02:00:00               43.286                  NaN  \n",
       "2019-05-07 03:00:00               35.758             0.495050  \n",
       "2019-05-07 04:00:00               35.758             0.615556  \n",
       "2019-05-07 05:00:00               30.112                  NaN  \n",
       "2019-05-07 06:00:00                  NaN                  NaN  "
      ]
     },
     "execution_count": 8,
     "metadata": {},
     "output_type": "execute_result"
    }
   ],
   "source": [
    "air_quality.head()"
   ]
  },
  {
   "cell_type": "markdown",
   "id": "0868c440",
   "metadata": {},
   "source": [
    "Расчет снова поэлементный, поэтому `/` применяется в каждой строки."
   ]
  },
  {
   "cell_type": "markdown",
   "id": "e9405b27",
   "metadata": {},
   "source": [
    "Также другие математические операторы (`+`, `-`, `*`, `/`) или логические операторы (`<`, `>`, `=`, …) работают по элементам. "
   ]
  },
  {
   "cell_type": "markdown",
   "id": "99c1dee5",
   "metadata": {},
   "source": [
    "Я хочу переименовать столбцы данных в соответствующие идентификаторы станций, используемые сообществом openAQ."
   ]
  },
  {
   "cell_type": "code",
   "execution_count": 9,
   "id": "8e73efbf",
   "metadata": {},
   "outputs": [],
   "source": [
    "air_quality_renamed = air_quality.rename(\n",
    "    columns={\n",
    "        \"station_antwerp\": \"BETR801\",\n",
    "        \"station_paris\": \"FR04014\",\n",
    "        \"station_london\": \"London Westminster\",\n",
    "    }\n",
    ")"
   ]
  },
  {
   "cell_type": "code",
   "execution_count": 10,
   "id": "303a7ca8",
   "metadata": {},
   "outputs": [
    {
     "data": {
      "text/html": [
       "<div>\n",
       "<style scoped>\n",
       "    .dataframe tbody tr th:only-of-type {\n",
       "        vertical-align: middle;\n",
       "    }\n",
       "\n",
       "    .dataframe tbody tr th {\n",
       "        vertical-align: top;\n",
       "    }\n",
       "\n",
       "    .dataframe thead th {\n",
       "        text-align: right;\n",
       "    }\n",
       "</style>\n",
       "<table border=\"1\" class=\"dataframe\">\n",
       "  <thead>\n",
       "    <tr style=\"text-align: right;\">\n",
       "      <th></th>\n",
       "      <th>BETR801</th>\n",
       "      <th>FR04014</th>\n",
       "      <th>London Westminster</th>\n",
       "      <th>london_mg_per_cubic</th>\n",
       "      <th>ratio_paris_antwerp</th>\n",
       "    </tr>\n",
       "    <tr>\n",
       "      <th>datetime</th>\n",
       "      <th></th>\n",
       "      <th></th>\n",
       "      <th></th>\n",
       "      <th></th>\n",
       "      <th></th>\n",
       "    </tr>\n",
       "  </thead>\n",
       "  <tbody>\n",
       "    <tr>\n",
       "      <th>2019-05-07 02:00:00</th>\n",
       "      <td>NaN</td>\n",
       "      <td>NaN</td>\n",
       "      <td>23.0</td>\n",
       "      <td>43.286</td>\n",
       "      <td>NaN</td>\n",
       "    </tr>\n",
       "    <tr>\n",
       "      <th>2019-05-07 03:00:00</th>\n",
       "      <td>50.5</td>\n",
       "      <td>25.0</td>\n",
       "      <td>19.0</td>\n",
       "      <td>35.758</td>\n",
       "      <td>0.495050</td>\n",
       "    </tr>\n",
       "    <tr>\n",
       "      <th>2019-05-07 04:00:00</th>\n",
       "      <td>45.0</td>\n",
       "      <td>27.7</td>\n",
       "      <td>19.0</td>\n",
       "      <td>35.758</td>\n",
       "      <td>0.615556</td>\n",
       "    </tr>\n",
       "    <tr>\n",
       "      <th>2019-05-07 05:00:00</th>\n",
       "      <td>NaN</td>\n",
       "      <td>50.4</td>\n",
       "      <td>16.0</td>\n",
       "      <td>30.112</td>\n",
       "      <td>NaN</td>\n",
       "    </tr>\n",
       "    <tr>\n",
       "      <th>2019-05-07 06:00:00</th>\n",
       "      <td>NaN</td>\n",
       "      <td>61.9</td>\n",
       "      <td>NaN</td>\n",
       "      <td>NaN</td>\n",
       "      <td>NaN</td>\n",
       "    </tr>\n",
       "  </tbody>\n",
       "</table>\n",
       "</div>"
      ],
      "text/plain": [
       "                     BETR801  FR04014  London Westminster  \\\n",
       "datetime                                                    \n",
       "2019-05-07 02:00:00      NaN      NaN                23.0   \n",
       "2019-05-07 03:00:00     50.5     25.0                19.0   \n",
       "2019-05-07 04:00:00     45.0     27.7                19.0   \n",
       "2019-05-07 05:00:00      NaN     50.4                16.0   \n",
       "2019-05-07 06:00:00      NaN     61.9                 NaN   \n",
       "\n",
       "                     london_mg_per_cubic  ratio_paris_antwerp  \n",
       "datetime                                                       \n",
       "2019-05-07 02:00:00               43.286                  NaN  \n",
       "2019-05-07 03:00:00               35.758             0.495050  \n",
       "2019-05-07 04:00:00               35.758             0.615556  \n",
       "2019-05-07 05:00:00               30.112                  NaN  \n",
       "2019-05-07 06:00:00                  NaN                  NaN  "
      ]
     },
     "execution_count": 10,
     "metadata": {},
     "output_type": "execute_result"
    }
   ],
   "source": [
    "air_quality_renamed.head()"
   ]
  },
  {
   "cell_type": "markdown",
   "id": "94615c9a",
   "metadata": {},
   "source": [
    "Функция [`rename()`](https://pandas.pydata.org/pandas-docs/stable/reference/api/pandas.DataFrame.rename.html#pandas.DataFrame.rename) может быть использована как для меток строк и названий столбцов."
   ]
  },
  {
   "cell_type": "markdown",
   "id": "4d3d6825",
   "metadata": {},
   "source": [
    "Отображение не должно ограничиваться только фиксированными именами, но может быть функцией отображения.\n",
    "\n",
    "Например, преобразование имен столбцов в строчные буквы также можно выполнить с помощью функции:"
   ]
  },
  {
   "cell_type": "code",
   "execution_count": 11,
   "id": "0f6c1981",
   "metadata": {},
   "outputs": [],
   "source": [
    "air_quality_renamed = air_quality_renamed.rename(columns=str.lower)"
   ]
  },
  {
   "cell_type": "code",
   "execution_count": 12,
   "id": "af1c7164",
   "metadata": {},
   "outputs": [
    {
     "data": {
      "text/html": [
       "<div>\n",
       "<style scoped>\n",
       "    .dataframe tbody tr th:only-of-type {\n",
       "        vertical-align: middle;\n",
       "    }\n",
       "\n",
       "    .dataframe tbody tr th {\n",
       "        vertical-align: top;\n",
       "    }\n",
       "\n",
       "    .dataframe thead th {\n",
       "        text-align: right;\n",
       "    }\n",
       "</style>\n",
       "<table border=\"1\" class=\"dataframe\">\n",
       "  <thead>\n",
       "    <tr style=\"text-align: right;\">\n",
       "      <th></th>\n",
       "      <th>betr801</th>\n",
       "      <th>fr04014</th>\n",
       "      <th>london westminster</th>\n",
       "      <th>london_mg_per_cubic</th>\n",
       "      <th>ratio_paris_antwerp</th>\n",
       "    </tr>\n",
       "    <tr>\n",
       "      <th>datetime</th>\n",
       "      <th></th>\n",
       "      <th></th>\n",
       "      <th></th>\n",
       "      <th></th>\n",
       "      <th></th>\n",
       "    </tr>\n",
       "  </thead>\n",
       "  <tbody>\n",
       "    <tr>\n",
       "      <th>2019-05-07 02:00:00</th>\n",
       "      <td>NaN</td>\n",
       "      <td>NaN</td>\n",
       "      <td>23.0</td>\n",
       "      <td>43.286</td>\n",
       "      <td>NaN</td>\n",
       "    </tr>\n",
       "    <tr>\n",
       "      <th>2019-05-07 03:00:00</th>\n",
       "      <td>50.5</td>\n",
       "      <td>25.0</td>\n",
       "      <td>19.0</td>\n",
       "      <td>35.758</td>\n",
       "      <td>0.495050</td>\n",
       "    </tr>\n",
       "    <tr>\n",
       "      <th>2019-05-07 04:00:00</th>\n",
       "      <td>45.0</td>\n",
       "      <td>27.7</td>\n",
       "      <td>19.0</td>\n",
       "      <td>35.758</td>\n",
       "      <td>0.615556</td>\n",
       "    </tr>\n",
       "    <tr>\n",
       "      <th>2019-05-07 05:00:00</th>\n",
       "      <td>NaN</td>\n",
       "      <td>50.4</td>\n",
       "      <td>16.0</td>\n",
       "      <td>30.112</td>\n",
       "      <td>NaN</td>\n",
       "    </tr>\n",
       "    <tr>\n",
       "      <th>2019-05-07 06:00:00</th>\n",
       "      <td>NaN</td>\n",
       "      <td>61.9</td>\n",
       "      <td>NaN</td>\n",
       "      <td>NaN</td>\n",
       "      <td>NaN</td>\n",
       "    </tr>\n",
       "  </tbody>\n",
       "</table>\n",
       "</div>"
      ],
      "text/plain": [
       "                     betr801  fr04014  london westminster  \\\n",
       "datetime                                                    \n",
       "2019-05-07 02:00:00      NaN      NaN                23.0   \n",
       "2019-05-07 03:00:00     50.5     25.0                19.0   \n",
       "2019-05-07 04:00:00     45.0     27.7                19.0   \n",
       "2019-05-07 05:00:00      NaN     50.4                16.0   \n",
       "2019-05-07 06:00:00      NaN     61.9                 NaN   \n",
       "\n",
       "                     london_mg_per_cubic  ratio_paris_antwerp  \n",
       "datetime                                                       \n",
       "2019-05-07 02:00:00               43.286                  NaN  \n",
       "2019-05-07 03:00:00               35.758             0.495050  \n",
       "2019-05-07 04:00:00               35.758             0.615556  \n",
       "2019-05-07 05:00:00               30.112                  NaN  \n",
       "2019-05-07 06:00:00                  NaN                  NaN  "
      ]
     },
     "execution_count": 12,
     "metadata": {},
     "output_type": "execute_result"
    }
   ],
   "source": [
    "air_quality_renamed.head()"
   ]
  },
  {
   "cell_type": "markdown",
   "id": "afb3474d",
   "metadata": {},
   "source": [
    "Подробная информация о [переименовании меток](https://pandas.pydata.org/docs/user_guide/basics.html#basics-rename) столбцов или строк приведена в разделе руководства пользователя по [переименованию меток](https://pandas.pydata.org/docs/user_guide/basics.html#basics-rename)."
   ]
  },
  {
   "cell_type": "markdown",
   "id": "c43aea5f",
   "metadata": {},
   "source": [
    "Руководство пользователя содержит отдельный раздел о [добавлении и удалении столбцов](https://pandas.pydata.org/docs/user_guide/dsintro.html#basics-dataframe-sel-add-del)."
   ]
  }
 ],
 "metadata": {
  "kernelspec": {
   "display_name": "base",
   "language": "python",
   "name": "python3"
  },
  "language_info": {
   "codemirror_mode": {
    "name": "ipython",
    "version": 3
   },
   "file_extension": ".py",
   "mimetype": "text/x-python",
   "name": "python",
   "nbconvert_exporter": "python",
   "pygments_lexer": "ipython3",
   "version": "3.12.8"
  }
 },
 "nbformat": 4,
 "nbformat_minor": 5
}

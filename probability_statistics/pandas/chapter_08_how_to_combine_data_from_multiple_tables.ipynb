{
 "cells": [
  {
   "cell_type": "code",
   "execution_count": 1,
   "id": "4c40d5b8",
   "metadata": {},
   "outputs": [
    {
     "data": {
      "text/plain": [
       "'How to combine data from multiple tables?.'"
      ]
     },
     "execution_count": 1,
     "metadata": {},
     "output_type": "execute_result"
    }
   ],
   "source": [
    "\"\"\"How to combine data from multiple tables?.\"\"\""
   ]
  },
  {
   "cell_type": "markdown",
   "id": "b578bd80",
   "metadata": {},
   "source": [
    "# Как объединить данные из нескольких таблиц?"
   ]
  },
  {
   "cell_type": "code",
   "execution_count": 2,
   "id": "dcc30dac",
   "metadata": {},
   "outputs": [],
   "source": [
    "import pandas as pd"
   ]
  },
  {
   "cell_type": "markdown",
   "id": "5900e9bf",
   "metadata": {},
   "source": [
    "Для этого урока используется данные о качестве воздуха $NO_2$, данные предоставляются организацией [`openaq`](https://openaq.org/) и загружается с помощью модуля [`py-openaq`](http://dhhagan.github.io/py-openaq/index.html).\n",
    "\n",
    "<img src=\"https://newdaynews.ru/pict/arts1/66/19/661966_b.jpg\" height=\"400px\" width=\"500px\" >\n",
    "\n",
    "Набор данных `air_quality_no2_long.csv` содержит значения $NO_2$ для измерительных станций `FR04014`, `BETR801` и `London Westminster` соответственно в Париже, Антверпене и Лондоне."
   ]
  },
  {
   "cell_type": "code",
   "execution_count": 3,
   "id": "53813895",
   "metadata": {},
   "outputs": [],
   "source": [
    "# pylint: disable=line-too-long\n",
    "\n",
    "url = \"https://raw.githubusercontent.com/dm-fedorov/pandas_basic/master/%D0%B1%D1%8B%D1%81%D1%82%D1%80%D0%BE%D0%B5%20%D0%B2%D0%B2%D0%B5%D0%B4%D0%B5%D0%BD%D0%B8%D0%B5%20%D0%B2%20pandas/data/air_quality_no2_long.csv\""
   ]
  },
  {
   "cell_type": "code",
   "execution_count": 4,
   "id": "d353f823",
   "metadata": {},
   "outputs": [],
   "source": [
    "air_quality_no2 = pd.read_csv(url, parse_dates=True)"
   ]
  },
  {
   "cell_type": "code",
   "execution_count": 5,
   "id": "529ee95c",
   "metadata": {},
   "outputs": [],
   "source": [
    "air_quality_no2 = air_quality_no2[[\"date.utc\", \"location\", \"parameter\", \"value\"]]"
   ]
  },
  {
   "cell_type": "code",
   "execution_count": 6,
   "id": "64b18b41",
   "metadata": {},
   "outputs": [
    {
     "data": {
      "text/html": [
       "<div>\n",
       "<style scoped>\n",
       "    .dataframe tbody tr th:only-of-type {\n",
       "        vertical-align: middle;\n",
       "    }\n",
       "\n",
       "    .dataframe tbody tr th {\n",
       "        vertical-align: top;\n",
       "    }\n",
       "\n",
       "    .dataframe thead th {\n",
       "        text-align: right;\n",
       "    }\n",
       "</style>\n",
       "<table border=\"1\" class=\"dataframe\">\n",
       "  <thead>\n",
       "    <tr style=\"text-align: right;\">\n",
       "      <th></th>\n",
       "      <th>date.utc</th>\n",
       "      <th>location</th>\n",
       "      <th>parameter</th>\n",
       "      <th>value</th>\n",
       "    </tr>\n",
       "  </thead>\n",
       "  <tbody>\n",
       "    <tr>\n",
       "      <th>0</th>\n",
       "      <td>2019-06-21 00:00:00+00:00</td>\n",
       "      <td>FR04014</td>\n",
       "      <td>no2</td>\n",
       "      <td>20.0</td>\n",
       "    </tr>\n",
       "    <tr>\n",
       "      <th>1</th>\n",
       "      <td>2019-06-20 23:00:00+00:00</td>\n",
       "      <td>FR04014</td>\n",
       "      <td>no2</td>\n",
       "      <td>21.8</td>\n",
       "    </tr>\n",
       "    <tr>\n",
       "      <th>2</th>\n",
       "      <td>2019-06-20 22:00:00+00:00</td>\n",
       "      <td>FR04014</td>\n",
       "      <td>no2</td>\n",
       "      <td>26.5</td>\n",
       "    </tr>\n",
       "    <tr>\n",
       "      <th>3</th>\n",
       "      <td>2019-06-20 21:00:00+00:00</td>\n",
       "      <td>FR04014</td>\n",
       "      <td>no2</td>\n",
       "      <td>24.9</td>\n",
       "    </tr>\n",
       "    <tr>\n",
       "      <th>4</th>\n",
       "      <td>2019-06-20 20:00:00+00:00</td>\n",
       "      <td>FR04014</td>\n",
       "      <td>no2</td>\n",
       "      <td>21.4</td>\n",
       "    </tr>\n",
       "  </tbody>\n",
       "</table>\n",
       "</div>"
      ],
      "text/plain": [
       "                    date.utc location parameter  value\n",
       "0  2019-06-21 00:00:00+00:00  FR04014       no2   20.0\n",
       "1  2019-06-20 23:00:00+00:00  FR04014       no2   21.8\n",
       "2  2019-06-20 22:00:00+00:00  FR04014       no2   26.5\n",
       "3  2019-06-20 21:00:00+00:00  FR04014       no2   24.9\n",
       "4  2019-06-20 20:00:00+00:00  FR04014       no2   21.4"
      ]
     },
     "execution_count": 6,
     "metadata": {},
     "output_type": "execute_result"
    }
   ],
   "source": [
    "air_quality_no2.head()"
   ]
  },
  {
   "cell_type": "markdown",
   "id": "881efa2d",
   "metadata": {},
   "source": [
    "Для этого урока также используются данные о качестве воздуха для твердых частиц размером менее 2,5 микрометров, данные предоставляются организацией [`openaq`](https://openaq.org/) и загружается с помощью модуля [`py-openaq`](http://dhhagan.github.io/py-openaq/index.html).\n",
    "\n",
    "см. [Частицы РМ2.5: что это, откуда и почему об этом все говорят](https://habr.com/ru/company/tion/blog/396111/)\n",
    "\n",
    "<img src=\"https://habrastorage.org/files/9b1/c66/b89/9b1c66b89f85464b8365b77c9ecbe781.jpg\" height=\"500px\" width=\"600px\" >\n",
    "\n",
    "Набор данных `air_quality_pm25_long.csv` содержит значения $PM_{2.5}$ для измерительных станций `FR04014`, `BETR801` и `London Westminster` соответственно в Париже, Антверпене и Лондоне."
   ]
  },
  {
   "cell_type": "code",
   "execution_count": 7,
   "id": "a14c898e",
   "metadata": {},
   "outputs": [],
   "source": [
    "# pylint: disable=line-too-long\n",
    "\n",
    "url = \"https://raw.githubusercontent.com/dm-fedorov/pandas_basic/master/%D0%B1%D1%8B%D1%81%D1%82%D1%80%D0%BE%D0%B5%20%D0%B2%D0%B2%D0%B5%D0%B4%D0%B5%D0%BD%D0%B8%D0%B5%20%D0%B2%20pandas/data/air_quality_pm25_long.csv\""
   ]
  },
  {
   "cell_type": "code",
   "execution_count": 8,
   "id": "ac6345c8",
   "metadata": {},
   "outputs": [],
   "source": [
    "air_quality_pm25 = pd.read_csv(url, parse_dates=True)"
   ]
  },
  {
   "cell_type": "code",
   "execution_count": 9,
   "id": "a7b799f6",
   "metadata": {},
   "outputs": [],
   "source": [
    "air_quality_pm25 = air_quality_pm25[[\"date.utc\", \"location\", \"parameter\", \"value\"]]"
   ]
  },
  {
   "cell_type": "code",
   "execution_count": 10,
   "id": "755abfca",
   "metadata": {},
   "outputs": [
    {
     "data": {
      "text/html": [
       "<div>\n",
       "<style scoped>\n",
       "    .dataframe tbody tr th:only-of-type {\n",
       "        vertical-align: middle;\n",
       "    }\n",
       "\n",
       "    .dataframe tbody tr th {\n",
       "        vertical-align: top;\n",
       "    }\n",
       "\n",
       "    .dataframe thead th {\n",
       "        text-align: right;\n",
       "    }\n",
       "</style>\n",
       "<table border=\"1\" class=\"dataframe\">\n",
       "  <thead>\n",
       "    <tr style=\"text-align: right;\">\n",
       "      <th></th>\n",
       "      <th>date.utc</th>\n",
       "      <th>location</th>\n",
       "      <th>parameter</th>\n",
       "      <th>value</th>\n",
       "    </tr>\n",
       "  </thead>\n",
       "  <tbody>\n",
       "    <tr>\n",
       "      <th>0</th>\n",
       "      <td>2019-06-18 06:00:00+00:00</td>\n",
       "      <td>BETR801</td>\n",
       "      <td>pm25</td>\n",
       "      <td>18.0</td>\n",
       "    </tr>\n",
       "    <tr>\n",
       "      <th>1</th>\n",
       "      <td>2019-06-17 08:00:00+00:00</td>\n",
       "      <td>BETR801</td>\n",
       "      <td>pm25</td>\n",
       "      <td>6.5</td>\n",
       "    </tr>\n",
       "    <tr>\n",
       "      <th>2</th>\n",
       "      <td>2019-06-17 07:00:00+00:00</td>\n",
       "      <td>BETR801</td>\n",
       "      <td>pm25</td>\n",
       "      <td>18.5</td>\n",
       "    </tr>\n",
       "    <tr>\n",
       "      <th>3</th>\n",
       "      <td>2019-06-17 06:00:00+00:00</td>\n",
       "      <td>BETR801</td>\n",
       "      <td>pm25</td>\n",
       "      <td>16.0</td>\n",
       "    </tr>\n",
       "    <tr>\n",
       "      <th>4</th>\n",
       "      <td>2019-06-17 05:00:00+00:00</td>\n",
       "      <td>BETR801</td>\n",
       "      <td>pm25</td>\n",
       "      <td>7.5</td>\n",
       "    </tr>\n",
       "  </tbody>\n",
       "</table>\n",
       "</div>"
      ],
      "text/plain": [
       "                    date.utc location parameter  value\n",
       "0  2019-06-18 06:00:00+00:00  BETR801      pm25   18.0\n",
       "1  2019-06-17 08:00:00+00:00  BETR801      pm25    6.5\n",
       "2  2019-06-17 07:00:00+00:00  BETR801      pm25   18.5\n",
       "3  2019-06-17 06:00:00+00:00  BETR801      pm25   16.0\n",
       "4  2019-06-17 05:00:00+00:00  BETR801      pm25    7.5"
      ]
     },
     "execution_count": 10,
     "metadata": {},
     "output_type": "execute_result"
    }
   ],
   "source": [
    "air_quality_pm25.head()"
   ]
  },
  {
   "cell_type": "markdown",
   "id": "84b3b0f7",
   "metadata": {},
   "source": [
    "### Как объединить данные из нескольких таблиц? "
   ]
  },
  {
   "cell_type": "markdown",
   "id": "10855d22",
   "metadata": {},
   "source": [
    "<div style=\"background-color: #ffffff; padding: 20px; text-align: center;\">\n",
    "    <img src=\"https://pandas.pydata.org/docs/_images/08_concat_row.svg\" >\n",
    "</div>"
   ]
  },
  {
   "cell_type": "markdown",
   "id": "3a48581a",
   "metadata": {},
   "source": [
    "Я хочу объединить измерения $NO_2$ и $PM_{2.5}$ с похожей структурой в одну таблицу:"
   ]
  },
  {
   "cell_type": "code",
   "execution_count": 11,
   "id": "3b346c5a",
   "metadata": {},
   "outputs": [],
   "source": [
    "air_quality = pd.concat([air_quality_pm25, air_quality_no2], axis=0)"
   ]
  },
  {
   "cell_type": "code",
   "execution_count": 12,
   "id": "74e84b82",
   "metadata": {},
   "outputs": [
    {
     "data": {
      "text/html": [
       "<div>\n",
       "<style scoped>\n",
       "    .dataframe tbody tr th:only-of-type {\n",
       "        vertical-align: middle;\n",
       "    }\n",
       "\n",
       "    .dataframe tbody tr th {\n",
       "        vertical-align: top;\n",
       "    }\n",
       "\n",
       "    .dataframe thead th {\n",
       "        text-align: right;\n",
       "    }\n",
       "</style>\n",
       "<table border=\"1\" class=\"dataframe\">\n",
       "  <thead>\n",
       "    <tr style=\"text-align: right;\">\n",
       "      <th></th>\n",
       "      <th>date.utc</th>\n",
       "      <th>location</th>\n",
       "      <th>parameter</th>\n",
       "      <th>value</th>\n",
       "    </tr>\n",
       "  </thead>\n",
       "  <tbody>\n",
       "    <tr>\n",
       "      <th>0</th>\n",
       "      <td>2019-06-18 06:00:00+00:00</td>\n",
       "      <td>BETR801</td>\n",
       "      <td>pm25</td>\n",
       "      <td>18.0</td>\n",
       "    </tr>\n",
       "    <tr>\n",
       "      <th>1</th>\n",
       "      <td>2019-06-17 08:00:00+00:00</td>\n",
       "      <td>BETR801</td>\n",
       "      <td>pm25</td>\n",
       "      <td>6.5</td>\n",
       "    </tr>\n",
       "    <tr>\n",
       "      <th>2</th>\n",
       "      <td>2019-06-17 07:00:00+00:00</td>\n",
       "      <td>BETR801</td>\n",
       "      <td>pm25</td>\n",
       "      <td>18.5</td>\n",
       "    </tr>\n",
       "    <tr>\n",
       "      <th>3</th>\n",
       "      <td>2019-06-17 06:00:00+00:00</td>\n",
       "      <td>BETR801</td>\n",
       "      <td>pm25</td>\n",
       "      <td>16.0</td>\n",
       "    </tr>\n",
       "    <tr>\n",
       "      <th>4</th>\n",
       "      <td>2019-06-17 05:00:00+00:00</td>\n",
       "      <td>BETR801</td>\n",
       "      <td>pm25</td>\n",
       "      <td>7.5</td>\n",
       "    </tr>\n",
       "  </tbody>\n",
       "</table>\n",
       "</div>"
      ],
      "text/plain": [
       "                    date.utc location parameter  value\n",
       "0  2019-06-18 06:00:00+00:00  BETR801      pm25   18.0\n",
       "1  2019-06-17 08:00:00+00:00  BETR801      pm25    6.5\n",
       "2  2019-06-17 07:00:00+00:00  BETR801      pm25   18.5\n",
       "3  2019-06-17 06:00:00+00:00  BETR801      pm25   16.0\n",
       "4  2019-06-17 05:00:00+00:00  BETR801      pm25    7.5"
      ]
     },
     "execution_count": 12,
     "metadata": {},
     "output_type": "execute_result"
    }
   ],
   "source": [
    "air_quality.head()"
   ]
  },
  {
   "cell_type": "markdown",
   "id": "cdd68e97",
   "metadata": {},
   "source": [
    "Функция [`concat()`](https://pandas.pydata.org/pandas-docs/stable/reference/api/pandas.concat.html#pandas.concat) выполняет операцию конкатенации нескольких таблиц вдоль одной оси (по строкам или столбцам)."
   ]
  },
  {
   "cell_type": "markdown",
   "id": "7ce65ce5",
   "metadata": {},
   "source": [
    "По умолчанию конкатенация происходит вдоль `оси 0`, поэтому результирующая таблица объединяет строки входных таблиц. Давайте проверим форму исходных и составных таблиц, чтобы проверить операцию:"
   ]
  },
  {
   "cell_type": "code",
   "execution_count": 13,
   "id": "4a145328",
   "metadata": {},
   "outputs": [
    {
     "name": "stdout",
     "output_type": "stream",
     "text": [
      "Shape of the `air_quality_pm25` table:  (1110, 4)\n"
     ]
    }
   ],
   "source": [
    "print(\"Shape of the `air_quality_pm25` table: \", air_quality_pm25.shape)"
   ]
  },
  {
   "cell_type": "code",
   "execution_count": 14,
   "id": "bb41226f",
   "metadata": {},
   "outputs": [
    {
     "name": "stdout",
     "output_type": "stream",
     "text": [
      "Shape of the `air_quality_no2` table:  (2068, 4)\n"
     ]
    }
   ],
   "source": [
    "print(\"Shape of the `air_quality_no2` table: \", air_quality_no2.shape)"
   ]
  },
  {
   "cell_type": "code",
   "execution_count": 15,
   "id": "8e6c1811",
   "metadata": {},
   "outputs": [
    {
     "name": "stdout",
     "output_type": "stream",
     "text": [
      "Shape of the resulting `air_quality` table:  (3178, 4)\n"
     ]
    }
   ],
   "source": [
    "print(\"Shape of the resulting `air_quality` table: \", air_quality.shape)"
   ]
  },
  {
   "cell_type": "markdown",
   "id": "0910e33d",
   "metadata": {},
   "source": [
    "Следовательно, результирующая таблица имеет `3178 = 1110 + 2068` строк."
   ]
  },
  {
   "cell_type": "markdown",
   "id": "58bd4f34",
   "metadata": {},
   "source": [
    "Аргумент `axis` встречается в ряде методов, которые могут применяться вдоль оси. `DataFrame` имеет две соответствующие оси: первая, проходящая вертикально вниз по строкам (`ось 0`), и вторая, проходящая горизонтально по столбцам (`ось 1`). Большинство операций, таких как конкатенация или сводная статистика, по умолчанию выполняются по строкам (`ось 0`), но также могут применяться к столбцам."
   ]
  },
  {
   "cell_type": "markdown",
   "id": "a849c0d3",
   "metadata": {},
   "source": [
    "Сортировка таблицы по дате и времени иллюстрирует также комбинацию обеих таблиц, причем столбец `parameter` определяет источник таблицы (либо `no2` из таблицы `air_quality_no2`, либо `pm25` из таблицы `air_quality_pm25`):"
   ]
  },
  {
   "cell_type": "code",
   "execution_count": 16,
   "id": "662f957d",
   "metadata": {},
   "outputs": [],
   "source": [
    "air_quality = air_quality.sort_values(\"date.utc\")"
   ]
  },
  {
   "cell_type": "code",
   "execution_count": 17,
   "id": "0b7089cd",
   "metadata": {},
   "outputs": [
    {
     "data": {
      "text/html": [
       "<div>\n",
       "<style scoped>\n",
       "    .dataframe tbody tr th:only-of-type {\n",
       "        vertical-align: middle;\n",
       "    }\n",
       "\n",
       "    .dataframe tbody tr th {\n",
       "        vertical-align: top;\n",
       "    }\n",
       "\n",
       "    .dataframe thead th {\n",
       "        text-align: right;\n",
       "    }\n",
       "</style>\n",
       "<table border=\"1\" class=\"dataframe\">\n",
       "  <thead>\n",
       "    <tr style=\"text-align: right;\">\n",
       "      <th></th>\n",
       "      <th>date.utc</th>\n",
       "      <th>location</th>\n",
       "      <th>parameter</th>\n",
       "      <th>value</th>\n",
       "    </tr>\n",
       "  </thead>\n",
       "  <tbody>\n",
       "    <tr>\n",
       "      <th>2067</th>\n",
       "      <td>2019-05-07 01:00:00+00:00</td>\n",
       "      <td>London Westminster</td>\n",
       "      <td>no2</td>\n",
       "      <td>23.0</td>\n",
       "    </tr>\n",
       "    <tr>\n",
       "      <th>1003</th>\n",
       "      <td>2019-05-07 01:00:00+00:00</td>\n",
       "      <td>FR04014</td>\n",
       "      <td>no2</td>\n",
       "      <td>25.0</td>\n",
       "    </tr>\n",
       "    <tr>\n",
       "      <th>100</th>\n",
       "      <td>2019-05-07 01:00:00+00:00</td>\n",
       "      <td>BETR801</td>\n",
       "      <td>pm25</td>\n",
       "      <td>12.5</td>\n",
       "    </tr>\n",
       "    <tr>\n",
       "      <th>1098</th>\n",
       "      <td>2019-05-07 01:00:00+00:00</td>\n",
       "      <td>BETR801</td>\n",
       "      <td>no2</td>\n",
       "      <td>50.5</td>\n",
       "    </tr>\n",
       "    <tr>\n",
       "      <th>1109</th>\n",
       "      <td>2019-05-07 01:00:00+00:00</td>\n",
       "      <td>London Westminster</td>\n",
       "      <td>pm25</td>\n",
       "      <td>8.0</td>\n",
       "    </tr>\n",
       "  </tbody>\n",
       "</table>\n",
       "</div>"
      ],
      "text/plain": [
       "                       date.utc            location parameter  value\n",
       "2067  2019-05-07 01:00:00+00:00  London Westminster       no2   23.0\n",
       "1003  2019-05-07 01:00:00+00:00             FR04014       no2   25.0\n",
       "100   2019-05-07 01:00:00+00:00             BETR801      pm25   12.5\n",
       "1098  2019-05-07 01:00:00+00:00             BETR801       no2   50.5\n",
       "1109  2019-05-07 01:00:00+00:00  London Westminster      pm25    8.0"
      ]
     },
     "execution_count": 17,
     "metadata": {},
     "output_type": "execute_result"
    }
   ],
   "source": [
    "air_quality.head()"
   ]
  },
  {
   "cell_type": "markdown",
   "id": "df61978e",
   "metadata": {},
   "source": [
    "В этом примере столбец `parameter`, позволяет идентифицировать каждую из исходных таблиц. Это не всегда так, функция `concat` предоставляет удобное решение с аргументом `keys`, добавляя дополнительный (иерархический) индекс строки. Например:"
   ]
  },
  {
   "cell_type": "code",
   "execution_count": 18,
   "id": "6208354e",
   "metadata": {},
   "outputs": [],
   "source": [
    "air_quality_ = pd.concat([air_quality_pm25, air_quality_no2], keys=[\"PM25\", \"NO2\"])"
   ]
  },
  {
   "cell_type": "code",
   "execution_count": 19,
   "id": "61abf129",
   "metadata": {},
   "outputs": [
    {
     "data": {
      "text/html": [
       "<div>\n",
       "<style scoped>\n",
       "    .dataframe tbody tr th:only-of-type {\n",
       "        vertical-align: middle;\n",
       "    }\n",
       "\n",
       "    .dataframe tbody tr th {\n",
       "        vertical-align: top;\n",
       "    }\n",
       "\n",
       "    .dataframe thead th {\n",
       "        text-align: right;\n",
       "    }\n",
       "</style>\n",
       "<table border=\"1\" class=\"dataframe\">\n",
       "  <thead>\n",
       "    <tr style=\"text-align: right;\">\n",
       "      <th></th>\n",
       "      <th></th>\n",
       "      <th>date.utc</th>\n",
       "      <th>location</th>\n",
       "      <th>parameter</th>\n",
       "      <th>value</th>\n",
       "    </tr>\n",
       "  </thead>\n",
       "  <tbody>\n",
       "    <tr>\n",
       "      <th rowspan=\"5\" valign=\"top\">PM25</th>\n",
       "      <th>0</th>\n",
       "      <td>2019-06-18 06:00:00+00:00</td>\n",
       "      <td>BETR801</td>\n",
       "      <td>pm25</td>\n",
       "      <td>18.0</td>\n",
       "    </tr>\n",
       "    <tr>\n",
       "      <th>1</th>\n",
       "      <td>2019-06-17 08:00:00+00:00</td>\n",
       "      <td>BETR801</td>\n",
       "      <td>pm25</td>\n",
       "      <td>6.5</td>\n",
       "    </tr>\n",
       "    <tr>\n",
       "      <th>2</th>\n",
       "      <td>2019-06-17 07:00:00+00:00</td>\n",
       "      <td>BETR801</td>\n",
       "      <td>pm25</td>\n",
       "      <td>18.5</td>\n",
       "    </tr>\n",
       "    <tr>\n",
       "      <th>3</th>\n",
       "      <td>2019-06-17 06:00:00+00:00</td>\n",
       "      <td>BETR801</td>\n",
       "      <td>pm25</td>\n",
       "      <td>16.0</td>\n",
       "    </tr>\n",
       "    <tr>\n",
       "      <th>4</th>\n",
       "      <td>2019-06-17 05:00:00+00:00</td>\n",
       "      <td>BETR801</td>\n",
       "      <td>pm25</td>\n",
       "      <td>7.5</td>\n",
       "    </tr>\n",
       "  </tbody>\n",
       "</table>\n",
       "</div>"
      ],
      "text/plain": [
       "                         date.utc location parameter  value\n",
       "PM25 0  2019-06-18 06:00:00+00:00  BETR801      pm25   18.0\n",
       "     1  2019-06-17 08:00:00+00:00  BETR801      pm25    6.5\n",
       "     2  2019-06-17 07:00:00+00:00  BETR801      pm25   18.5\n",
       "     3  2019-06-17 06:00:00+00:00  BETR801      pm25   16.0\n",
       "     4  2019-06-17 05:00:00+00:00  BETR801      pm25    7.5"
      ]
     },
     "execution_count": 19,
     "metadata": {},
     "output_type": "execute_result"
    }
   ],
   "source": [
    "air_quality_.head()"
   ]
  },
  {
   "cell_type": "markdown",
   "id": "695776c2",
   "metadata": {},
   "source": [
    "Существование нескольких индексов строк/столбцов одновременно не упоминалось ранее. Иерархическая индексация или `MultiIndex` - это продвинутая и мощная функция `pandas` для анализа многомерных данных.\n",
    "\n",
    "На данный момент помните, что функцию `reset_index` можно использовать для преобразования любого уровня индекса в столбец, например, \n",
    "\n",
    "```Python\n",
    "air_quality.reset_index(level=0)\n",
    "```"
   ]
  },
  {
   "cell_type": "markdown",
   "id": "c9b9c6de",
   "metadata": {},
   "source": [
    "Не стесняйтесь погрузиться в мир мультииндексирования в [разделе руководства пользователя по расширенной индексации](https://pandas.pydata.org/pandas-docs/stable/user_guide/advanced.html#advanced)."
   ]
  },
  {
   "cell_type": "markdown",
   "id": "90ab40ac",
   "metadata": {},
   "source": [
    "Дополнительные параметры конкатенации таблиц (с точки зрения строк и столбцов) и того, как `concat` можно использовать для определения логики (объединения или пересечения) индексов на других осях, представлены в [разделе о конкатенации объектов](https://pandas.pydata.org/pandas-docs/stable/user_guide/merging.html#merging-concat)."
   ]
  },
  {
   "cell_type": "markdown",
   "id": "d71eb5b1",
   "metadata": {},
   "source": [
    "### Объединяйте таблицы, используя общий идентификатор"
   ]
  },
  {
   "cell_type": "markdown",
   "id": "5f0a5cfc",
   "metadata": {},
   "source": [
    "<div style=\"background-color: #ffffff; padding: 20px; text-align: center;\">\n",
    "    <img src=\"https://pandas.pydata.org/pandas-docs/stable/_images/08_merge_left.svg\">   \n",
    "</div>"
   ]
  },
  {
   "cell_type": "markdown",
   "id": "55b2715a",
   "metadata": {},
   "source": [
    "Координаты станции измерения качества воздуха хранятся в файле данных `air_quality_stations.csv`."
   ]
  },
  {
   "cell_type": "code",
   "execution_count": 20,
   "id": "a0080080",
   "metadata": {},
   "outputs": [],
   "source": [
    "# pylint: disable=line-too-long\n",
    "\n",
    "url = \"https://raw.githubusercontent.com/dm-fedorov/pandas_basic/master/%D0%B1%D1%8B%D1%81%D1%82%D1%80%D0%BE%D0%B5%20%D0%B2%D0%B2%D0%B5%D0%B4%D0%B5%D0%BD%D0%B8%D0%B5%20%D0%B2%20pandas/data/air_quality_stations.csv\""
   ]
  },
  {
   "cell_type": "code",
   "execution_count": 21,
   "id": "45a00c99",
   "metadata": {},
   "outputs": [
    {
     "data": {
      "text/html": [
       "<div>\n",
       "<style scoped>\n",
       "    .dataframe tbody tr th:only-of-type {\n",
       "        vertical-align: middle;\n",
       "    }\n",
       "\n",
       "    .dataframe tbody tr th {\n",
       "        vertical-align: top;\n",
       "    }\n",
       "\n",
       "    .dataframe thead th {\n",
       "        text-align: right;\n",
       "    }\n",
       "</style>\n",
       "<table border=\"1\" class=\"dataframe\">\n",
       "  <thead>\n",
       "    <tr style=\"text-align: right;\">\n",
       "      <th></th>\n",
       "      <th>location</th>\n",
       "      <th>coordinates.latitude</th>\n",
       "      <th>coordinates.longitude</th>\n",
       "    </tr>\n",
       "  </thead>\n",
       "  <tbody>\n",
       "    <tr>\n",
       "      <th>0</th>\n",
       "      <td>BELAL01</td>\n",
       "      <td>51.23619</td>\n",
       "      <td>4.38522</td>\n",
       "    </tr>\n",
       "    <tr>\n",
       "      <th>1</th>\n",
       "      <td>BELHB23</td>\n",
       "      <td>51.17030</td>\n",
       "      <td>4.34100</td>\n",
       "    </tr>\n",
       "    <tr>\n",
       "      <th>2</th>\n",
       "      <td>BELLD01</td>\n",
       "      <td>51.10998</td>\n",
       "      <td>5.00486</td>\n",
       "    </tr>\n",
       "    <tr>\n",
       "      <th>3</th>\n",
       "      <td>BELLD02</td>\n",
       "      <td>51.12038</td>\n",
       "      <td>5.02155</td>\n",
       "    </tr>\n",
       "    <tr>\n",
       "      <th>4</th>\n",
       "      <td>BELR833</td>\n",
       "      <td>51.32766</td>\n",
       "      <td>4.36226</td>\n",
       "    </tr>\n",
       "  </tbody>\n",
       "</table>\n",
       "</div>"
      ],
      "text/plain": [
       "  location  coordinates.latitude  coordinates.longitude\n",
       "0  BELAL01              51.23619                4.38522\n",
       "1  BELHB23              51.17030                4.34100\n",
       "2  BELLD01              51.10998                5.00486\n",
       "3  BELLD02              51.12038                5.02155\n",
       "4  BELR833              51.32766                4.36226"
      ]
     },
     "execution_count": 21,
     "metadata": {},
     "output_type": "execute_result"
    }
   ],
   "source": [
    "stations_coord = pd.read_csv(url)\n",
    "stations_coord.head()"
   ]
  },
  {
   "cell_type": "markdown",
   "id": "e684ac5c",
   "metadata": {},
   "source": [
    "Станции, используемые в этом примере (`FR04014`, `BETR801` и `London Westminster`) - это всего лишь три записи в таблице метаданных. Мы хотим добавить координаты этих станций в таблицу измерений, каждая из которых находится в соответствующих строках таблицы `air_quality`."
   ]
  },
  {
   "cell_type": "code",
   "execution_count": 22,
   "id": "e872bbeb",
   "metadata": {},
   "outputs": [
    {
     "data": {
      "text/html": [
       "<div>\n",
       "<style scoped>\n",
       "    .dataframe tbody tr th:only-of-type {\n",
       "        vertical-align: middle;\n",
       "    }\n",
       "\n",
       "    .dataframe tbody tr th {\n",
       "        vertical-align: top;\n",
       "    }\n",
       "\n",
       "    .dataframe thead th {\n",
       "        text-align: right;\n",
       "    }\n",
       "</style>\n",
       "<table border=\"1\" class=\"dataframe\">\n",
       "  <thead>\n",
       "    <tr style=\"text-align: right;\">\n",
       "      <th></th>\n",
       "      <th>date.utc</th>\n",
       "      <th>location</th>\n",
       "      <th>parameter</th>\n",
       "      <th>value</th>\n",
       "    </tr>\n",
       "  </thead>\n",
       "  <tbody>\n",
       "    <tr>\n",
       "      <th>2067</th>\n",
       "      <td>2019-05-07 01:00:00+00:00</td>\n",
       "      <td>London Westminster</td>\n",
       "      <td>no2</td>\n",
       "      <td>23.0</td>\n",
       "    </tr>\n",
       "    <tr>\n",
       "      <th>1003</th>\n",
       "      <td>2019-05-07 01:00:00+00:00</td>\n",
       "      <td>FR04014</td>\n",
       "      <td>no2</td>\n",
       "      <td>25.0</td>\n",
       "    </tr>\n",
       "    <tr>\n",
       "      <th>100</th>\n",
       "      <td>2019-05-07 01:00:00+00:00</td>\n",
       "      <td>BETR801</td>\n",
       "      <td>pm25</td>\n",
       "      <td>12.5</td>\n",
       "    </tr>\n",
       "    <tr>\n",
       "      <th>1098</th>\n",
       "      <td>2019-05-07 01:00:00+00:00</td>\n",
       "      <td>BETR801</td>\n",
       "      <td>no2</td>\n",
       "      <td>50.5</td>\n",
       "    </tr>\n",
       "    <tr>\n",
       "      <th>1109</th>\n",
       "      <td>2019-05-07 01:00:00+00:00</td>\n",
       "      <td>London Westminster</td>\n",
       "      <td>pm25</td>\n",
       "      <td>8.0</td>\n",
       "    </tr>\n",
       "  </tbody>\n",
       "</table>\n",
       "</div>"
      ],
      "text/plain": [
       "                       date.utc            location parameter  value\n",
       "2067  2019-05-07 01:00:00+00:00  London Westminster       no2   23.0\n",
       "1003  2019-05-07 01:00:00+00:00             FR04014       no2   25.0\n",
       "100   2019-05-07 01:00:00+00:00             BETR801      pm25   12.5\n",
       "1098  2019-05-07 01:00:00+00:00             BETR801       no2   50.5\n",
       "1109  2019-05-07 01:00:00+00:00  London Westminster      pm25    8.0"
      ]
     },
     "execution_count": 22,
     "metadata": {},
     "output_type": "execute_result"
    }
   ],
   "source": [
    "air_quality.head()"
   ]
  },
  {
   "cell_type": "markdown",
   "id": "40e4bc80",
   "metadata": {},
   "source": [
    "Добавим координаты станции, предоставленные в таблице метаданных станций, в соответствующие строки таблицы измерений:"
   ]
  },
  {
   "cell_type": "code",
   "execution_count": 23,
   "id": "f43a2851",
   "metadata": {},
   "outputs": [
    {
     "data": {
      "text/html": [
       "<div>\n",
       "<style scoped>\n",
       "    .dataframe tbody tr th:only-of-type {\n",
       "        vertical-align: middle;\n",
       "    }\n",
       "\n",
       "    .dataframe tbody tr th {\n",
       "        vertical-align: top;\n",
       "    }\n",
       "\n",
       "    .dataframe thead th {\n",
       "        text-align: right;\n",
       "    }\n",
       "</style>\n",
       "<table border=\"1\" class=\"dataframe\">\n",
       "  <thead>\n",
       "    <tr style=\"text-align: right;\">\n",
       "      <th></th>\n",
       "      <th>date.utc</th>\n",
       "      <th>location</th>\n",
       "      <th>parameter</th>\n",
       "      <th>value</th>\n",
       "      <th>coordinates.latitude</th>\n",
       "      <th>coordinates.longitude</th>\n",
       "    </tr>\n",
       "  </thead>\n",
       "  <tbody>\n",
       "    <tr>\n",
       "      <th>0</th>\n",
       "      <td>2019-05-07 01:00:00+00:00</td>\n",
       "      <td>London Westminster</td>\n",
       "      <td>no2</td>\n",
       "      <td>23.0</td>\n",
       "      <td>51.49467</td>\n",
       "      <td>-0.13193</td>\n",
       "    </tr>\n",
       "    <tr>\n",
       "      <th>1</th>\n",
       "      <td>2019-05-07 01:00:00+00:00</td>\n",
       "      <td>FR04014</td>\n",
       "      <td>no2</td>\n",
       "      <td>25.0</td>\n",
       "      <td>48.83724</td>\n",
       "      <td>2.39390</td>\n",
       "    </tr>\n",
       "    <tr>\n",
       "      <th>2</th>\n",
       "      <td>2019-05-07 01:00:00+00:00</td>\n",
       "      <td>FR04014</td>\n",
       "      <td>no2</td>\n",
       "      <td>25.0</td>\n",
       "      <td>48.83722</td>\n",
       "      <td>2.39390</td>\n",
       "    </tr>\n",
       "    <tr>\n",
       "      <th>3</th>\n",
       "      <td>2019-05-07 01:00:00+00:00</td>\n",
       "      <td>BETR801</td>\n",
       "      <td>pm25</td>\n",
       "      <td>12.5</td>\n",
       "      <td>51.20966</td>\n",
       "      <td>4.43182</td>\n",
       "    </tr>\n",
       "    <tr>\n",
       "      <th>4</th>\n",
       "      <td>2019-05-07 01:00:00+00:00</td>\n",
       "      <td>BETR801</td>\n",
       "      <td>no2</td>\n",
       "      <td>50.5</td>\n",
       "      <td>51.20966</td>\n",
       "      <td>4.43182</td>\n",
       "    </tr>\n",
       "  </tbody>\n",
       "</table>\n",
       "</div>"
      ],
      "text/plain": [
       "                    date.utc            location parameter  value  \\\n",
       "0  2019-05-07 01:00:00+00:00  London Westminster       no2   23.0   \n",
       "1  2019-05-07 01:00:00+00:00             FR04014       no2   25.0   \n",
       "2  2019-05-07 01:00:00+00:00             FR04014       no2   25.0   \n",
       "3  2019-05-07 01:00:00+00:00             BETR801      pm25   12.5   \n",
       "4  2019-05-07 01:00:00+00:00             BETR801       no2   50.5   \n",
       "\n",
       "   coordinates.latitude  coordinates.longitude  \n",
       "0              51.49467               -0.13193  \n",
       "1              48.83724                2.39390  \n",
       "2              48.83722                2.39390  \n",
       "3              51.20966                4.43182  \n",
       "4              51.20966                4.43182  "
      ]
     },
     "execution_count": 23,
     "metadata": {},
     "output_type": "execute_result"
    }
   ],
   "source": [
    "air_quality = pd.merge(air_quality, stations_coord, how=\"left\", on=\"location\")\n",
    "air_quality.head()"
   ]
  },
  {
   "cell_type": "markdown",
   "id": "5c83ef96",
   "metadata": {},
   "source": [
    "Используя функцию [`merge()`](https://pandas.pydata.org/pandas-docs/stable/reference/api/pandas.merge.html#pandas.merge), для каждой строки таблицы `air_quality` добавляются соответствующие координаты из таблицы `air_quality_stations_coord`. Обе таблицы имеют общий столбец `location`, который используется в качестве ключа для объединения информации. Выбрав объединение `left`, в результирующей таблице `air_quality` окажутся только местоположения, доступные в (левой) таблице, например `FR04014`, `BETR801` и `London Westminster`. В функции merge поддерживает несколько опции, подобных операциям из базы данных."
   ]
  },
  {
   "cell_type": "markdown",
   "id": "f2a87ceb",
   "metadata": {},
   "source": [
    "Добавим описание и имя параметра, предоставленные таблицей метаданных, в таблицу измерений:"
   ]
  },
  {
   "cell_type": "markdown",
   "id": "d5a8d44a",
   "metadata": {},
   "source": [
    "Метаданные параметров о качестве воздуха хранятся в файле `air_quality_parameters.csv`."
   ]
  },
  {
   "cell_type": "code",
   "execution_count": 24,
   "id": "2769c07e",
   "metadata": {},
   "outputs": [],
   "source": [
    "# pylint: disable=line-too-long\n",
    "\n",
    "url = \"https://raw.githubusercontent.com/dm-fedorov/pandas_basic/master/%D0%B1%D1%8B%D1%81%D1%82%D1%80%D0%BE%D0%B5%20%D0%B2%D0%B2%D0%B5%D0%B4%D0%B5%D0%BD%D0%B8%D0%B5%20%D0%B2%20pandas/data/air_quality_parameters.csv\""
   ]
  },
  {
   "cell_type": "code",
   "execution_count": 25,
   "id": "cfcbf244",
   "metadata": {},
   "outputs": [
    {
     "data": {
      "text/html": [
       "<div>\n",
       "<style scoped>\n",
       "    .dataframe tbody tr th:only-of-type {\n",
       "        vertical-align: middle;\n",
       "    }\n",
       "\n",
       "    .dataframe tbody tr th {\n",
       "        vertical-align: top;\n",
       "    }\n",
       "\n",
       "    .dataframe thead th {\n",
       "        text-align: right;\n",
       "    }\n",
       "</style>\n",
       "<table border=\"1\" class=\"dataframe\">\n",
       "  <thead>\n",
       "    <tr style=\"text-align: right;\">\n",
       "      <th></th>\n",
       "      <th>id</th>\n",
       "      <th>description</th>\n",
       "      <th>name</th>\n",
       "    </tr>\n",
       "  </thead>\n",
       "  <tbody>\n",
       "    <tr>\n",
       "      <th>0</th>\n",
       "      <td>bc</td>\n",
       "      <td>Black Carbon</td>\n",
       "      <td>BC</td>\n",
       "    </tr>\n",
       "    <tr>\n",
       "      <th>1</th>\n",
       "      <td>co</td>\n",
       "      <td>Carbon Monoxide</td>\n",
       "      <td>CO</td>\n",
       "    </tr>\n",
       "    <tr>\n",
       "      <th>2</th>\n",
       "      <td>no2</td>\n",
       "      <td>Nitrogen Dioxide</td>\n",
       "      <td>NO2</td>\n",
       "    </tr>\n",
       "    <tr>\n",
       "      <th>3</th>\n",
       "      <td>o3</td>\n",
       "      <td>Ozone</td>\n",
       "      <td>O3</td>\n",
       "    </tr>\n",
       "    <tr>\n",
       "      <th>4</th>\n",
       "      <td>pm10</td>\n",
       "      <td>Particulate matter less than 10 micrometers in...</td>\n",
       "      <td>PM10</td>\n",
       "    </tr>\n",
       "  </tbody>\n",
       "</table>\n",
       "</div>"
      ],
      "text/plain": [
       "     id                                        description  name\n",
       "0    bc                                       Black Carbon    BC\n",
       "1    co                                    Carbon Monoxide    CO\n",
       "2   no2                                   Nitrogen Dioxide   NO2\n",
       "3    o3                                              Ozone    O3\n",
       "4  pm10  Particulate matter less than 10 micrometers in...  PM10"
      ]
     },
     "execution_count": 25,
     "metadata": {},
     "output_type": "execute_result"
    }
   ],
   "source": [
    "air_quality_parameters = pd.read_csv(url)\n",
    "air_quality_parameters.head()"
   ]
  },
  {
   "cell_type": "code",
   "execution_count": 26,
   "id": "f48d13c8",
   "metadata": {},
   "outputs": [
    {
     "data": {
      "text/html": [
       "<div>\n",
       "<style scoped>\n",
       "    .dataframe tbody tr th:only-of-type {\n",
       "        vertical-align: middle;\n",
       "    }\n",
       "\n",
       "    .dataframe tbody tr th {\n",
       "        vertical-align: top;\n",
       "    }\n",
       "\n",
       "    .dataframe thead th {\n",
       "        text-align: right;\n",
       "    }\n",
       "</style>\n",
       "<table border=\"1\" class=\"dataframe\">\n",
       "  <thead>\n",
       "    <tr style=\"text-align: right;\">\n",
       "      <th></th>\n",
       "      <th>date.utc</th>\n",
       "      <th>location</th>\n",
       "      <th>parameter</th>\n",
       "      <th>value</th>\n",
       "      <th>coordinates.latitude</th>\n",
       "      <th>coordinates.longitude</th>\n",
       "      <th>id</th>\n",
       "      <th>description</th>\n",
       "      <th>name</th>\n",
       "    </tr>\n",
       "  </thead>\n",
       "  <tbody>\n",
       "    <tr>\n",
       "      <th>0</th>\n",
       "      <td>2019-05-07 01:00:00+00:00</td>\n",
       "      <td>London Westminster</td>\n",
       "      <td>no2</td>\n",
       "      <td>23.0</td>\n",
       "      <td>51.49467</td>\n",
       "      <td>-0.13193</td>\n",
       "      <td>no2</td>\n",
       "      <td>Nitrogen Dioxide</td>\n",
       "      <td>NO2</td>\n",
       "    </tr>\n",
       "    <tr>\n",
       "      <th>1</th>\n",
       "      <td>2019-05-07 01:00:00+00:00</td>\n",
       "      <td>FR04014</td>\n",
       "      <td>no2</td>\n",
       "      <td>25.0</td>\n",
       "      <td>48.83724</td>\n",
       "      <td>2.39390</td>\n",
       "      <td>no2</td>\n",
       "      <td>Nitrogen Dioxide</td>\n",
       "      <td>NO2</td>\n",
       "    </tr>\n",
       "    <tr>\n",
       "      <th>2</th>\n",
       "      <td>2019-05-07 01:00:00+00:00</td>\n",
       "      <td>FR04014</td>\n",
       "      <td>no2</td>\n",
       "      <td>25.0</td>\n",
       "      <td>48.83722</td>\n",
       "      <td>2.39390</td>\n",
       "      <td>no2</td>\n",
       "      <td>Nitrogen Dioxide</td>\n",
       "      <td>NO2</td>\n",
       "    </tr>\n",
       "    <tr>\n",
       "      <th>3</th>\n",
       "      <td>2019-05-07 01:00:00+00:00</td>\n",
       "      <td>BETR801</td>\n",
       "      <td>pm25</td>\n",
       "      <td>12.5</td>\n",
       "      <td>51.20966</td>\n",
       "      <td>4.43182</td>\n",
       "      <td>pm25</td>\n",
       "      <td>Particulate matter less than 2.5 micrometers i...</td>\n",
       "      <td>PM2.5</td>\n",
       "    </tr>\n",
       "    <tr>\n",
       "      <th>4</th>\n",
       "      <td>2019-05-07 01:00:00+00:00</td>\n",
       "      <td>BETR801</td>\n",
       "      <td>no2</td>\n",
       "      <td>50.5</td>\n",
       "      <td>51.20966</td>\n",
       "      <td>4.43182</td>\n",
       "      <td>no2</td>\n",
       "      <td>Nitrogen Dioxide</td>\n",
       "      <td>NO2</td>\n",
       "    </tr>\n",
       "  </tbody>\n",
       "</table>\n",
       "</div>"
      ],
      "text/plain": [
       "                    date.utc            location parameter  value  \\\n",
       "0  2019-05-07 01:00:00+00:00  London Westminster       no2   23.0   \n",
       "1  2019-05-07 01:00:00+00:00             FR04014       no2   25.0   \n",
       "2  2019-05-07 01:00:00+00:00             FR04014       no2   25.0   \n",
       "3  2019-05-07 01:00:00+00:00             BETR801      pm25   12.5   \n",
       "4  2019-05-07 01:00:00+00:00             BETR801       no2   50.5   \n",
       "\n",
       "   coordinates.latitude  coordinates.longitude    id  \\\n",
       "0              51.49467               -0.13193   no2   \n",
       "1              48.83724                2.39390   no2   \n",
       "2              48.83722                2.39390   no2   \n",
       "3              51.20966                4.43182  pm25   \n",
       "4              51.20966                4.43182   no2   \n",
       "\n",
       "                                         description   name  \n",
       "0                                   Nitrogen Dioxide    NO2  \n",
       "1                                   Nitrogen Dioxide    NO2  \n",
       "2                                   Nitrogen Dioxide    NO2  \n",
       "3  Particulate matter less than 2.5 micrometers i...  PM2.5  \n",
       "4                                   Nitrogen Dioxide    NO2  "
      ]
     },
     "execution_count": 26,
     "metadata": {},
     "output_type": "execute_result"
    }
   ],
   "source": [
    "air_quality = pd.merge(\n",
    "    air_quality, air_quality_parameters, how=\"left\", left_on=\"parameter\", right_on=\"id\"\n",
    ")\n",
    "air_quality.head()"
   ]
  },
  {
   "cell_type": "markdown",
   "id": "e10c874c",
   "metadata": {},
   "source": [
    "По сравнению с предыдущим примером нет общего имени столбца. Однако столбец parameter в таблице `air_quality` и `столбец id` в `air_quality_parameters` содержат переменную в общем формате. Аргументы `left_on` и `right_on` используются, чтобы сделать связь между двумя таблицами."
   ]
  },
  {
   "cell_type": "markdown",
   "id": "a3fab097",
   "metadata": {},
   "source": [
    "pandas поддерживают внутренние, внешние и правые соединения. Более подробная информация о `join/merge` таблиц представлена в [разделе руководства пользователя по объединению таблиц в стиле базы данных](https://pandas.pydata.org/pandas-docs/stable/user_guide/merging.html#merging-join). Или взгляните на [страницу сравнения с SQL](https://pandas.pydata.org/pandas-docs/stable/getting_started/comparison/comparison_with_sql.html#compare-with-sql-join)."
   ]
  },
  {
   "cell_type": "markdown",
   "id": "9f2c5da9",
   "metadata": {},
   "source": [
    "См. Руководство пользователя для [полного описания различных средств для объединения таблиц данных](https://pandas.pydata.org/pandas-docs/stable/user_guide/merging.html#merging)."
   ]
  }
 ],
 "metadata": {
  "kernelspec": {
   "display_name": "base",
   "language": "python",
   "name": "python3"
  },
  "language_info": {
   "codemirror_mode": {
    "name": "ipython",
    "version": 3
   },
   "file_extension": ".py",
   "mimetype": "text/x-python",
   "name": "python",
   "nbconvert_exporter": "python",
   "pygments_lexer": "ipython3",
   "version": "3.12.8"
  }
 },
 "nbformat": 4,
 "nbformat_minor": 5
}

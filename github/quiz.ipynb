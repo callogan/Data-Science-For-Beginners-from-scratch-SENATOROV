{
 "cells": [
  {
   "cell_type": "code",
   "execution_count": null,
   "metadata": {},
   "outputs": [],
   "source": [
    "\"\"\"Ответы на вопросы по GitHub (комплексный quiz).\"\"\""
   ]
  },
  {
   "cell_type": "markdown",
   "metadata": {},
   "source": [
    "GITHUB"
   ]
  },
  {
   "cell_type": "markdown",
   "metadata": {},
   "source": [
    "1.1. Что такое GitHub?\n",
    "\n",
    "GitHub — это крупнейшая платформа для хранения Git-репозиториев, а также пространство для совместной работы большого количества разработчиков над различными проектами."
   ]
  },
  {
   "cell_type": "markdown",
   "metadata": {},
   "source": [
    "1.2. Как GitHub связан с Git?\n",
    "\n",
    "- Разработчики используют Git для работы с локальными копиями репозиториев и могут отправлять свои изменения в удалённые репозитории на GitHub.\n",
    "- Для того, чтобы с помощью Git можно было редактировать репозитории локально, GitHub предоставляет возможность клонировать и форкать такие репозитории (разработчики получают их копии для дальнейшей работы),\n",
    "- С помощью GitHub разработчики могут создавать pull-запросы, предлагая свои изменения для добавления в основной репозиторий."
   ]
  },
  {
   "cell_type": "markdown",
   "metadata": {},
   "source": [
    "1.3. Чем отличается fork репозитория от его клонирования (clone)?\n",
    "\n",
    "Fork — это создание копии чужого репозитория в нашем аккаунте на GitHub. Чтобы начать работать с этим репозиторием локально, его нужно клонировать на свой компьютер. \n",
    "Клонирование (clone) — это процесс загрузки репозитория с GitHub на локальный компьютер для дальнейшей работы с ним."
   ]
  },
  {
   "cell_type": "markdown",
   "metadata": {},
   "source": [
    "1.4. Зачем нужны и как работают Pull requests?\n",
    "\n",
    "Pull Requests (PR) — это инструмент в Git и GitHub, позволяющий разработчикам предлагать изменения в кодовой базе, облегчая совместную работу над проектом. Они помогают поддерживать качество кода и согласованность вносимых изменений.\n",
    "\n",
    "Как работает Pull Request:\n",
    "\n",
    "а) Разработчик создает форк основного репозитория на GitHub и клонирует его на локальный компьютер.\n",
    "б) В локальном репозитории создается новая ветка для работы над изменениями.\n",
    "в) После внесения правок разработчик делает коммиты и пушит изменения в свой форк на GitHub.\n",
    "г) На странице форка разработчик создает Pull Request, указывая основную ветку (например, main или master) в качестве целевой и свою ветку с изменениями — как исходную.\n",
    "д) Участники проекта просматривают PR, оставляют комментарии, предлагают улучшения и обсуждают код.\n",
    "е) После успешного ревью и одобрения Pull Request объединяется (сливается) с основной веткой проекта."
   ]
  },
  {
   "cell_type": "markdown",
   "metadata": {},
   "source": [
    "1.5. GitHub использует ваш почтовый адрес для привязки ваших Git коммитов к вашей учётной записи?\n",
    "\n",
    "Да, GitHub использует ваш почтовый адрес для связывания Git-коммитов с вашей учетной записью, чтобы корректно определить автора каждого коммита и отразить это на платформе."
   ]
  },
  {
   "cell_type": "markdown",
   "metadata": {},
   "source": [
    "1.6. Какая команда генерирует SSH ключ для Доступа по SSH к репозиторию (Рисунок 83)\n",
    "\n",
    "Команда для генерации SSH-ключа — ssh-keygen. После выполнения данной команды ключ будет создан и сохранён в файле ~/.ssh/id_rsa.pub. Чтобы добавить его на GitHub, необходимо открыть настройки своей учётной записи, перейти в раздел SSH and GPG keys и нажать \"Add SSH key\". В поле Title следует указать имя для ключа, а в поле Key - вставить содержимое файла id_rsa.pub. Затем надо нажать \"Add key\" для сохранения."
   ]
  },
  {
   "cell_type": "markdown",
   "metadata": {},
   "source": [
    "ВНЕСЕНИЕ СОБСТВЕННОГО ВКЛАДА В ПРОЕКТЫ"
   ]
  },
  {
   "cell_type": "markdown",
   "metadata": {},
   "source": [
    "2. Создайте ишьюс и запомните его номер.\n",
    "\n",
    "Выполнено"
   ]
  },
  {
   "cell_type": "markdown",
   "metadata": {},
   "source": [
    "2.1. Если вы хотите вносить свой вклад в уже существующие проекты, в которых у нас нет прав на внесения изменений путём отправки (push) изменений, вы можете создать своё собственное ответвление, что нужно сделать чтобы создать собственное ответвление (Рисунок 88)?\n",
    "\n",
    "Необходимо сделать форк репозитория.\n",
    "\n",
    "Сделайте ответвление https://github.com/SENATOROVAI/Data-Science-For-Beginners-from-scratch-SENATOROV, и вставьте сюда ссылку на ваше ответвление.\n",
    "\n",
    "https://github.com/callogan/Data-Science-For-Beginners-from-scratch-SENATOROV"
   ]
  },
  {
   "cell_type": "markdown",
   "metadata": {},
   "source": [
    "2.2 создайте ветку dev в ФОРКЕ Data-Science-For-Beginners, вставьте сюда ссылку на вашу ветку dev\n",
    "\n",
    "https://github.com/callogan/Data-Science-For-Beginners-from-scratch-SENATOROV/tree/dev"
   ]
  },
  {
   "cell_type": "markdown",
   "metadata": {},
   "source": [
    "2.3 В README файле вашего ФОРКА, добавьте ссылку на мой телеграм канал https://t.me/RuslanSenatorov, сохраните коммит, название коммита - в тайтле название ишьюса (#номер_ишьюс), в дескрипшене - Closes #NUMBER-ISSUES номер возьмите из пункта 2\n",
    "\n",
    "Выполнено"
   ]
  },
  {
   "cell_type": "markdown",
   "metadata": {},
   "source": [
    "2.4 Отправьте пул реквест из ФОРКА в основу В ВАШУ ВЕТКУ, тайтл пул реквеста скопируйте из ISSUES-TITLE, в дескрипшине пул реквеста напишите Closes #NUMBER-ISSUES вставьте номер из пункта 2\n",
    "\n",
    "Выполнено"
   ]
  },
  {
   "cell_type": "markdown",
   "metadata": {},
   "source": [
    "2.5 Прокомментируйте ваш пул реквест перед слиянием, перейдите во вкладку(Рисунок 92) и напишите \"ок\", потом нажимайте сабмит ревью затем не выходя из этой вкладки, в файле README , добавьте туда ссылку на https://t.me/SENATOROVAI, => инструкция\n",
    "\n",
    "Выполнено"
   ]
  },
  {
   "cell_type": "markdown",
   "metadata": {},
   "source": [
    "2.6 Выполните Merge pull request (Рисунок 116), вставьте сюда ссылку на ваш пул реквест\n",
    "\n",
    "https://github.com/SENATOROVAI/Data-Science-For-Beginners-from-scratch-SENATOROV/pull/203 \n",
    "\n",
    "Примечание: сам Merge pull request выполнить не удалось, поскольку, вероятно, часть линтеров (black, convert_notebooks, isort) не обрабатывают такой кейс, как внесённые мной изменения в файл README.md."
   ]
  },
  {
   "cell_type": "markdown",
   "metadata": {},
   "source": [
    "2.7 Вставьте сюда ссылку на закрытые пул реквесты в репозитории, найти можно тут\n",
    "\n",
    "https://github.com/SENATOROVAI/Data-Science-For-Beginners-from-scratch-SENATOROV/pulls?q=is%3Apr+is%3Aclosed"
   ]
  },
  {
   "cell_type": "markdown",
   "metadata": {},
   "source": [
    "2.8 Как посмотреть какие файлы были в репозитории на момент определенного коммита? вставьте сюда ссылку на любой коммит, где взять ссылку? подсказка:\n",
    "\n",
    "https://github.com/SENATOROVAI/Data-Science-For-Beginners-from-scratch-SENATOROV/commit/6d34ebf9c7e2a2678a3b66748696782fe1768d63"
   ]
  },
  {
   "cell_type": "markdown",
   "metadata": {},
   "source": [
    "2.9 как открыть запрос слияния, указывающий на другой запрос слияния и зачем это нужно? (Рисунок 117)\n",
    "\n",
    "Если Вы хотите предложить улучшения к существующему запросу слияния, сомневаетесь в его решении или не имеете прав на запись в целевую ветку, можно создать новый запрос слияния, ссылающийся на текущий.\n",
    "\n",
    "Для этого при создании нового pull request на GitHub в верхней части страницы отобразится меню для выбора исходной и целевой веток. Нажав кнопку \"Edit\" справа, Вы сможете выбрать не только другую исходную ветку, но и форк репозитория. Здесь можно указать вашу новую ветку для слияния с уже существующим Pull request или другим форком проекта.\n",
    "\n",
    "Такой подход позволяет предлагать улучшения или вносить правки кода, даже если у Вас нет прямого доступа к целевой ветке."
   ]
  },
  {
   "cell_type": "markdown",
   "metadata": {},
   "source": [
    "РАБОЧИЙ ПРОЦЕСС С ИСПОЛЬЗОВАНИЕМ GITHUB"
   ]
  },
  {
   "cell_type": "markdown",
   "metadata": {},
   "source": [
    "3. Напишите 8 пунктов, которые нужно сделать, чтобы внести вклад в чужой проект.\n",
    "\n",
    "* Сделайте форк репозитория — создайте собственную копию проекта на GitHub.\n",
    "* Склонируйте форк на локальный компьютер с помощью команды git clone, чтобы работать с кодом офлайн.\n",
    "* Создайте новую ветку для ваших изменений и запушьте её на GitHub (git checkout -b имя-ветки и git push).\n",
    "* Внесите необходимые изменения в код или документацию проекта.\n",
    "* Сделайте коммит с понятным описанием внесённых изменений (git commit -m \"Описание изменений\").\n",
    "* Запушьте коммит в свою ветку на форкнутом репозитории (git push origin имя-ветки).\n",
    "* Создайте pull request (PR), указав, что было изменено и как это улучшает проект.\n",
    "* Участвуйте в обсуждении PR, отвечайте на комментарии и вносите дополнительные правки при необходимости."
   ]
  },
  {
   "cell_type": "markdown",
   "metadata": {},
   "source": [
    "3.1. По поводу некоторых практик\n",
    "\n",
    "3.1.1. Какие практики принято соблюдать при создании Pull Request (PR) чтобы закрыть автоматический issues?\n",
    "\n",
    "- Используйте ключевые слова в описании PR, такие как closes, fixes или resolves, чтобы GitHub автоматически закрыл связанный issue после слияния (например, closes #123).\n",
    "- Добавьте чёткое и детальное описание внесённых изменений и укажите, как они решают связанный issue.\n",
    "- Включите ссылку на issue в описание PR для упрощения навигации между PR и задачей.\n",
    "- Убедитесь, что все тесты проходят успешно, чтобы ваши изменения не сломали работу проекта.\n",
    "- Участвуйте в обсуждении PR — отвечайте на комментарии, вносите необходимые исправления и улучшения на основе обратной связи.\n",
    "\n",
    "3.1.2. Какие практики принято соблюдать при создании commit чтобы закрыть автоматический issues?\n",
    "\n",
    "- Используйте ключевые слова в сообщении коммита, такие как closes, fixes или resolves, чтобы GitHub автоматически закрыл связанный issue после слияния (например, fixes #123).\n",
    "- Добавьте ссылку на issue в заголовке коммита, если коммит напрямую связан с конкретной задачей.\n",
    "- Пишите осмысленные сообщения коммита, чётко описывая внесённые изменения и их цель.\n",
    "- Следите за содержанием коммита — включайте только файлы, соответствующие описанию коммита. Желательно придерживаться правила \"один коммит — одна задача\".\n",
    "- Делайте коммиты регулярно, чтобы упростить отслеживание изменений и сделать удобным процесс отладки.\n",
    "- Убедитесь, что все тесты проходят успешно перед коммитом, чтобы не нарушить работоспособность проекта."
   ]
  },
  {
   "attachments": {
    "PR_cancellation_1.png": {
     "image/png": "[encoded data removed]"
    }
   },
   "cell_type": "markdown",
   "metadata": {},
   "source": [
    "3.2 Как отклонить/закрыть пул реквест? (предоставьте скриншот где это в гитхабе)\n",
    "\n",
    "![PR_cancellation_1.png](attachment:PR_cancellation_1.png)"
   ]
  },
  {
   "cell_type": "markdown",
   "metadata": {},
   "source": [
    "3.3 Перед отправкой пул реквеста нужно ли создавать ишьюс?\n",
    "\n",
    "Создавать Issue перед отправкой Pull Request не является обязательным требованием, но это считается хорошей практикой, особенно в командных и крупных проектах. Это помогает отслеживать задачи, улучшает коммуникацию внутри команды и упрощает процесс ревью. Поэтому в таких случаях создание Issue рекомендуется."
   ]
  },
  {
   "cell_type": "markdown",
   "metadata": {},
   "source": [
    "3.4 В какой вкладке можно посмотреть список изменений который был в пул реквесте? (Рисунок 92)\n",
    "\n",
    "Files changed"
   ]
  },
  {
   "cell_type": "markdown",
   "metadata": {},
   "source": [
    "3.5 В какой вкладке находится страница обсуждений пул реквеста? (Рисунок 94)\n",
    "\n",
    "Conversation"
   ]
  },
  {
   "cell_type": "markdown",
   "metadata": {},
   "source": [
    "СОЗДАНИЕ ЗАПРОСА НА СЛИЯНИЕ"
   ]
  },
  {
   "cell_type": "markdown",
   "metadata": {},
   "source": [
    "4. Можно ли открыть пул реквест, если вы ничего не вносили в FORK?\n",
    "\n",
    "Нет, открыть пул реквест без внесённых изменений в форк невозможно, так как GitHub не обнаружит различий между ветками и не сможет создать запрос на слияние."
   ]
  },
  {
   "cell_type": "markdown",
   "metadata": {},
   "source": [
    "4.1 Что нужно сделать чтобы открыть пул реквест? (Рисунок 90)\n",
    "\n",
    "Чтобы открыть pull request, нажмите кнопку \"Compare & pull request\" на странице вашего форка или после пуша изменений в репозиторий."
   ]
  },
  {
   "cell_type": "markdown",
   "metadata": {},
   "source": [
    "4.2 Что нужно сделать Если ваш Форк устарел?\n",
    "\n",
    "4.2.1. Через консоль:\n",
    "\n",
    "- Добавьте оригинальный репозиторий как удалённый источник:\n",
    "    ```bash\n",
    "    git remote add upstream <ссылка на оригинальный репозиторий>  \n",
    "    ```\n",
    "\n",
    "- Получите последние обновления из оригинала:\n",
    "    ```bash\n",
    "    git fetch upstream  \n",
    "    ```\n",
    "\n",
    "- Переключитесь на основную ветку (обычно main или master):\n",
    "    ```bash\n",
    "    git checkout main  \n",
    "    ```\n",
    "\n",
    "- Объедините изменения из оригинального репозитория в свою локальную ветку:\n",
    "    ```bash\n",
    "    git merge upstream/main  \n",
    "    ```\n",
    "\n",
    "- Разрешите конфликты, если они возникнут.\n",
    "\n",
    "- Отправьте обновлённую ветку в свой форк на GitHub:\n",
    "    ```bash\n",
    "    git push origin main  \n",
    "    ```\n",
    "\n",
    "4.2.2.  Через GitHub:\n",
    "\n",
    "- Откройте страницу своего форка.\n",
    "- Перейдите во вкладку Pull requests и нажмите New pull request.\n",
    "- Выберите оригинальный репозиторий как источник изменений и свой форк в качестве цели.\n",
    "- Нажмите Create pull request.\n",
    "- Подтвердите слияние, кликнув Merge pull request.\n",
    "- Если возникнут конфликты, используйте Resolve conflicts для их устранения вручную и завершите процесс слияния."
   ]
  },
  {
   "cell_type": "markdown",
   "metadata": {},
   "source": [
    "4.3 Что нужно сделать если в пул реквесте имеются конфликты слияния (Рисунок 96)\n",
    "\n",
    "Есть два подхода для их решения:\n",
    "\n",
    "4.3.1. Слияние целевой ветки в свою ветку.\n",
    "Это наиболее распространённый метод. Нужно просто слить целевую ветку (чаще всего master или main) в вашу рабочую ветку, разрешить конфликты и запушить изменения. Этот способ сохраняет полную историю коммитов и упрощает процесс.\n",
    "\n",
    "4.3.2. Перебазирование (rebase) своей ветки относительно целевой.\n",
    "Этот вариант делает историю коммитов более чистой, но сложнее в реализации и может привести к ошибкам, если не выполнять его внимательно.\n",
    "\n",
    "В большинстве случаев разработчики выбирают первый способ — слияние — так как он проще и безопаснее для командной работы."
   ]
  },
  {
   "cell_type": "markdown",
   "metadata": {},
   "source": [
    "ОТРЫВКИ КОДА"
   ]
  },
  {
   "cell_type": "markdown",
   "metadata": {},
   "source": [
    "5 Что нужно сделать Для добавления отрывка кода в комментарии к ишьюсу? (Рисунок 104)\n",
    "\n",
    "A. Через ссылку на код:\n",
    "\n",
    "- Выделите нужные строки кода в репозитории.\n",
    "- Нажмите на три точки рядом с выделением и выберите \"Copy permalink\".\n",
    "- Вставьте эту ссылку в комментарий к Issue — это создаст прямую ссылку на конкретный фрагмент кода.\n",
    "\n",
    "Б. Вставка кода вручную:\n",
    "- Скопируйте нужный фрагмент кода.\n",
    "- В комментарии обрамите его тройными обратными кавычками (```) для форматирования.\n",
    "- Чтобы добавить подсветку синтаксиса, укажите название языка сразу после первых трёх кавычек. Например:\n",
    "```bash\n",
    "def hello_world():  \n",
    "    print(\"Hello, world!\")  \n",
    "```\n",
    "\n",
    "Оба метода позволяют наглядно представить код в комментарии и упростить обсуждение."
   ]
  },
  {
   "cell_type": "markdown",
   "metadata": {},
   "source": [
    "5.1 На какую клавишу нажать клавишу чтобы выделенный текст был включён как цитата в ваш комментарий?(Рисунок 105)\n",
    "\n",
    "- Выделить текст и нажмите клавишу r — выбранный фрагмент автоматически станет цитатой в вашем комментарии.\n",
    "- Альтернативный способ — вручную добавить символ > перед строкой, чтобы оформить её как цитату.\n",
    "\n",
    "Оба метода помогут выделить важные части текста для обсуждения."
   ]
  },
  {
   "cell_type": "markdown",
   "metadata": {},
   "source": [
    "5.2 Как вставить картинку в ишьюс? (Рисунок 108)\n",
    "\n",
    "Внизу поля для комментария находится значок скрепки с текстом \"Paste, drop or click to add files\". Чтобы добавить картинку:\n",
    "\n",
    "- Нажать на скрепку и выберите изображение с вашего компьютера.\n",
    "- Либо перетащить файл прямо в окно комментария.\n",
    "- Также можно просто вставить скопированное изображение с помощью Ctrl + V.\n",
    "\n",
    "После загрузки картинка автоматически появится в описании Issue."
   ]
  },
  {
   "cell_type": "markdown",
   "metadata": {},
   "source": [
    "ПОДДЕРЖАНИЕ GITHUB РЕПОЗИТОРИЯ В АКТУАЛЬНОМ СОСТОЯНИИ"
   ]
  },
  {
   "cell_type": "markdown",
   "metadata": {},
   "source": [
    "6 Как понять что ваш форк устарел?\n",
    "\n",
    "А. Через интерфейс GitHub:\n",
    "\n",
    "- Открыть свой форк на GitHub.\n",
    "- Нажать \"Compare\" или \"Compare & pull request\".\n",
    "- Выбрать оригинальный репозиторий и нужную ветку для сравнения.\n",
    "- Если появится список изменений, которых нет в Вашем форке, это означает, что Ваш форк устарел.\n",
    "\n",
    "Б. Через терминал:\n",
    "\n",
    "- Выполнить команду: git fetch upstream — она подтянет последние изменения из оригинального репозитория.\n",
    "- Далее использовать git status, чтобы проверить, отстает ли ваш форк и есть ли несинхронизированные изменения.\n",
    "\n",
    "В. Уведомления GitHub:\n",
    "- GitHub иногда автоматически уведомляет, что Ваш форк отстает от оригинала, отображая это на главной странице вашего форка.\n",
    "\n",
    "Эти способы помогут Вам вовремя обновлять форк и оставаться в курсе последних изменений."
   ]
  },
  {
   "cell_type": "markdown",
   "metadata": {},
   "source": [
    "6.1 Как обновить форк?\n",
    "\n",
    "Способ 1. Без предварительной конфигурации:\n",
    "А. Перейти на ветку master в локальном репозитории:\n",
    "```bash\n",
    "git checkout master\n",
    "```\n",
    "Б. Подтяните изменения из оригинального репозитория:\n",
    "```bash\n",
    "git pull \"URL_оригинального_репозитория\"\n",
    "```\n",
    "\n",
    "В. Отправьте обновления в свой форк на GitHub:\n",
    "```bash\n",
    "git push origin master\n",
    "```\n",
    "\n",
    "Способ 2. С предварительной конфигурацией (удобен для частых обновлений):\n",
    "А. Добавьте оригинальный репозиторий как удалённый с другим именем (например, upstream):\n",
    "```bash\n",
    "git remote add upstream \"URL_оригинального_репозитория\"\n",
    "```\n",
    "\n",
    "Б. Настройте локальную ветку master для отслеживания изменений из оригинального репозитория:\n",
    "```bash\n",
    "git branch --set-upstream-to=upstream/master master\n",
    "```\n",
    "В. Укажите origin как репозиторий по умолчанию для отправки изменений:\n",
    "```bash\n",
    "git config --local remote.pushDefault origin\n",
    "```\n",
    "\n",
    "Теперь процесс обновления будет проще:\n",
    "```bash\n",
    "git checkout master  \n",
    "git pull         # Подтянуть изменения из оригинала  \n",
    "git push         # Отправить их в свой форк  \n",
    "```\n",
    "\n",
    "Второй способ удобен для постоянного взаимодействия с оригинальным репозиторием, так как упрощает будущие обновления."
   ]
  },
  {
   "cell_type": "markdown",
   "metadata": {},
   "source": [
    "ДОБАВЛЕНИЕ УЧАСТНИКОВ"
   ]
  },
  {
   "cell_type": "markdown",
   "metadata": {},
   "source": [
    "7. Как добавить участников в ваш репозиторий, чтобы команда могла работать над одним репозиторием? (Рисунок 112)\n",
    "\n",
    "- Перейдите в раздел Settings Вашего репозитория.\n",
    "- В левой панели выберите Access.\n",
    "- Нажмите Collaborators, затем выберите Add people для добавления участников.\n",
    "\n",
    "После этого Вы сможете назначить коллег для совместной работы над репозиторием."
   ]
  },
  {
   "cell_type": "markdown",
   "metadata": {},
   "source": [
    "УПОМИНАНИЯ И УВЕДОМЛЕНИЯ"
   ]
  },
  {
   "cell_type": "markdown",
   "metadata": {},
   "source": [
    "8. Какой символ нужен для упоминания кого-либо? (Рисунок 118)\n",
    "\n",
    "@"
   ]
  },
  {
   "cell_type": "markdown",
   "metadata": {},
   "source": [
    "8.1 Где находится Центр уведомлений, напишите ссылку (Рисунок 121)\n",
    "\n",
    "https://github.com/notifications"
   ]
  },
  {
   "cell_type": "markdown",
   "metadata": {},
   "source": [
    "ОСОБЕННЫЕ ФАЙЛЫ"
   ]
  },
  {
   "cell_type": "markdown",
   "metadata": {},
   "source": [
    "9. Что такое и зачем нужен файл README\n",
    "\n",
    "Файл README предназначен для описания проекта и предоставления важной информации как пользователям, так и разработчикам. Он включает следующие разделы:\n",
    "\n",
    "- Описание назначения проекта\n",
    "- Инструкции по настройке и установке\n",
    "- Примеры использования\n",
    "- Информация о лицензии\n",
    "- Правила участия в проекте\n",
    "\n",
    "Этот файл помогает новым пользователям и участникам быстрее разобраться с проектом и понять, как с ним работать."
   ]
  },
  {
   "cell_type": "markdown",
   "metadata": {},
   "source": [
    "9.1 Что такое и зачем нужен файл CONTRIBUTING (Рисунок 122)\n",
    "\n",
    "Файл CONTRIBUTING содержит конкретные рекомендации и требования, которые нужно учитывать при создании новых запросов на слияние. Он помогает потенциальным участникам проекта ознакомиться с правилами и ожиданиями, прежде чем предложить изменения через pull request."
   ]
  },
  {
   "cell_type": "markdown",
   "metadata": {},
   "source": [
    "УПРАВЛЕНИЕ ПРОЕКТОМ"
   ]
  },
  {
   "cell_type": "markdown",
   "metadata": {},
   "source": [
    "10. Как измененить основную ветку (Рисунок 123)\n",
    "\n",
    "Перейдите в Settings Вашего репозитория, затем во вкладке General найдите раздел Default branch. Здесь Вы можете выбрать ветку, которая будет основной для создания запросов на слияние."
   ]
  },
  {
   "cell_type": "markdown",
   "metadata": {},
   "source": [
    "10.1. Как передать проект? какая кнопка? (рисунок 124)\n",
    "\n",
    "Перейдите в Settings Вашего репозитория, прокрутите страницу вниз до раздела Danger zone. В разделе Transfer ownership нажмите кнопку Transfer. Эта опция полезна, если Вы хотите передать проект другому пользователю или организации, например, когда проект развивается, и требуется передача управления."
   ]
  },
  {
   "cell_type": "markdown",
   "metadata": {},
   "source": [
    "10.2. Что такое файл .gitignore?\n",
    "\n",
    "Файл .gitignore — это специальный файл, который используется в Git для указания, какие файлы и папки не должны отслеживаться системой контроля версий."
   ]
  }
 ],
 "metadata": {
  "language_info": {
   "name": "python"
  }
 },
 "nbformat": 4,
 "nbformat_minor": 2
}

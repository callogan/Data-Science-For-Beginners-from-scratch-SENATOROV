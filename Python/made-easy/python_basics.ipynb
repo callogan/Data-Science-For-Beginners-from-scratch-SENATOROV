{
 "cells": [
  {
   "cell_type": "code",
   "execution_count": null,
   "metadata": {},
   "outputs": [],
   "source": [
    "\"\"\"Python basics.\"\"\""
   ]
  },
  {
   "cell_type": "markdown",
   "metadata": {},
   "source": [
    "### MAIN PYTHON MANIPULATIONS"
   ]
  },
  {
   "cell_type": "markdown",
   "metadata": {},
   "source": [
    "## Core number operations"
   ]
  },
  {
   "cell_type": "code",
   "execution_count": null,
   "metadata": {},
   "outputs": [],
   "source": [
    "import sys\n",
    "\n",
    "2 + 2"
   ]
  },
  {
   "cell_type": "code",
   "execution_count": null,
   "metadata": {},
   "outputs": [],
   "source": [
    "3 - 5"
   ]
  },
  {
   "cell_type": "code",
   "execution_count": null,
   "metadata": {},
   "outputs": [],
   "source": [
    "8 / 5  # division always returns a floating point number"
   ]
  },
  {
   "cell_type": "code",
   "execution_count": null,
   "metadata": {},
   "outputs": [],
   "source": [
    "17 // 3  # floor division discards the fractional part"
   ]
  },
  {
   "cell_type": "code",
   "execution_count": null,
   "metadata": {},
   "outputs": [],
   "source": [
    "17 % 3  # the % operator returns the remainder of the division"
   ]
  },
  {
   "cell_type": "markdown",
   "metadata": {},
   "source": [
    "5**2  # 5 squared"
   ]
  },
  {
   "cell_type": "markdown",
   "metadata": {},
   "source": [
    "## Strings basics\n",
    "\n",
    "**\\\\** can be used to escape quotes"
   ]
  },
  {
   "cell_type": "markdown",
   "metadata": {},
   "source": [
    "```python\n",
    "\"python strings\"  # single quotes\n",
    "```"
   ]
  },
  {
   "cell_type": "markdown",
   "metadata": {},
   "source": [
    "```python\n",
    "\"doesn't\"  # use \\' to escape the single quote...\n",
    "```"
   ]
  },
  {
   "cell_type": "markdown",
   "metadata": {},
   "source": [
    "```python\n",
    "\"doesn't\"  # double quotes\n",
    "```"
   ]
  },
  {
   "cell_type": "markdown",
   "metadata": {},
   "source": [
    "The print() function produces a more readable output, by omitting \\\n",
    "the enclosing quotes and by printing escaped and special characters"
   ]
  },
  {
   "cell_type": "markdown",
   "metadata": {},
   "source": [
    "print('\"Isn\\'t,\" they said.')"
   ]
  },
  {
   "cell_type": "markdown",
   "metadata": {},
   "source": [
    "If you don't want characters prefaced by “\\” to be interpreted as \\\n",
    "special characters, you can use raw strings by adding an r before the \\\n",
    "first quote"
   ]
  },
  {
   "cell_type": "code",
   "execution_count": null,
   "metadata": {},
   "outputs": [],
   "source": [
    "print(\"C:\\\\some\\name\")  # here \\n means newline!"
   ]
  },
  {
   "cell_type": "code",
   "execution_count": null,
   "metadata": {},
   "outputs": [],
   "source": [
    "print(r\"C:\\some\\name\")  # note the r before the quote"
   ]
  },
  {
   "cell_type": "markdown",
   "metadata": {},
   "source": [
    "Concatenation and Repetition Strings can \\\n",
    "be concatenated (glued together) with the + operator, \\\n",
    "and repeated with *. To remember this, it is simple. + \\\n",
    "operator adds, and * operator multiplies(see example)"
   ]
  },
  {
   "cell_type": "code",
   "execution_count": null,
   "metadata": {},
   "outputs": [],
   "source": [
    "print(\"a\" + \"b\")\n",
    "print(\"t\" * 5)\n",
    "print(\"no\" * 3 + \"dip\")"
   ]
  },
  {
   "cell_type": "markdown",
   "metadata": {},
   "source": [
    "Two or more string literals (i.e. the ones enclosed between quotes) \\\n",
    "next to each other are automatically concatenated."
   ]
  },
  {
   "cell_type": "markdown",
   "metadata": {},
   "source": [
    "```python\n",
    "\"nil\" \"abh\"\n",
    "```"
   ]
  },
  {
   "cell_type": "markdown",
   "metadata": {},
   "source": [
    "Indexing Strings can be indexed\n",
    "(subscripted), with the first character having \\\n",
    "index 0. There is no separate character type;\n",
    "a character is simply a string of size one."
   ]
  },
  {
   "cell_type": "code",
   "execution_count": null,
   "metadata": {},
   "outputs": [],
   "source": [
    "word = \"Python\"\n",
    "word[0]  # character in position 0"
   ]
  },
  {
   "cell_type": "markdown",
   "metadata": {},
   "source": [
    "Indices may also be negative numbers, to start counting from the\n",
    "right:"
   ]
  },
  {
   "cell_type": "code",
   "execution_count": null,
   "metadata": {},
   "outputs": [],
   "source": [
    "word[-4]"
   ]
  },
  {
   "cell_type": "markdown",
   "metadata": {},
   "source": [
    "Slicing In addition to indexing, slicing is also \n",
    "supported. While indexing is used to obtain \\\n",
    "individual characters, slicing allows you to\n",
    "obtain substring:"
   ]
  },
  {
   "cell_type": "code",
   "execution_count": null,
   "metadata": {},
   "outputs": [],
   "source": [
    "word[0:2]  # characters from position 0 (included) to 2 (excluded)"
   ]
  },
  {
   "cell_type": "markdown",
   "metadata": {},
   "source": [
    "Python strings cannot be changed — they are immutable. Therefore, \\\n",
    "assigning to an indexed position in the string results in an error So, if \\\n",
    "you try to assign a new value in the string, it will give you an error."
   ]
  },
  {
   "cell_type": "code",
   "execution_count": null,
   "metadata": {},
   "outputs": [],
   "source": [
    "# word[2] = \"l\""
   ]
  },
  {
   "cell_type": "code",
   "execution_count": null,
   "metadata": {},
   "outputs": [],
   "source": [
    "# The built-in function len() returns the length of a string:\n",
    "len(word)"
   ]
  },
  {
   "cell_type": "markdown",
   "metadata": {},
   "source": [
    "### OTHER PYTHON-RELATED AFFAIRS"
   ]
  },
  {
   "cell_type": "markdown",
   "metadata": {},
   "source": [
    "Syntax of Code in Python Statement Instructions written in the \\\n",
    "source code for execution are called statements. \n",
    "There are different types of statements in Python, \\\n",
    "like Assignment statement, Conditional \\\n",
    "statement, Looping statements, etc. These all help the user \\\n",
    "to get the required output.\n",
    "For example, n = 20 is an assignment statement. \n",
    "\n",
    "Terminating a Statement In Python, the end of the line means \\\n",
    "the end of the statement. \n",
    "\n",
    "Semicolon Can Optionally Terminate a Statement. Sometimes it can \\\n",
    "be used to put multiple statements on a single line.\\\n",
    "e.g. \\\n",
    "Multiple Statements in one line, Declared using semicolons (;):"
   ]
  },
  {
   "cell_type": "code",
   "execution_count": null,
   "metadata": {},
   "outputs": [],
   "source": [
    "lag = 2\n",
    "ropes = 3\n",
    "pole = 4"
   ]
  },
  {
   "cell_type": "markdown",
   "metadata": {},
   "source": [
    "Variables and Assignment One of the most powerful features of a programming \\\n",
    "language is the ability to manipulate variables. A variable is a \\\n",
    "name that refers to a value. Please note that the variable only refers to the \\\n",
    "value, to which it is assigned. It doesn't become equal to that value. The \\\n",
    "moment it is assigned to another value, the old assignment becomes null and\n",
    "void automatically.\n",
    "\n",
    "Variable names can be of any length and can contain both alphabets \\\n",
    "and numbers. They can be of uppercase or lowercase, but the same \\\n",
    "name in different cases are different variables, as you must remember, \\\n",
    "Python is case sensitive language\n",
    "\n",
    "Here’s a simple way to check which of the given variable names are invalid in Python: \n",
    "\n",
    "Summary of rules:\n",
    "\n",
    "* Must start with a letter or underscore (_).\n",
    "* Can contain letters, numbers, and underscores.\n",
    "* Cannot start with a number.\n",
    "* Cannot use Python keywords (reserved words).\n",
    "* Cannot contain spaces or special characters (*, @, %, etc.).\n"
   ]
  },
  {
   "cell_type": "markdown",
   "metadata": {},
   "source": [
    "```python\n",
    "# Fibonacci series: # the sum of two elements defines the next\n",
    "a = 0\n",
    "b = 1\n",
    "while a < 10:\n",
    "    print(a)\n",
    "    a, b = b, a + b\n",
    "```"
   ]
  },
  {
   "cell_type": "markdown",
   "metadata": {},
   "source": [
    "**Arguments** are anything that we pass in the function. \\\n",
    "Like, string or variable are the arguments. \\\n",
    "In Python, arguments are values passed to a function. \\\n",
    "When the number of arguments is unknown, we use *args, \\\n",
    "which allows passing multiple values as a tuple.\n",
    "\n",
    "**Keyword Arguments** in Python are the argument where you provide a name\n",
    "to the variable as you pass it into the function, like this: (key=value format), \\\n",
    "making the function call more readable and flexible.\n",
    "\n",
    "Example with print():"
   ]
  },
  {
   "cell_type": "code",
   "execution_count": null,
   "metadata": {},
   "outputs": [],
   "source": [
    "print([3, 5], sep=\" \", end=\"\\n\", file=sys.stdout, flush=False)"
   ]
  },
  {
   "cell_type": "markdown",
   "metadata": {},
   "source": [
    "**String formatting**"
   ]
  },
  {
   "cell_type": "markdown",
   "metadata": {},
   "source": [
    "```Python\n",
    "a = 5\n",
    "b = 6\n",
    "ab = 5 * 6\n",
    "print(f\"when {a} is multiplied by {b}, the result is {ab}\".format(a, b, ab))\n",
    "```"
   ]
  },
  {
   "cell_type": "markdown",
   "metadata": {},
   "source": [
    "**Troubleshooting** is essential when code doesn't work as expected. \\\n",
    "Python provides informative error messages to help identify issues.\n",
    "\n",
    "**Major Types of Errors Which Occur Most Frequently:**\n",
    "- Syntax Errors – occur when when the correct Python Syntax \\\n",
    "is not used (e.g., missing colons or parentheses).\n",
    "- Runtime Errors – take a place during program execution, frequently \\\n",
    "in wake of invalid operations (e.g., an attempt to divide the number by zero or using \\\n",
    "a variable before it was defined).\n",
    "- Semantic (Logic) Errors – occur in cases when the meaning of the program (its semantics) \\\n",
    "is wrong, producing unexpected results."
   ]
  },
  {
   "cell_type": "markdown",
   "metadata": {},
   "source": [
    "## 3.8 Answers to the exercises\n",
    "\n",
    "### 3.8.1\n",
    "\n",
    "1. \n",
    "- Intelligent Code Assistance – Features like code completion, syntax highlighting, and debugging streamline development.\n",
    "- Variable Explorer – Provides an intuitive way to track and inspect data within the workspace.\n",
    "- IPython Console – Enables interactive execution and real-time code testing.\n",
    "- Integrated Debugger – Helps in efficiently identifying and fixing errors within the code.\n",
    "- Pre-installed Scientific Libraries – Comes with essential tools like NumPy, Pandas, and Matplotlib, reducing setup time.\n",
    "2. \n",
    "- Addition (+) → a + b → Adds two numbers.\n",
    "- Subtraction (-) → a - b → Subtracts the second number from the first.\n",
    "- Multiplication (*) → a * b → Multiplies two numbers.\n",
    "- Division (/) → a / b → Performs division and always returns a float.\n",
    "- Floor Division (//) → a // b → Divides and returns the largest integer less than or equal to the result (rounds down).\n",
    "3. \n",
    "- Multiplication (*) → a * b → Multiplies two numbers (e.g., 3 * 4 = 12).\n",
    "- Exponentiation ()** → a ** b → Raises the first number to the power of the second (e.g., 3 ** 4 = 81).\n",
    "4. In Python, a statement is a single line of code that executes a specific action, defining the logic,        operations, or control flow within a program.\n",
    "5. A variable in Python is a named reference that stores a value. The = operator is used to assign a value to a variable.\n",
    "6. No, a variable cannot be named \"import\" in Python because \"import\" is a reserved keyword used for importing modules.\n",
    "7. No, the statement is incorrect. Python is case-sensitive, meaning \"math\", \"Math\", and \"MATH\" are treated as distinct identifiers.\n",
    "8. Use a comma to separate values, for instance: \n",
    "\n",
    "    ```python\n",
    "    flowers = [\"chamomile\", \"rose\", \"tulip\"]\n",
    "    x, y, z = flowers\n",
    "    ```\n",
    "9. A syntax error occurs when the Python interpreter fails to understand the code due to structural issues, such as missing colons, parentheses, or incorrect indentation. In contrast, a semantic error happens when the code executes without crashing but produces incorrect or unintended results due to logical mistakes.\n",
    "10. \n",
    "- The default separator (sep) in Python is a space (' '), which separates multiple arguments in the print() function.\n",
    "- The default end character (end) is a newline ('\\n'), meaning the output moves to the next line after printing.\n",
    "\n",
    "### 3.8.2\n",
    "\n",
    "1. False;\n",
    "2. True;\n",
    "3. False;\n",
    "4. False;\n",
    "5. False;\n",
    "6. False;\n",
    "7. False;\n",
    "8. True;\n",
    "9. False;\n",
    "10. True."
   ]
  },
  {
   "cell_type": "markdown",
   "metadata": {},
   "source": [
    "### 3.8.3"
   ]
  },
  {
   "cell_type": "code",
   "execution_count": null,
   "metadata": {},
   "outputs": [],
   "source": [
    "# 1\n",
    "\n",
    "first_name = \"Ruslan\"\n",
    "last_name = \"Kazmiryk\"\n",
    "print(first_name, last_name)"
   ]
  },
  {
   "cell_type": "markdown",
   "metadata": {},
   "source": [
    "# 2\n",
    "\n",
    "length = 23\n",
    "height = 8\n",
    "area = length * height\n",
    "area"
   ]
  },
  {
   "cell_type": "code",
   "execution_count": null,
   "metadata": {},
   "outputs": [],
   "source": [
    "# 3\n",
    "\n",
    "square_32 = 32**2\n",
    "cube_27 = 27**3"
   ]
  },
  {
   "cell_type": "code",
   "execution_count": null,
   "metadata": {},
   "outputs": [],
   "source": [
    "# 4\n",
    "\n",
    "# Assign values to variables\n",
    "a_num = 3\n",
    "b_num = 4\n",
    "\n",
    "# Calculate both sides of the equation\n",
    "\n",
    "# Left-hand side: (a + b)^2\n",
    "lhs = (a_num + b_num) ** 2\n",
    "\n",
    "# Right-hand side: a^2 + b^2 + 2ab\n",
    "rhs = a_num**2 + b_num**2 + 2 * a_num * b_num\n",
    "\n",
    "# Print results\n",
    "print(\"LHS:\", lhs)\n",
    "print(\"RHS:\", rhs)\n",
    "\n",
    "# Verify if both sides are equal\n",
    "print(\"Equation holds:\", lhs == rhs)"
   ]
  },
  {
   "cell_type": "code",
   "execution_count": null,
   "metadata": {},
   "outputs": [],
   "source": [
    "# 5\n",
    "\n",
    "len(\"Ruslan\")"
   ]
  },
  {
   "cell_type": "code",
   "execution_count": null,
   "metadata": {},
   "outputs": [],
   "source": [
    "# 6\n",
    "\n",
    "print(\"**********\")\n",
    "print(\"*        *\")\n",
    "print(\"*        *\")\n",
    "print(\"*        *\")\n",
    "print(\"**********\")"
   ]
  },
  {
   "cell_type": "code",
   "execution_count": null,
   "metadata": {},
   "outputs": [],
   "source": [
    "# 7\n",
    "\n",
    "print(\"PPPPPP\")\n",
    "print(\"P     P\")\n",
    "print(\"P     P\")\n",
    "print(\"PPPPPP\")\n",
    "print(\"P\")\n",
    "print(\"P\")\n",
    "print(\"P\")"
   ]
  },
  {
   "cell_type": "code",
   "execution_count": null,
   "metadata": {},
   "outputs": [],
   "source": [
    "# 8\n",
    "\n",
    "name = \"Ruslan\"\n",
    "age = 44\n",
    "\n",
    "print(f\"My name is {name} and my age is {age}\")"
   ]
  },
  {
   "cell_type": "code",
   "execution_count": null,
   "metadata": {},
   "outputs": [],
   "source": [
    "# 9\n",
    "\n",
    "words = [\"cat\", \"window\", \"defenestrate\"]\n",
    "for word in words:\n",
    "    print(word, len(word))"
   ]
  },
  {
   "cell_type": "code",
   "execution_count": null,
   "metadata": {},
   "outputs": [],
   "source": [
    "# 10\n",
    "\n",
    "a_num, b_num = 0, 1\n",
    "while a_num < 15:\n",
    "    print(a_num, end=\", \")\n",
    "    a_num, b_num = b_num, a_num + b_num"
   ]
  },
  {
   "cell_type": "markdown",
   "metadata": {},
   "source": [
    "## 3.8.4\n",
    "\n",
    "1. Done;\n",
    "2. Done;\n",
    "3. Done."
   ]
  }
 ],
 "metadata": {
  "language_info": {
   "name": "python"
  }
 },
 "nbformat": 4,
 "nbformat_minor": 2
}

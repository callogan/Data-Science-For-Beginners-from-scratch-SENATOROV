{
 "cells": [
  {
   "cell_type": "code",
   "execution_count": null,
   "metadata": {},
   "outputs": [],
   "source": [
    "\"\"\"Chapter 4 - Choosing understandable names.\"\"\""
   ]
  },
  {
   "cell_type": "markdown",
   "metadata": {},
   "source": [
    "**Casing styles**\n",
    "\n",
    "Since Python identifiers are case-sensitive and cannot contain spaces, programmers use different naming styles to represent multiple words in an identifier:\n",
    "\n",
    "- Snake case: Words are separated with an underscores (_), which looks like a flat snake in between each word \n",
    "(e.g., my_variable_name). All letters are lowercase, while constants are commonly written in upper snake case style \n",
    "(e.g., MAX_CONNECTIONS).\n",
    "- Camel case: Words are divided by capitalizing the first letter of each word after the initial one. Typically, the first word starts with a lowercase letter, and the capital letters in the middle mimic a camel’s humps \n",
    "(e.g., myVariableName).\n",
    "- Pascal case (PascalCase): Similar to camel case, but the first word also begins with a capital letter. This style is named after the Pascal programming language (e.g., MyClassName).\n",
    "\n",
    "Snake case and camel case are the most widely used styles. Although any naming convention can be selected, it’s important to stick to one consistently throughout a project."
   ]
  },
  {
   "cell_type": "markdown",
   "metadata": {},
   "source": [
    "**PEP 8’s Naming Conventions:**\n",
    "\n",
    "- All letters should be standard ASCII characters — both uppercase and lowercase English letters without accent marks.\n",
    "- Module names should be short and written in all lowercase letters.\n",
    "- Class names should follow PascalCase formatting.\n",
    "- Constant variables should be written using uppercase letters in SNAKE_CASE.\n",
    "- Names for functions, methods, and variables should use lowercase snake_case.\n",
    "- The first parameter in instance methods should always be named self (in lowercase).\n",
    "- The first parameter in class methods should always be named cls (in lowercase).\n",
    "- Private attributes in classes should always start with a single underscore (_).\n",
    "- Public attributes in classes should never start with an underscore."
   ]
  },
  {
   "cell_type": "markdown",
   "metadata": {},
   "source": [
    "**Best Practices and Useful Tips on Naming in Python**\n",
    "\n",
    "- Avoid using names that are too short (like h or aux) or unclear (such as start).\n",
    "- Prefer longer, descriptive names that make the code easier to read (for example, totalAnnualRevenue).\n",
    "- Short names are acceptable for loop counters (m, n, p) and coordinates (lat, lon).\n",
    "- Don’t use unnecessary prefixes — use attribute access directly (for instance, Dog.age instead of dogAge).\n",
    "- Avoid Hungarian notation (such as strTitle or bIsActive).\n",
    "- For boolean values, use prefixes like is_ or has_ (e.g., is_valid, has_access()).\n",
    "- Add units to variable names where relevant to avoid confusion (for example, distance_miles)."
   ]
  },
  {
   "cell_type": "markdown",
   "metadata": {},
   "source": [
    "**Hold off on Overwriting Built-in Names in Python**\n",
    "\n",
    "- Don’t use Python’s built-in names (like list, input, max, id, etc.) for your variables.\n",
    "- To check if a name is built-in, type it in the Python shell and see if it returns a function or object.\n",
    "- Avoid giving your .py files the same name as existing modules (for example, naming a file json.py can shadow the real json module).\n",
    "- If you encounter an unexpected AttributeError, it might be a sign that a built-in name was accidentally overwritten."
   ]
  }
 ],
 "metadata": {
  "language_info": {
   "name": "python"
  }
 },
 "nbformat": 4,
 "nbformat_minor": 2
}
